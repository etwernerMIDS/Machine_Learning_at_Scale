{
 "cells": [
  {
   "cell_type": "markdown",
   "metadata": {
    "application/vnd.databricks.v1+cell": {
     "inputWidgets": {},
     "nuid": "c052a4ea-9f23-4194-afc4-ef6472f60a3b",
     "showTitle": false,
     "title": ""
    }
   },
   "source": [
    "# HW 3 - Synonym Detection In Spark\n",
    "__`MIDS w261: Machine Learning at Scale | UC Berkeley School of Information | Fall 2018`__\n",
    "\n",
    "In the last homework assignment you performed Naive Bayes to classify documents as 'ham' or 'spam.' In doing so, we relied on the implicit assumption that the list of words in a document can tell us something about the nature of that document's content. We'll rely on a similar intuition this week: the idea that, if we analyze a large enough corpus of text, the list of words that appear in small window before or after a vocabulary term can tell us something about that term's meaning. This is similar to the intuition behind the word2vec algorithm.\n",
    "\n",
    "This will be your first assignment working in Spark. You'll perform Synonym Detection by repurposing an algorithm commonly used in Natural Language Processing to perform document similarity analysis. In doing so you'll also become familiar with important datatypes for efficiently processing sparse vectors and a number of set similarity metrics (e.g. Cosine, Jaccard, Dice). By the end of this homework you should be able to:  \n",
    "* ... __define__ the terms `one-hot encoding`, `co-occurrance matrix`, `stripe`, `inverted index`, `postings`, and `basis vocabulary` in the context of both synonym detection and document similarity analysis.\n",
    "* ... __explain__ the reasoning behind using a word stripe to compare word meanings.\n",
    "* ... __identify__ what makes set-similarity calculations computationally challenging.\n",
    "* ... __implement__ stateless algorithms in Spark to build stripes, inverted index and compute similarity metrics.\n",
    "* ... __identify__ when it makes sense to take a stripe approach and when to use pairs\n",
    "* ... __apply__ appropriate metrics to assess the performance of your synonym detection algorithm. \n",
    "\n",
    "__RECOMMENDED READING FOR HW3__:\t\n",
    "Your reading assignment for weeks 4 and 5 were fairly heavy and you may have glossed over the papers on dimension independent similarity metrics by [Zadeh et al](http://stanford.edu/~rezab/papers/disco.pdf) and pairwise document similarity by [Elsayed et al](https://terpconnect.umd.edu/~oard/pdf/acl08elsayed2.pdf). If you haven't already, this would be a good time to review those readings, especially when it comes to the similarity formulas -- they are directly relevant to this assignment.\n",
    "\n",
    "DITP Chapter 4 - Inverted Indexing for Text Retrieval. While this text is specific to Hadoop, the Map/Reduce concepts still apply.\n",
    "\n",
    "__Please refer to the `README` for homework submission instructions and additional resources.__"
   ]
  },
  {
   "cell_type": "markdown",
   "metadata": {
    "application/vnd.databricks.v1+cell": {
     "inputWidgets": {},
     "nuid": "516b0fa3-8a8e-4279-a9a9-d0e2610edca0",
     "showTitle": false,
     "title": ""
    }
   },
   "source": [
    "# Notebook Set-Up\n",
    "Before starting your homework run the following cells to confirm your setup."
   ]
  },
  {
   "cell_type": "code",
   "execution_count": 1,
   "metadata": {
    "application/vnd.databricks.v1+cell": {
     "inputWidgets": {},
     "nuid": "6f5abc60-dcd4-468a-b0f2-250552a36386",
     "showTitle": false,
     "title": ""
    }
   },
   "outputs": [],
   "source": [
    "import re\n",
    "import ast\n",
    "import time\n",
    "import itertools\n",
    "import numpy as np\n",
    "import pandas as pd\n",
    "import matplotlib.pyplot as plt"
   ]
  },
  {
   "cell_type": "code",
   "execution_count": 2,
   "metadata": {
    "application/vnd.databricks.v1+cell": {
     "inputWidgets": {},
     "nuid": "6f5abc60-dcd4-468a-b0f2-250552a36386",
     "showTitle": false,
     "title": ""
    }
   },
   "outputs": [],
   "source": [
    "# store path to notebook\n",
    "PWD = !pwd\n",
    "PWD = PWD[0]"
   ]
  },
  {
   "cell_type": "code",
   "execution_count": 3,
   "metadata": {
    "application/vnd.databricks.v1+cell": {
     "inputWidgets": {},
     "nuid": "6f5abc60-dcd4-468a-b0f2-250552a36386",
     "showTitle": false,
     "title": ""
    }
   },
   "outputs": [
    {
     "name": "stderr",
     "output_type": "stream",
     "text": [
      "WARNING: An illegal reflective access operation has occurred\n",
      "WARNING: Illegal reflective access by org.apache.spark.unsafe.Platform (file:/usr/local/spark-3.1.2-bin-hadoop3.2/jars/spark-unsafe_2.12-3.1.2.jar) to constructor java.nio.DirectByteBuffer(long,int)\n",
      "WARNING: Please consider reporting this to the maintainers of org.apache.spark.unsafe.Platform\n",
      "WARNING: Use --illegal-access=warn to enable warnings of further illegal reflective access operations\n",
      "WARNING: All illegal access operations will be denied in a future release\n",
      "21/10/01 18:35:35 WARN NativeCodeLoader: Unable to load native-hadoop library for your platform... using builtin-java classes where applicable\n",
      "Using Spark's default log4j profile: org/apache/spark/log4j-defaults.properties\n",
      "Setting default log level to \"WARN\".\n",
      "To adjust logging level use sc.setLogLevel(newLevel). For SparkR, use setLogLevel(newLevel).\n"
     ]
    }
   ],
   "source": [
    "# start Spark Session (RUN THIS CELL AS IS)\n",
    "from pyspark.sql import SparkSession\n",
    "app_name = \"hw3_notebook\"\n",
    "master = \"local[*]\"\n",
    "spark = SparkSession\\\n",
    "        .builder\\\n",
    "        .appName(app_name)\\\n",
    "        .master(master)\\\n",
    "        .getOrCreate()\n",
    "sc = spark.sparkContext"
   ]
  },
  {
   "cell_type": "code",
   "execution_count": 4,
   "metadata": {
    "application/vnd.databricks.v1+cell": {
     "inputWidgets": {},
     "nuid": "6f5abc60-dcd4-468a-b0f2-250552a36386",
     "showTitle": false,
     "title": ""
    }
   },
   "outputs": [
    {
     "data": {
      "text/plain": [
       "[('spark.driver.port', '42391'),\n",
       " ('spark.app.id', 'local-1633113338537'),\n",
       " ('spark.app.name', 'hw3_notebook'),\n",
       " ('spark.executor.id', 'driver'),\n",
       " ('spark.driver.host', 'docker.w261'),\n",
       " ('spark.driver.extraJavaOptions',\n",
       "  '-Dio.netty.tryReflectionSetAccessible=true'),\n",
       " ('spark.sql.warehouse.dir',\n",
       "  'file:/home/erinwerner1997_gmail_com/Assignments/HW3/docker/student/spark-warehouse'),\n",
       " ('spark.rdd.compress', 'True'),\n",
       " ('spark.app.startTime', '1633113336564'),\n",
       " ('spark.serializer.objectStreamReset', '100'),\n",
       " ('spark.master', 'local[*]'),\n",
       " ('spark.submit.pyFiles', ''),\n",
       " ('spark.submit.deployMode', 'client'),\n",
       " ('spark.executor.extraJavaOptions',\n",
       "  '-Dio.netty.tryReflectionSetAccessible=true'),\n",
       " ('spark.ui.showConsoleProgress', 'true')]"
      ]
     },
     "execution_count": 4,
     "metadata": {},
     "output_type": "execute_result"
    }
   ],
   "source": [
    "# Spark configuration Information (RUN THIS CELL AS IS)\n",
    "sc.getConf().getAll()"
   ]
  },
  {
   "cell_type": "code",
   "execution_count": 5,
   "metadata": {
    "application/vnd.databricks.v1+cell": {
     "inputWidgets": {},
     "nuid": "7909b057-ba61-490a-95e7-e60c7cb06c04",
     "showTitle": false,
     "title": ""
    }
   },
   "outputs": [
    {
     "data": {
      "text/html": [
       "\n",
       "            <div>\n",
       "                <p><b>SparkSession - in-memory</b></p>\n",
       "                \n",
       "        <div>\n",
       "            <p><b>SparkContext</b></p>\n",
       "\n",
       "            <p><a href=\"http://docker.w261:4040\">Spark UI</a></p>\n",
       "\n",
       "            <dl>\n",
       "              <dt>Version</dt>\n",
       "                <dd><code>v3.1.2</code></dd>\n",
       "              <dt>Master</dt>\n",
       "                <dd><code>local[*]</code></dd>\n",
       "              <dt>AppName</dt>\n",
       "                <dd><code>hw3_notebook</code></dd>\n",
       "            </dl>\n",
       "        </div>\n",
       "        \n",
       "            </div>\n",
       "        "
      ],
      "text/plain": [
       "<pyspark.sql.session.SparkSession at 0x7ff840c347c0>"
      ]
     },
     "execution_count": 5,
     "metadata": {},
     "output_type": "execute_result"
    }
   ],
   "source": [
    "# get Spark Session info (RUN THIS CELL AS IS)\n",
    "spark"
   ]
  },
  {
   "cell_type": "code",
   "execution_count": 6,
   "metadata": {},
   "outputs": [],
   "source": [
    "for (id, rdd) in sc._jsc.getPersistentRDDs().items():\n",
    "    rdd.unpersist()\n",
    "    print(\"Unpersisted {} rdd\".format(id))"
   ]
  },
  {
   "cell_type": "markdown",
   "metadata": {
    "application/vnd.databricks.v1+cell": {
     "inputWidgets": {},
     "nuid": "5cf6e6b5-5993-4e10-9da2-47429244cfda",
     "showTitle": false,
     "title": ""
    }
   },
   "source": [
    "# Question 1: Spark Basics.\n",
    "In your readings and live session demos for weeks 4 and 5 you got a crash course in working with Spark. We also talked about how Spark RDDs fit into the broader picture of distributed algorithm design. The questions below cover key points from these discussions. Answer each one very briefly - 2 to 3 sentences.\n",
    "\n",
    "### Q1 Tasks:\n",
    "\n",
    "* __a) short response:__ What is Spark? How  does it relate to Hadoop MapReduce?\n",
    "\n",
    "* __b) short response:__ In what ways does Spark follow the principles of statelessness (a.k.a. functional programming)? List at least one way in which it allows the programmer to depart from this principle. \n",
    "\n",
    "* __c) short response:__ In the context of Spark what is a 'DAG' and how does it relate to the difference between an 'action' and a 'transformation'? Why is it useful to pay attention to the DAG that underlies your Spark implementation?"
   ]
  },
  {
   "cell_type": "markdown",
   "metadata": {
    "application/vnd.databricks.v1+cell": {
     "inputWidgets": {},
     "nuid": "d8876d5d-05fe-47a5-b61b-a251ee4ebc6a",
     "showTitle": false,
     "title": ""
    }
   },
   "source": [
    "### Q1 Student Answers:\n",
    "\n",
    "> __a)__ \n",
    "\n",
    "Spark is an open-source, distributed processing system used for big data workloads that utilizes in-memory caching and optimized query execution for fast queries against data of any size. Spark is closely related to MapReduce in functionality, with the primary difference being that Spark processes and retains data in memory for subsequent steps, whereas MapReduce processes data on disk. As a result, for smaller workloads, Spark's data processing speeds are much faster than MapReduce.\n",
    "\n",
    "> __b)__ \n",
    "\n",
    "Spark follows the principles of statelessness (functional programming), but also allows the programmer to depart from these princlies. This is because Spark Streaming uses the concept of DStreams, which are basically micro batches of data that are RDDs. DStream transformations can be both stateless, which follows the principles of functional programming, and stateful, which deviates from those same principles. While some of Spark's RDD operators are stateless, such as map or filter, the programmer can also implement stateful features as they may also ask Spark to persist an RDD in memory, allowing it to be reused efficiently across parallel operations.\n",
    "\n",
    "> __c)__ \n",
    "\n",
    "A DAG is a directed acyclic graph. Spark keeps track of a DAG that contains the list of transformations needed to recreate each RDD and only actually performs those transformations when an action is called. It is useful to pay attention to the DAGs as they are, essentially, an execution plan that allows transformations to be evaluated lazily when triggered by an action and more complex DAGs may need to reuse the contents of an RDD for multiple downstream operations. This information is especially useful when checking the results of our Spark streaming jobs.\n"
   ]
  },
  {
   "cell_type": "markdown",
   "metadata": {
    "application/vnd.databricks.v1+cell": {
     "inputWidgets": {},
     "nuid": "c2542400-9725-4996-94c2-313025d682ba",
     "showTitle": false,
     "title": ""
    }
   },
   "source": [
    "# Question 2: Similarity Metrics\n",
    "As mentioned in the introduction to this assignment, an intuitive way to compare the meaning of two documents is to compare the list of words they contain. Given a vocabulary \\\\(V\\\\) (feature set) we would represent each document as a vector of `1`-s and `0`-s based on whether or not it contains each word in \\\\(V\\\\). These \"one-hot encoded\" vector representations allow us to use math to identify similar documents. However like many NLP tasks the high-dimensionality of the feature space is a challenge... especially when we start to scale up the size and number of documents we want to compare.\n",
    "\n",
    "In this question we'll look at a toy example of document similarity analysis. Consider these 3 'documents': \n",
    "```\n",
    "docA\tthe flight of a bumblebee\n",
    "docB\tthe length of a flight\n",
    "docC\tbuzzing bumblebee flight\n",
    "```\n",
    "These documents have a total of \\\\(7\\\\) unique words: \n",
    ">`a, bumblebee, buzzing, flight, length, of, the`.     \n",
    "\n",
    "Given this vocabulary, the documents' vector representations are (note that one-hot encoded entries follow the order of the vocab list above):\n",
    "\n",
    "```\n",
    "docA\t[1,1,0,1,0,1,1]\n",
    "docB\t[1,0,0,1,1,1,1]\n",
    "docC\t[0,1,1,1,0,0,0]\n",
    "```  \n",
    "\n",
    "### Q2 Tasks:\n",
    "\n",
    "* __a) short response:__ The cosine similarity between two vectors is $$\\frac{A\\cdot B}{\\|A\\|\\|B\\|}$$. Explain what the the numerator and denominator of this calculation would represent in terms of word counts in documents A and B. \n",
    "\n",
    "* __b) short response:__ Explain how the Jaccard, Overlap and Dice metrics are similar/different to the calculation for cosine similarity. When would these metrics lead to different similarity rankings for a set of documents? HINT: consider documents of very different lengths. It may be helpful to generate some small examples.\n",
    "\n",
    "* __c) short response:__ Calculate the cosine similarity for each pair of documents in our toy corpus. Please use markdown and \\\\(\\LaTeX\\\\) to show your calcuations.  \n",
    "\n",
    "* __d) short response:__ According to your calculations in `part c` which pair of documents are most similar in meaning? __BONUS__: Does this match your expecatation from reading the documents? If not, speculate about why we might have gotten this result.\n",
    "\n",
    "* __e) short response:__ In NLP common words like '`the`', '`of`', and '`a`' increase our feature space without adding a lot of signal about _semantic meaning_. Repeat your analysis from `part c` but this time ignore these three words in your calculations [__`TIP:`__ _to 'remove' stopwords just ignore the vector entries in columns corresponding to the words you wish to disregard_]. How do your results change?"
   ]
  },
  {
   "cell_type": "markdown",
   "metadata": {
    "application/vnd.databricks.v1+cell": {
     "inputWidgets": {},
     "nuid": "4b5124c4-8817-422f-ba04-ad6d4de5ff9d",
     "showTitle": false,
     "title": ""
    }
   },
   "source": [
    "### Q2 Student Answers:\n",
    "\n",
    "> __a)__ \n",
    "\n",
    "With cosine similarity, we’re considering vectors in spaces. The cosine similarity ranges from -1 to 1, and gets larger when the angle in question is smaller. In the numerator, the dot product of two vectors describes the extent that the vectors point in the same direction. It is defined as: $\\sum{a_i * b_i}$. A dot product is a scalar, and can be positive or negative. If the dot product is zero, vectors are perpendicular (properly: they are orthogonal) and don’t point in any of the same directions. If positive, they point in the same direction. If negative, they point in opposite directions. Thus, the numerator of cosine similarity is a bare dot product. In the denominator, the norm of a vector describes its length or magnitude: how ‘far’ it is pointing. This is computed as: $||a|| = \\sqrt{\\sum{a_i^2}}$. Norms are always positive scalar values. So, the denominator is related to the size of the sets that each vector represents.\n",
    "\n",
    "In the context of word counts in documents A and B, we need to consider both parts of the equation. The numerator can only increase when a term is present in both documents, and it goes up by the product of the two weightings. So this part of the equation can be understood as a kind of numerical intersection, where more strongly weighted words increase its value. The denominator of the cosine similarity is the product of its two vector norms. Dividing a vector by its norm rescales its components so that the length is 1. This allows us to compare each document on equal footing. \n",
    "\n",
    "> __b)__ \n",
    "\n",
    "Cosine similarity is a measure of similarity between two vectors of an inner product space that measures the cosine of the angle between them. There are other similarity metrics besides cosine similarity - although they vary from it, they have some similarities to it as well.\n",
    "\n",
    "First, there is the Jaccard similarity, which is used for comparing the similarity and diversity of sample sets. The formula is as follows: $$\\frac{|A \\cap B|}{|A \\cup B|}$$\n",
    "The Jaccard coefficient measures the similarity between finite sample sets, and is defined as the size of the intersection divided by the size of the union of the sample sets. So, although it is similar to the cosine similarity, the Jaccard similarity takes only a unique set of words for each sentence or document while the cosine similarity takes the total length of the vectors. Thus, in Jaccard Similarity, the number of common attributes is divided by the number of attributes that exist in at least one of the two objects.\n",
    "\n",
    "Then, there is the overlap coefficient, which is a similarity measure that measures the overlap between two finite sets. It is similar to the Jaccard similarity and is defined as the size of the intersection divided by the smaller of the size of the two sets, as follows: $$\\frac{|A \\cap B|}{min(|A|, |B|)}$$\n",
    "\n",
    "So it is similar to the cosine similarity, but the denominator represents the smaller size of the two sets. Thus, it represents the percentage of overlap as it relates only to the smallest volume.\n",
    "\n",
    "Last, there is also the Dice metric, which is represented by the following formula: $$\\frac{2 |A \\cap B|}{|A| + |B|}$$\n",
    "\n",
    "The Dice Coefficient can be seen as the percentage of overlap between the two sets, that is a number between 0 and 1. It is similar to the cosine similarity, but it is different as it only counts true positives once in both the numerator and denominator. It can be viewed as a similarity measure over sets.\n",
    "\n",
    "Overall, these metrics would lead to different similarity rankings for sets of documents with longer lengths. This is because cosine considers the total document length, whereas these other metrics consider the unique terms within the document. As a result, Jaccard index can be useful in some domains like semantic segmentation, text mining, E-Commerce, and recommendation systems and Dice is used in lexicography, image segmentation, and other applications.\n",
    "\n",
    "> __c)__ \n",
    "\n",
    "$$cos(docA, docB) = \\frac{(1+0+0+1+0+1+1)}{(5)(5)} = \\frac{4}{25} = 0.16 $$\n",
    "\n",
    "$$cos(docB, docC) = \\frac{(0+0+0+1+0+0+0)}{(5)(3)} = \\frac{1}{15} = 0.067 $$\n",
    "\n",
    "$$cos(docA, docC) = \\frac{(0+1+0+1+0+0+0)}{(5)(3)} = \\frac{2}{15} = 0.134 $$\n",
    "\n",
    "> __d)__ \n",
    "\n",
    "In this example, docA and docB are considered the most similar in meaning.\n",
    "\n",
    "> __d-bonus)__ \n",
    "\n",
    "The results of my calculations, being that docA and docB have the highest cosine score, are different than expected. This is most likely because docA and docB have three of the exact same words, which is more than the amount of matching words in the other pairs of documents. However, these words are very common (i.e. “the”, “of”, and “a”). Although there are more meaningful similar words for docA and docC as well as docB and docC, there are less shared instances. So, the cosine similarity scores are consequently lower. \n",
    "\n",
    "> __e)__ \n",
    "\n",
    "$$cos(docA, docB) = \\frac{(0+0+0+1+0+0+0)}{(2)(2)} = \\frac{1}{4} = 0.25 $$\n",
    "\n",
    "$$cos(docB, docC) = \\frac{(0+0+0+1+0+0+0)}{(2)(3)} = \\frac{1}{6} = 0.167 $$\n",
    "\n",
    "$$cos(docA, docC) = \\frac{(0+1+0+1+0+0+0)}{(2)(3)} = \\frac{2}{6} = 0.34 $$\n",
    "\n",
    "\n",
    "Thus, by removing the stopwords from our corpus, our results have changed. This removal allowed for there to be more focus on the words which define the meaning of the text. Now, words that have more relevant meaning have greater representation and a higher weight in the calculation. So, docA and docC are then considered to be the most similar in meaning."
   ]
  },
  {
   "cell_type": "markdown",
   "metadata": {
    "application/vnd.databricks.v1+cell": {
     "inputWidgets": {},
     "nuid": "9b5fd240-e9d2-44a2-8fa8-9c6adfa5df05",
     "showTitle": false,
     "title": ""
    }
   },
   "source": [
    "# Question 3: Synonym Detection Strategy\n",
    "\n",
    "In the Synonym Detection task we want to compare the meaning of words, not documents. For clarity, lets call the words whose meaning we want to compare `terms`. If only we had a 'meaning document' for each `term` then we could easily use the document similarity strategy from Question 2 to figure out which `terms` have similar meaning (i.e. are 'synonyms'). Of course in order for that to work we'd have to reasonably believe that the words in these 'meaning documents' really do reflect the meaning of the `term`. For a good analysis we'd also need these 'meaning documents' to be fairly long -- the one or two sentence dictionary definition of a term isn't going to provide enough signal to distinguish between thousands and thousands of `term` meanings.\n",
    "\n",
    "This is where the idea of co-occurrance comes in. Just like DocSim makes the assumption that words in a document tell us about the document's meaning, we're going to assume that the set of words that 'co-occur' within a small window around our term can tell us some thing about the meaning of that `term`. Remember that we're going to make this 'co-words' list (a.k.a. 'stripe') by looking at a large body of text. This stripe is our 'meaning document' in that it reflects all the kinds of situations in which our `term` gets used in real language. So another way to phrase our assumption is: we think `terms` that get used to complete lots of the same phrases probably have related meanings. This may seem like an odd assumption but computational linguists have found that it works surprisingly well in practice. Let's look at a toy example to build your intuition for why and how.\n",
    "\n",
    "Consider the opening line of Charles Dickens' _A Tale of Two Cities_:"
   ]
  },
  {
   "cell_type": "code",
   "execution_count": 6,
   "metadata": {
    "application/vnd.databricks.v1+cell": {
     "inputWidgets": {},
     "nuid": "b7504e66-ef09-472a-909b-bea5b1f5e393",
     "showTitle": false,
     "title": ""
    }
   },
   "outputs": [],
   "source": [
    "# (RUN THIS CELL AS IS)\n",
    "corpus = \"\"\"It was the best of times, it was the worst of times, \n",
    "it was the age of wisdom it was the age of foolishness\"\"\""
   ]
  },
  {
   "cell_type": "markdown",
   "metadata": {
    "application/vnd.databricks.v1+cell": {
     "inputWidgets": {},
     "nuid": "7676fba9-0e45-4f63-876d-89132d7b25c1",
     "showTitle": false,
     "title": ""
    }
   },
   "source": [
    "There are a total of 10 unique words in this short 'corpus':"
   ]
  },
  {
   "cell_type": "code",
   "execution_count": 7,
   "metadata": {
    "application/vnd.databricks.v1+cell": {
     "inputWidgets": {},
     "nuid": "520d6d4c-336a-4df2-b518-a1e48c00bc98",
     "showTitle": false,
     "title": ""
    }
   },
   "outputs": [
    {
     "name": "stdout",
     "output_type": "stream",
     "text": [
      "['times', 'it', 'age', 'wisdom', 'best', 'worst', 'of', 'foolishness', 'the', 'was']\n"
     ]
    }
   ],
   "source": [
    "# (RUN THIS CELL AS IS)\n",
    "words = list(set(re.findall(r'\\w+', corpus.lower())))\n",
    "print(words)"
   ]
  },
  {
   "cell_type": "markdown",
   "metadata": {
    "application/vnd.databricks.v1+cell": {
     "inputWidgets": {},
     "nuid": "b095aa02-95a8-4ac1-9a1c-b7b6c985916a",
     "showTitle": false,
     "title": ""
    }
   },
   "source": [
    "But of these 10 words, 4 are so common that they probably don't tell us very much about meaning."
   ]
  },
  {
   "cell_type": "code",
   "execution_count": 8,
   "metadata": {
    "application/vnd.databricks.v1+cell": {
     "inputWidgets": {},
     "nuid": "fec9f761-d5db-4c48-90cc-85303e7e3335",
     "showTitle": false,
     "title": ""
    }
   },
   "outputs": [],
   "source": [
    "# (RUN THIS CELL AS IS)\n",
    "stopwords = [\"it\", \"the\", \"was\", \"of\"]"
   ]
  },
  {
   "cell_type": "markdown",
   "metadata": {
    "application/vnd.databricks.v1+cell": {
     "inputWidgets": {},
     "nuid": "d5a85035-6a79-476a-807b-cbcbdb71579e",
     "showTitle": false,
     "title": ""
    }
   },
   "source": [
    "So we'll ignore these 'stop words' and we're left with a 6 word vocabulary:"
   ]
  },
  {
   "cell_type": "code",
   "execution_count": 9,
   "metadata": {
    "application/vnd.databricks.v1+cell": {
     "inputWidgets": {},
     "nuid": "117ecf80-a449-4cc5-9fa6-c5f5128a4daa",
     "showTitle": false,
     "title": ""
    }
   },
   "outputs": [
    {
     "name": "stdout",
     "output_type": "stream",
     "text": [
      "['age', 'best', 'foolishness', 'times', 'wisdom', 'worst']\n"
     ]
    }
   ],
   "source": [
    "# (RUN THIS CELL AS IS)\n",
    "vocab = sorted([w for w in words if w not in stopwords])\n",
    "print(vocab)"
   ]
  },
  {
   "cell_type": "markdown",
   "metadata": {
    "application/vnd.databricks.v1+cell": {
     "inputWidgets": {},
     "nuid": "b833d4bf-fe53-4ca1-bf82-733995aed493",
     "showTitle": false,
     "title": ""
    }
   },
   "source": [
    "Your goal in the tasks below is to asses, which of these six words are most related to each other in meaning -- based solely on this short two line body of text.\n",
    "\n",
    "### Q3 Tasks:\n",
    "\n",
    "* __a) short response:__ Given this six word vocabulary, how many 'pairs' of words do we want to compare? More generally for a n-word vocabulary how many pairwise comparisons are there to make? \n",
    "\n",
    "* __b) code:__ In the space provided below, create a 'stripe' for each `term` in the vocabulary. This stripe should be the list of all other vocabulary words that occur within a __5 word window__ (two words on either side) of the `term`'s position in the original text (In this exercise, use ['it', 'was', 'the','of'] as stopwords, just ignore them from your 5 word vectors).\n",
    "\n",
    "* __c) short response:__ Run the provided code to turn your stripes into a 1-hot encoded co-occurrence matrix. For our 6 word vocabulary how many entries are in this matrix? How many entries are zeros? \n",
    "\n",
    "* __d) code:__ Complete the provided code to loop over all pairs and compute their cosine similarity. Please do not modify the existing code, just add your own in the spot marked.\n",
    "\n",
    "* __e) short response:__ Which pairs of words have the highest 'similarity' scores? __BONUS__: Are these words 'synonyms' in the traditional sense? In what sense are their meanings 'similar'? Explain how our results are contingent on the input text. What would change if we had a much larger corpus?"
   ]
  },
  {
   "cell_type": "markdown",
   "metadata": {
    "application/vnd.databricks.v1+cell": {
     "inputWidgets": {},
     "nuid": "06d178ec-c8bf-42aa-8d67-a09ba61187f4",
     "showTitle": false,
     "title": ""
    }
   },
   "source": [
    "### Q3 Student Answers:\n",
    "\n",
    "> __a)__ \n",
    "\n",
    "Given this six word vocabulary, we want to compare 15 'pairs' of words. More generally, for a n-word vocabulary where $m = n - 1$, there are $\\frac{(m^2 + m)}{2}$, or the $(m)$th triangular number, pairwise comparisons to make.\n",
    "\n",
    "> __c)__ \n",
    "\n",
    "For our 6 word vocabulary, we have a 6 X 6 matrix, which produces 36 entries in total. Of these entries, 28 of the entries are 0.\n",
    "\n",
    "> __e)__ \n",
    "\n",
    "The pairs of words with the highest similarities are 'best' and 'worst' as well as 'foolishness' and 'wisdom' - both with a cosine similarity score of 1.0.\n",
    "\n",
    "> __e-bonus)__ \n",
    "\n",
    "These pairs of words are not synonyms, in fact they are actually antonyms in the traditional sense. Their meanings are 'similar' in relation to the semantic sentence structure in which they were used. So, they are used in similar ways, in order to simultaneously express contradictory ideas. So, our results are contingent on the input of the text. This is due to word-ordering and sentence structure because we are limited to the 5 surrounding words. If we had a much larger corpus, we would be able to generate more diverse word-pairings as that would allow for different word-ordering opportunities."
   ]
  },
  {
   "cell_type": "code",
   "execution_count": 10,
   "metadata": {
    "application/vnd.databricks.v1+cell": {
     "inputWidgets": {},
     "nuid": "429c15b1-d1bd-4b04-a6e7-175e336a1907",
     "showTitle": false,
     "title": ""
    }
   },
   "outputs": [
    {
     "name": "stdout",
     "output_type": "stream",
     "text": [
      "CORPUS:\n",
      "It was the best of times, it was the worst of times, \n",
      "it was the age of wisdom it was the age of foolishness\n",
      "VOCAB:\n",
      "['age', 'best', 'foolishness', 'times', 'wisdom', 'worst']\n"
     ]
    }
   ],
   "source": [
    "# for convenience, here are the corpus & vocab list again (RUN THIS CELL AS IS)\n",
    "print(\"CORPUS:\")\n",
    "print(corpus)\n",
    "print('VOCAB:')\n",
    "print(vocab)"
   ]
  },
  {
   "cell_type": "markdown",
   "metadata": {
    "application/vnd.databricks.v1+cell": {
     "inputWidgets": {},
     "nuid": "482cae9e-bee6-48ab-97e4-175f993e0834",
     "showTitle": false,
     "title": ""
    }
   },
   "source": [
    "<img src='https://github.com/kyleiwaniec/w261_assets/blob/master/images/best-of-times.png?raw=true' style='width:80%'>"
   ]
  },
  {
   "cell_type": "code",
   "execution_count": 11,
   "metadata": {
    "application/vnd.databricks.v1+cell": {
     "inputWidgets": {},
     "nuid": "72c12700-cffd-4ef4-b408-f5809acc6671",
     "showTitle": false,
     "title": ""
    }
   },
   "outputs": [],
   "source": [
    "# part b - USE THE TEXT ABOVE TO COMPLETE EACH STRIPE\n",
    "# Stopwords: \n",
    "#     ['it', 'was', 'the', 'of'] \n",
    "# Hint:\n",
    "#     In provided sentence, age appears in two 5 word vectors: ['was', 'the', 'age', 'of', 'wisdom'] and ['was', 'the', 'age', 'of', 'foolishness']\n",
    "#     After removing stopwords, the remaining words are 'wisdom' and 'foolishness'\n",
    "#\n",
    "#     You finish the rest of the non-stopwords below. \n",
    "\n",
    "stripes = {'age':['wisdom','foolishness'], # example\n",
    "           'best':['times'], # YOU FILL IN THE REST\n",
    "           'foolishness':['age'],\n",
    "           'times': ['best', 'worst'],\n",
    "           'wisdom':['age'],\n",
    "           'worst':['times']}"
   ]
  },
  {
   "cell_type": "code",
   "execution_count": 12,
   "metadata": {
    "application/vnd.databricks.v1+cell": {
     "inputWidgets": {},
     "nuid": "38f4b1a4-3e91-4976-89d3-07b4942215bd",
     "showTitle": false,
     "title": ""
    }
   },
   "outputs": [],
   "source": [
    "# part c - initializing an empty co-occurrence matrix (RUN THIS CELL AS IS)\n",
    "co_matrix = pd.DataFrame({term: [0]*len(vocab) for term in vocab}, index = vocab, dtype=int)"
   ]
  },
  {
   "cell_type": "code",
   "execution_count": 13,
   "metadata": {
    "application/vnd.databricks.v1+cell": {
     "inputWidgets": {},
     "nuid": "bac747a0-a1e3-4795-aa2c-c010b10ab979",
     "showTitle": false,
     "title": ""
    }
   },
   "outputs": [
    {
     "data": {
      "text/html": [
       "<div>\n",
       "<style scoped>\n",
       "    .dataframe tbody tr th:only-of-type {\n",
       "        vertical-align: middle;\n",
       "    }\n",
       "\n",
       "    .dataframe tbody tr th {\n",
       "        vertical-align: top;\n",
       "    }\n",
       "\n",
       "    .dataframe thead th {\n",
       "        text-align: right;\n",
       "    }\n",
       "</style>\n",
       "<table border=\"1\" class=\"dataframe\">\n",
       "  <thead>\n",
       "    <tr style=\"text-align: right;\">\n",
       "      <th></th>\n",
       "      <th>age</th>\n",
       "      <th>best</th>\n",
       "      <th>foolishness</th>\n",
       "      <th>times</th>\n",
       "      <th>wisdom</th>\n",
       "      <th>worst</th>\n",
       "    </tr>\n",
       "  </thead>\n",
       "  <tbody>\n",
       "    <tr>\n",
       "      <th>age</th>\n",
       "      <td>0</td>\n",
       "      <td>0</td>\n",
       "      <td>1</td>\n",
       "      <td>0</td>\n",
       "      <td>1</td>\n",
       "      <td>0</td>\n",
       "    </tr>\n",
       "    <tr>\n",
       "      <th>best</th>\n",
       "      <td>0</td>\n",
       "      <td>0</td>\n",
       "      <td>0</td>\n",
       "      <td>1</td>\n",
       "      <td>0</td>\n",
       "      <td>0</td>\n",
       "    </tr>\n",
       "    <tr>\n",
       "      <th>foolishness</th>\n",
       "      <td>1</td>\n",
       "      <td>0</td>\n",
       "      <td>0</td>\n",
       "      <td>0</td>\n",
       "      <td>0</td>\n",
       "      <td>0</td>\n",
       "    </tr>\n",
       "    <tr>\n",
       "      <th>times</th>\n",
       "      <td>0</td>\n",
       "      <td>1</td>\n",
       "      <td>0</td>\n",
       "      <td>0</td>\n",
       "      <td>0</td>\n",
       "      <td>1</td>\n",
       "    </tr>\n",
       "    <tr>\n",
       "      <th>wisdom</th>\n",
       "      <td>1</td>\n",
       "      <td>0</td>\n",
       "      <td>0</td>\n",
       "      <td>0</td>\n",
       "      <td>0</td>\n",
       "      <td>0</td>\n",
       "    </tr>\n",
       "    <tr>\n",
       "      <th>worst</th>\n",
       "      <td>0</td>\n",
       "      <td>0</td>\n",
       "      <td>0</td>\n",
       "      <td>1</td>\n",
       "      <td>0</td>\n",
       "      <td>0</td>\n",
       "    </tr>\n",
       "  </tbody>\n",
       "</table>\n",
       "</div>"
      ],
      "text/plain": [
       "             age  best  foolishness  times  wisdom  worst\n",
       "age            0     0            1      0       1      0\n",
       "best           0     0            0      1       0      0\n",
       "foolishness    1     0            0      0       0      0\n",
       "times          0     1            0      0       0      1\n",
       "wisdom         1     0            0      0       0      0\n",
       "worst          0     0            0      1       0      0"
      ]
     },
     "execution_count": 13,
     "metadata": {},
     "output_type": "execute_result"
    }
   ],
   "source": [
    "# part c - this cell 1-hot encodes the co-occurrence matrix (RUN THIS CELL AS IS) \n",
    "for term, nbrs in stripes.items():\n",
    "    pass\n",
    "    for nbr in nbrs:\n",
    "        co_matrix.loc[term, nbr] = 1\n",
    "co_matrix"
   ]
  },
  {
   "cell_type": "code",
   "execution_count": 14,
   "metadata": {
    "application/vnd.databricks.v1+cell": {
     "inputWidgets": {},
     "nuid": "9b6cf0e3-9003-4d88-aa65-68d0a7b693e5",
     "showTitle": false,
     "title": ""
    }
   },
   "outputs": [
    {
     "name": "stdout",
     "output_type": "stream",
     "text": [
      "age-best: age            0.0\n",
      "best           0.0\n",
      "foolishness    0.0\n",
      "times          0.0\n",
      "wisdom         0.0\n",
      "worst          0.0\n",
      "dtype: float64\n",
      "age-foolishness: age            0.0\n",
      "best           0.0\n",
      "foolishness    0.0\n",
      "times          0.0\n",
      "wisdom         0.0\n",
      "worst          0.0\n",
      "dtype: float64\n",
      "age-times: age            0.0\n",
      "best           0.0\n",
      "foolishness    0.0\n",
      "times          0.0\n",
      "wisdom         0.0\n",
      "worst          0.0\n",
      "dtype: float64\n",
      "age-wisdom: age            0.0\n",
      "best           0.0\n",
      "foolishness    0.0\n",
      "times          0.0\n",
      "wisdom         0.0\n",
      "worst          0.0\n",
      "dtype: float64\n",
      "age-worst: age            0.0\n",
      "best           0.0\n",
      "foolishness    0.0\n",
      "times          0.0\n",
      "wisdom         0.0\n",
      "worst          0.0\n",
      "dtype: float64\n",
      "best-foolishness: age            0.0\n",
      "best           0.0\n",
      "foolishness    0.0\n",
      "times          0.0\n",
      "wisdom         0.0\n",
      "worst          0.0\n",
      "dtype: float64\n",
      "best-times: age            0.0\n",
      "best           0.0\n",
      "foolishness    0.0\n",
      "times          0.0\n",
      "wisdom         0.0\n",
      "worst          0.0\n",
      "dtype: float64\n",
      "best-wisdom: age            0.0\n",
      "best           0.0\n",
      "foolishness    0.0\n",
      "times          0.0\n",
      "wisdom         0.0\n",
      "worst          0.0\n",
      "dtype: float64\n",
      "best-worst: age            0.0\n",
      "best           0.0\n",
      "foolishness    0.0\n",
      "times          1.0\n",
      "wisdom         0.0\n",
      "worst          0.0\n",
      "dtype: float64\n",
      "foolishness-times: age            0.0\n",
      "best           0.0\n",
      "foolishness    0.0\n",
      "times          0.0\n",
      "wisdom         0.0\n",
      "worst          0.0\n",
      "dtype: float64\n",
      "foolishness-wisdom: age            1.0\n",
      "best           0.0\n",
      "foolishness    0.0\n",
      "times          0.0\n",
      "wisdom         0.0\n",
      "worst          0.0\n",
      "dtype: float64\n",
      "foolishness-worst: age            0.0\n",
      "best           0.0\n",
      "foolishness    0.0\n",
      "times          0.0\n",
      "wisdom         0.0\n",
      "worst          0.0\n",
      "dtype: float64\n",
      "times-wisdom: age            0.0\n",
      "best           0.0\n",
      "foolishness    0.0\n",
      "times          0.0\n",
      "wisdom         0.0\n",
      "worst          0.0\n",
      "dtype: float64\n",
      "times-worst: age            0.0\n",
      "best           0.0\n",
      "foolishness    0.0\n",
      "times          0.0\n",
      "wisdom         0.0\n",
      "worst          0.0\n",
      "dtype: float64\n",
      "wisdom-worst: age            0.0\n",
      "best           0.0\n",
      "foolishness    0.0\n",
      "times          0.0\n",
      "wisdom         0.0\n",
      "worst          0.0\n",
      "dtype: float64\n"
     ]
    }
   ],
   "source": [
    "# part e - FILL IN THE MISSING LINES to compute the cosine similarity between each pair of terms\n",
    "for term1, term2 in itertools.combinations(vocab, 2):\n",
    "    # one hot-encoded vectors\n",
    "    v1 = co_matrix[term1]\n",
    "    v2 = co_matrix[term2]\n",
    "    \n",
    "    # cosine similarity\n",
    "    ############# YOUR CODE HERE #################\n",
    "    csim = (v1*v2)/float(sum(v1)*sum(v2))\n",
    "    ############# (END) YOUR CODE #################    \n",
    "    \n",
    "    print(f\"{term1}-{term2}: {csim}\")"
   ]
  },
  {
   "cell_type": "markdown",
   "metadata": {
    "application/vnd.databricks.v1+cell": {
     "inputWidgets": {},
     "nuid": "3e757c6f-10ef-487c-bd29-4f0bd0c93aa7",
     "showTitle": false,
     "title": ""
    }
   },
   "source": [
    "# Question 4: Pairs and Stripes at Scale\n",
    "\n",
    "As you read in the paper by Zadeh et al, the advantage of metrics like Cosine, Dice, Overlap and Jaccard is that they are dimension independent -- that is to say, if we implement them in a smart way the computational complexity of performing these computations is independent of the number of documents we want to compare (or in our case, the number of terms that are potential synonyms). One component of a 'smart implementation' involves thinking carefully both about how you define the \"basis vocabulary\" that forms your feature set (removing stopwords, etc). Another key idea is to use a data structure that facilitates distributed calculations. The DISCO implemetation further uses a sampling strategy, but that is beyond the scope of this assignment. \n",
    "\n",
    "In this question we'll take a closer look at the computational complexity of the synonym detection approach we took in question 3 and then revist the document similarity example as a way to explore a more efficient approach to parallelizing this analysis.\n",
    "\n",
    "### Q4 Tasks:\n",
    "\n",
    "* __a) short response:__ In question 3 you calculated the cosine similarity of pairs of words using the vector representation of their co-occurrences in a corpus. In the asynch videos about \"Pairs and Stripes\" you were introduced to an alternative strategy. Explain two ways that using these data structures are more efficient than 1-hot encoded vectors when it comes to distributed similarity calculations [__`HINT:`__ _Consider memory constraints, amount of information being shuffled, amount of information being transfered over the network, and level of parallelization._]\n",
    "\n",
    "* __b) read provided code:__ The code below provides a streamined implementation of Document similarity analysis in Spark. Read through this code carefully. Once you are confident you understand how it works, answer the remaining questions. [__`TIP:`__ _to see the output of each transformation try commenting out the subsequent lines and adding an early `collect()` action_.]\n",
    "\n",
    "* __c) short response:__ The second mapper function, `splitWords`, emits 'postings'. The list of all 'postings' for a word is also refered to as an 'inverted index'. In your own words, define each of these terms ('postings' and 'inverted index') based on your reading of the provided code. (*DITP by Lin and Dyer also contains a chapter on the Inverted Index although in the context of Hadoop rather than Spark. You may find the illustration in Chaprter 4 helpful in answering this question*).\n",
    "\n",
    "* __d) short response:__ The third mapper, `makeCompositeKeys`, loops over the inverted index to emit 'pairs' of what? Explain what information is included in the composite key created at this stage and why it makes sense to synchronize around that information in the context of performing document similarity calculations. In addition to the information included in these new keys, what other piece of information will we need to compute Jaccard or Cosine similarity?\n",
    "\n",
    "* __e) short response:__ Out of all the Spark transformations we make in this analysis, which are 'wide' transformations and which are 'narrow' transformations. Explain."
   ]
  },
  {
   "cell_type": "markdown",
   "metadata": {
    "application/vnd.databricks.v1+cell": {
     "inputWidgets": {},
     "nuid": "244c0e4a-7043-4bc1-a64f-231db9211ea1",
     "showTitle": false,
     "title": ""
    }
   },
   "source": [
    "### Q4 Student Answers:\n",
    "\n",
    "> __a)__ \n",
    "\n",
    "In general, a one-hot encoding scheme results in high-dimensional, sparse datasets, which are difficult to optimize. Also, each of the information-sparse columns have a linear relationship with each other. This means that one variable can be easily predicted using the others, causing problems of parallelism and multicollinearity in high dimensions.\n",
    "\n",
    "So, the optimal dataset consists of features whose information is independently valuable. Thus, the ‘stripes’ dataset is more efficient than the one-hot encoded vectors when it comes to distributed similarity calculations. A “stripe” is an associative array where the key is a term, and the array holds the key value pairs where each key is a term which co-occurs with the primary key and the values are the count. The main advantage here is that we are shuffling a lot less data over the network. And by using reduce by key, we're giving Spark an opportunity to do some parallized combining for us behind the scenes. However, we're limited in terms of the event space. So, we cannot afford to make our associative arrays larger than will fit in memory on a single machine. Overall, the stripes approach is faster and more efficient, but we have to be mindful of managing memory.\n",
    "\n",
    "> __b)__ _read provided code before answering d-e_ \n",
    "\n",
    "> __c)__ \n",
    "\n",
    "Based on the code, a ‘posting’ is just a simple document id. So, the ‘inverted index’ is the dictionary object that contains the inverted termID–docID pairs. But, the inversion is actually accomplished by a two-step process. First, we sort the termID–docID/docLength pairs. Next, we collect all termID–docID/docLength pairs with the same termID into a postings list. This posting list/inverted index then consists of key value pairs where the key is a word and the value is the document id & document length pair. For example, the inverted index would consist of values in the following format: [WORD] = [(DOC_ID, DOC_LENGTH)]. \n",
    "\n",
    "> __d)__ \n",
    "\n",
    "The third mapper loops over the inverted index and produces pairs of document id values with the count of 1 for each document pair that a given word occurs in. For example, an output would have the following format: {[(document_id_1, document_len_1), (document_id_2, document_len_2)], 1}. The different pieces of information included in the composite key are the document pairs that a given word is found in, as well as each document's respective length. The composite key also includes a value of 1. This represents the count of occurrences for this given document pair which, when aggregated, represents the intersection value between the two documents. It makes sense to synchronize around this information for document similarity calculations because it stores the document pairs, their individual lengths, and their counts for the ultimate intersection value. These are all pieces of information that are necessary to perform Jaccard or Cosine similarity between two documents. Yet, in order to compute Jaccard or Cosine similarity, we also need to know the actual aggregated intersection value for each document pair. This will require a reduceByKey transformation after the mapper is executed.\n",
    "\n",
    "> __e)__ \n",
    "\n",
    "In Narrow transformations, all the elements that are required to compute the records in a single partition live in the single partition of parent RDD. A limited subset of the partition is used to calculate the result. Narrow transformations are the result of functions like map() or filter(). In wide transformations, all the elements that are required to compute the records in the single partition may live in many partitions of parent RDD. The partition may live in many partitions of parent RDD. Wide transformations are the result of groupbyKey and reducebyKey functions. So, out of all the Spark transformations we make in this analysis, the two reduceByKey transformations are wide while the one map and three flatMap transformations are narrow. "
   ]
  },
  {
   "cell_type": "markdown",
   "metadata": {
    "application/vnd.databricks.v1+cell": {
     "inputWidgets": {},
     "nuid": "02bbeeeb-2c83-40ad-b648-79b76f2603cb",
     "showTitle": false,
     "title": ""
    }
   },
   "source": [
    "A small test file: __`sample_docs.txt`__"
   ]
  },
  {
   "cell_type": "code",
   "execution_count": 15,
   "metadata": {
    "application/vnd.databricks.v1+cell": {
     "inputWidgets": {},
     "nuid": "c4aa7016-5fff-4b11-b615-4cff0007f244",
     "showTitle": false,
     "title": ""
    }
   },
   "outputs": [
    {
     "name": "stdout",
     "output_type": "stream",
     "text": [
      "Overwriting sample_docs.txt\n"
     ]
    }
   ],
   "source": [
    "%%writefile sample_docs.txt\n",
    "docA\tbright blue butterfly forget\n",
    "docB\tbest forget bright sky\n",
    "docC\tblue sky bright sun\n",
    "docD\tunder butterfly sky hangs\n",
    "docE\tforget blue butterfly"
   ]
  },
  {
   "cell_type": "code",
   "execution_count": 15,
   "metadata": {
    "application/vnd.databricks.v1+cell": {
     "inputWidgets": {},
     "nuid": "c738aa14-92f0-4727-bd60-0c0f5326ad37",
     "showTitle": false,
     "title": ""
    }
   },
   "outputs": [
    {
     "name": "stdout",
     "output_type": "stream",
     "text": [
      "docA\tbright blue butterfly forget\n",
      "docB\tbest forget bright sky\n",
      "docC\tblue sky bright sun\n",
      "docD\tunder butterfly sky hangs\n",
      "docE\tforget blue butterfly\n"
     ]
    }
   ],
   "source": [
    "# load data - RUN THIS CELL AS IS\n",
    "!cat sample_docs.txt"
   ]
  },
  {
   "cell_type": "markdown",
   "metadata": {
    "application/vnd.databricks.v1+cell": {
     "inputWidgets": {},
     "nuid": "36e04f30-d4ee-484f-a6f4-5568a1698a49",
     "showTitle": false,
     "title": ""
    }
   },
   "source": [
    "__Document Similarity Analysis in Spark:__"
   ]
  },
  {
   "cell_type": "code",
   "execution_count": 16,
   "metadata": {
    "application/vnd.databricks.v1+cell": {
     "inputWidgets": {},
     "nuid": "da504044-0c75-4763-adad-2d8e2817265b",
     "showTitle": false,
     "title": ""
    }
   },
   "outputs": [],
   "source": [
    "# load data - RUN THIS CELL AS IS\n",
    "data = sc.textFile(\"sample_docs.txt\")  "
   ]
  },
  {
   "cell_type": "code",
   "execution_count": 17,
   "metadata": {
    "application/vnd.databricks.v1+cell": {
     "inputWidgets": {},
     "nuid": "13bca2b5-8996-4018-b59b-3db3599f14fd",
     "showTitle": false,
     "title": ""
    }
   },
   "outputs": [],
   "source": [
    "# helper function - RUN THIS CELL AS IS\n",
    "def splitWords(pair):\n",
    "    \"\"\"Mapper 2: tokenize each document and emit postings.\"\"\"\n",
    "    doc, text = pair\n",
    "    words = text.split(\" \")\n",
    "    for w in words:\n",
    "        yield (w, [(doc,len(words))])"
   ]
  },
  {
   "cell_type": "code",
   "execution_count": 18,
   "metadata": {
    "application/vnd.databricks.v1+cell": {
     "inputWidgets": {},
     "nuid": "68200122-deb9-434b-84b1-a1a130566b68",
     "showTitle": false,
     "title": ""
    }
   },
   "outputs": [],
   "source": [
    "# helper function - RUN THIS CELL AS IS\n",
    "def makeCompositeKey(inverted_index):\n",
    "    \"\"\"Mapper 3: loop over postings and yield pairs.\"\"\"\n",
    "    word, postings = inverted_index\n",
    "    # taking advantage of symmetry, output only (a,b), but not (b,a)\n",
    "    for subset in itertools.combinations(sorted(postings), 2):\n",
    "        yield (str(subset), 1)"
   ]
  },
  {
   "cell_type": "code",
   "execution_count": 19,
   "metadata": {
    "application/vnd.databricks.v1+cell": {
     "inputWidgets": {},
     "nuid": "34b72a6c-cab1-46ea-b50b-00ce7fa49cc4",
     "showTitle": false,
     "title": ""
    }
   },
   "outputs": [],
   "source": [
    "# helper function - RUN THIS CELL AS IS\n",
    "def jaccard(line):\n",
    "    \"\"\"Mapper 4: compute similarity scores\"\"\"\n",
    "    (doc1, n1), (doc2, n2) = ast.literal_eval(line[0])\n",
    "    total = int(line[1])\n",
    "    jaccard = total / float(int(n1) + int(n2) - total)\n",
    "    yield doc1+\" - \"+doc2, jaccard"
   ]
  },
  {
   "cell_type": "code",
   "execution_count": 20,
   "metadata": {
    "application/vnd.databricks.v1+cell": {
     "inputWidgets": {},
     "nuid": "1a706f1c-bbb2-4f45-af1c-9ebee2fbea0c",
     "showTitle": false,
     "title": ""
    }
   },
   "outputs": [
    {
     "name": "stderr",
     "output_type": "stream",
     "text": [
      "                                                                                \r"
     ]
    },
    {
     "data": {
      "text/plain": [
       "[('docA - docE', 0.75),\n",
       " ('docA - docB', 0.3333333333333333),\n",
       " ('docA - docC', 0.3333333333333333),\n",
       " ('docB - docC', 0.3333333333333333),\n",
       " ('docD - docE', 0.16666666666666666),\n",
       " ('docC - docE', 0.16666666666666666),\n",
       " ('docB - docE', 0.16666666666666666),\n",
       " ('docC - docD', 0.14285714285714285),\n",
       " ('docA - docD', 0.14285714285714285),\n",
       " ('docB - docD', 0.14285714285714285)]"
      ]
     },
     "execution_count": 20,
     "metadata": {},
     "output_type": "execute_result"
    }
   ],
   "source": [
    "# Spark Job - RUN THIS CELL AS IS\n",
    "result = data.map(lambda line: line.split('\\t')) \\\n",
    "             .flatMap(splitWords) \\\n",
    "             .reduceByKey(lambda x,y : x+y) \\\n",
    "             .flatMap(makeCompositeKey) \\\n",
    "             .reduceByKey(lambda x,y : x+y) \\\n",
    "             .flatMap(jaccard) \\\n",
    "             .takeOrdered(10, key=lambda x: -x[1])\n",
    "result"
   ]
  },
  {
   "cell_type": "markdown",
   "metadata": {
    "application/vnd.databricks.v1+cell": {
     "inputWidgets": {},
     "nuid": "6a9f78ca-93fe-46ba-8d26-fa7a8adc6710",
     "showTitle": false,
     "title": ""
    }
   },
   "source": [
    "# About the Data\n",
    "Now that you are comfortable with similarity metrics we turn to the main task in this assignment: \"Synonym\" Detection. As you saw in Question 3 the ability of our algorithm to detect words with similar meanings is highly dependent on our input text. Specifically, we need a large enough corpus of natural language that we can expose our algorithm to a realistic range of contexts in which any given word might get used. Ideally, these 'contexts' would also provide enough signal to distinguish between words with similar semantic roles but different meaning. Finding such a corpus will be easier to accomplish for some words than others.\n",
    "\n",
    "For the main task in this portion of the homework you will use data from Google's n-gram corpus. This data is particularly convenient for our task because Google has already done the first step for us: they windowed over a large subset of the web and extracted all 5-grams. If you are interested in learning more about this dataset the original source is: http://books.google.com/ngrams/, and a large subset is available [here from AWS](https://aws.amazon.com/datasets/google-books-ngrams/). \n",
    "\n",
    "For this assignment we have provided a subset of the 5-grams data consisting of 191 files of approximately 10MB each. These files are available in the 'data' folder in 'Assignments/HW3/' github.  Please only use the provided data so that we can ensure consistent results from student to student.\n",
    "\n",
    "Each row in our dataset represents one of these 5 grams in the format:\n",
    "> `(ngram) \\t (count) \\t (pages_count) \\t (books_count)`\n",
    "\n",
    "__DISCLAIMER__: In real life, we would calculate the stripes cooccurrence data from the raw text by windowing over the raw text and not from the 5-gram preprocessed data.  Calculating pairs on this 5-gram is a little corrupt as we will be double counting cooccurences. Having said that this exercise can still pull out some similar terms."
   ]
  },
  {
   "cell_type": "code",
   "execution_count": 7,
   "metadata": {
    "application/vnd.databricks.v1+cell": {
     "inputWidgets": {},
     "nuid": "67ee798a-99fd-4ada-b8b1-4bfa6d032335",
     "showTitle": false,
     "title": ""
    }
   },
   "outputs": [],
   "source": [
    "# set global paths to full data folder and to the first file (which we'll use for testing)\n",
    "NGRAMS = '../../data'\n",
    "F1_PATH = '../../data/googlebooks-eng-all-5gram-20090715-0-filtered.txt'"
   ]
  },
  {
   "cell_type": "markdown",
   "metadata": {
    "application/vnd.databricks.v1+cell": {
     "inputWidgets": {},
     "nuid": "d36301d1-c5fd-46c7-91a5-4745bb175741",
     "showTitle": false,
     "title": ""
    }
   },
   "source": [
    "As you develop your code you should use the following file to systems test each of your solutions before running it on the Google data. (Note: these are the 5-grams extracted from our two line Dickens corpus in Question 3... you should find that your Spark job results match the calculations we did \"by hand\").\n",
    "\n",
    "Test file: __`systems_test.txt`__"
   ]
  },
  {
   "cell_type": "code",
   "execution_count": 16,
   "metadata": {
    "application/vnd.databricks.v1+cell": {
     "inputWidgets": {},
     "nuid": "ed5ebc27-0381-4fe6-901b-fe4fc4f5a10d",
     "showTitle": false,
     "title": ""
    }
   },
   "outputs": [
    {
     "name": "stdout",
     "output_type": "stream",
     "text": [
      "Writing systems_test_1.txt\n"
     ]
    }
   ],
   "source": [
    "%%writefile systems_test.txt\n",
    "it was the best of\t1\t1\t1\n",
    "age of wisdom it was\t1\t1\t1\n",
    "best of times it was\t1\t1\t1\n",
    "it was the age of\t2\t1\t1\n",
    "it was the worst of\t1\t1\t1\n",
    "of times it was the\t2\t1\t1\n",
    "of wisdom it was the\t1\t1\t1\n",
    "the age of wisdom it\t1\t1\t1\n",
    "the best of times it\t1\t1\t1\n",
    "the worst of times it\t1\t1\t1\n",
    "times it was the age\t1\t1\t1\n",
    "times it was the worst\t1\t1\t1\n",
    "was the age of wisdom\t1\t1\t1\n",
    "was the best of times\t1\t1\t1\n",
    "was the age of foolishness\t1\t1\t1\n",
    "was the worst of times\t1\t1\t1\n",
    "wisdom it was the age\t1\t1\t1\n",
    "worst of times it was\t1\t1\t1"
   ]
  },
  {
   "cell_type": "markdown",
   "metadata": {
    "application/vnd.databricks.v1+cell": {
     "inputWidgets": {},
     "nuid": "ac26da79-b410-4a8c-9d5d-6c074d48769d",
     "showTitle": false,
     "title": ""
    }
   },
   "source": [
    "Finally, we'll create a Spark RDD for each of these files so that they're easy to access throughout the rest of the assignment."
   ]
  },
  {
   "cell_type": "code",
   "execution_count": 8,
   "metadata": {
    "application/vnd.databricks.v1+cell": {
     "inputWidgets": {},
     "nuid": "4e162747-4cf6-4f36-89ca-a1214512f5c2",
     "showTitle": false,
     "title": ""
    }
   },
   "outputs": [],
   "source": [
    "# Spark RDDs for each dataset\n",
    "testRDD = sc.textFile(\"systems_test.txt\") \n",
    "f1RDD = sc.textFile(F1_PATH).repartition(16)\n",
    "dataRDD = sc.textFile(NGRAMS).repartition(64)"
   ]
  },
  {
   "cell_type": "markdown",
   "metadata": {
    "application/vnd.databricks.v1+cell": {
     "inputWidgets": {},
     "nuid": "70ae8e81-27de-4975-8b4c-22bbb82c6be5",
     "showTitle": false,
     "title": ""
    }
   },
   "source": [
    "Let's take a peek at what each of these RDDs looks like:"
   ]
  },
  {
   "cell_type": "code",
   "execution_count": 36,
   "metadata": {
    "application/vnd.databricks.v1+cell": {
     "inputWidgets": {},
     "nuid": "6382f9a6-0b3d-4cb5-be31-f4ac27814306",
     "showTitle": false,
     "title": ""
    }
   },
   "outputs": [
    {
     "data": {
      "text/plain": [
       "['it was the best of\\t1\\t1\\t1',\n",
       " 'age of wisdom it was\\t1\\t1\\t1',\n",
       " 'best of times it was\\t1\\t1\\t1',\n",
       " 'it was the age of\\t2\\t1\\t1',\n",
       " 'it was the worst of\\t1\\t1\\t1',\n",
       " 'of times it was the\\t2\\t1\\t1',\n",
       " 'of wisdom it was the\\t1\\t1\\t1',\n",
       " 'the age of wisdom it\\t1\\t1\\t1',\n",
       " 'the best of times it\\t1\\t1\\t1',\n",
       " 'the worst of times it\\t1\\t1\\t1']"
      ]
     },
     "execution_count": 36,
     "metadata": {},
     "output_type": "execute_result"
    }
   ],
   "source": [
    "testRDD.take(10)"
   ]
  },
  {
   "cell_type": "code",
   "execution_count": 41,
   "metadata": {
    "application/vnd.databricks.v1+cell": {
     "inputWidgets": {},
     "nuid": "7a94a009-6a28-4c71-9cfd-57fc3f0469e4",
     "showTitle": false,
     "title": ""
    }
   },
   "outputs": [
    {
     "data": {
      "text/plain": [
       "['A Defence of the Short\\t245\\t234\\t163',\n",
       " 'A Discovery of the Real\\t253\\t251\\t206',\n",
       " 'A FURTHER LOOK AT THE\\t51\\t50\\t40',\n",
       " 'A Festschrift in Honour of\\t549\\t540\\t416',\n",
       " 'A Funny Dirty Little War\\t180\\t154\\t58',\n",
       " \"A Game of Cat's Cradle\\t86\\t86\\t71\",\n",
       " \"A Guide to America's Censorship\\t98\\t98\\t76\",\n",
       " 'A HANDBOOK ON THEODOLITE SURVEYING\\t61\\t61\\t61',\n",
       " 'A HISTORY OF TRAVEL IN\\t130\\t130\\t59',\n",
       " 'A History of Aerial Navigation\\t61\\t61\\t49']"
      ]
     },
     "execution_count": 41,
     "metadata": {},
     "output_type": "execute_result"
    }
   ],
   "source": [
    "f1RDD.take(10)"
   ]
  },
  {
   "cell_type": "code",
   "execution_count": 38,
   "metadata": {
    "application/vnd.databricks.v1+cell": {
     "inputWidgets": {},
     "nuid": "3821fa08-6fbd-46dd-9233-92ae8dad4e7b",
     "showTitle": false,
     "title": ""
    }
   },
   "outputs": [
    {
     "name": "stderr",
     "output_type": "stream",
     "text": [
      "                                                                                \r"
     ]
    },
    {
     "data": {
      "text/plain": [
       "['A Strategic Analysis of Science\\t83\\t83\\t57',\n",
       " \"A Student's History of Education\\t591\\t568\\t366\",\n",
       " 'A Study in American Politics\\t1560\\t1548\\t1253',\n",
       " 'A Study in the Acquisition\\t167\\t167\\t139',\n",
       " 'A Study in the Techniques\\t169\\t168\\t131',\n",
       " 'A Study of Family Organization\\t62\\t62\\t54',\n",
       " 'A Study of Personality Traits\\t59\\t58\\t48',\n",
       " 'A Study of a Developing\\t132\\t131\\t97',\n",
       " 'A Study of the Enforcement\\t98\\t98\\t79',\n",
       " 'A Study of the High\\t143\\t142\\t103']"
      ]
     },
     "execution_count": 38,
     "metadata": {},
     "output_type": "execute_result"
    }
   ],
   "source": [
    "dataRDD.take(10)"
   ]
  },
  {
   "cell_type": "markdown",
   "metadata": {
    "application/vnd.databricks.v1+cell": {
     "inputWidgets": {},
     "nuid": "2bec439f-08e0-45b9-a249-6e57064f627d",
     "showTitle": false,
     "title": ""
    }
   },
   "source": [
    "# Question 5: N-gram EDA part 1 (words)\n",
    "\n",
    "Before starting our synonym-detection, let's get a sense for this data. As you saw in questions 3 and 4 the size of the vocabulary will impact the amount of computation we have to do. Write a Spark job that will accomplish the three tasks below as efficiently as possible. (No credit will be awarded for jobs that sort or subset after calling `collect()`-- use the framework to get the minimum information requested). As you develop your code, systems test each job on the provided file with Dickens ngrams, then on a single file from the Ngram dataset before running the full analysis.\n",
    "\n",
    "\n",
    "### Q5 Tasks:\n",
    "* __a) code:__ Write a Spark application to retrieve:\n",
    "  * The number of unique words that appear in the data. (i.e. size of the vocabulary) \n",
    "  * A list of the top 10 words & their counts.\n",
    "  * A list of the bottom 10 words & their counts.  \n",
    "  \n",
    "  __`NOTE  1:`__ _don't forget to lower case the ngrams before extracting words._  \n",
    "  __`NOTE  2:`__ _don't forget to take in to account the number of occurances (count) of each ngram._  \n",
    "  __`NOTE  3:`__ _to make this code more reusable, the `EDA1` function code base uses a parameter 'n' to specify the number of top/bottom words to print (in this case we've requested 10)._\n",
    "\n",
    "\n",
    "* __b) short response:__ Given the vocab size you found in part a, how many potential synonym pairs could we form from this corpus? If each term's stripe were 1000 words long, how many tuples would we need to shuffle in order to form the inverted indices? Show and briefly explain your calculations for each part of this question. [__`HINT:`__ see your work from q4 for a review of these concepts.]\n",
    "\n",
    "* __c) short response:__ Looking at the most frequent words and their counts, how usefull will these top words be in synonym detection? Explain.\n",
    "\n",
    "* __d) short response:__ Looking at the least frequent words and their counts, how reliable should we expect the detected 'synonyms' for these words to be? Explain."
   ]
  },
  {
   "cell_type": "markdown",
   "metadata": {
    "application/vnd.databricks.v1+cell": {
     "inputWidgets": {},
     "nuid": "551ea292-76ba-40de-920f-e3e528c52b31",
     "showTitle": false,
     "title": ""
    }
   },
   "source": [
    "### Q5 Student Answers:\n",
    "\n",
    "> __b)__ \n",
    "\n",
    "For the N-Gram corpus, there was a vocabulary size of 269,339. So there are 36,271,613,791 many potential synonym pairs that we could form. This is based of the $(n-1)th$ triangle term, calculated as follows where ($m = n - 1$):\n",
    "$$\\frac{m^2 + m}{2} = \\frac{(269338)^2 + 269338}{2} = 36271613791$$\n",
    "\n",
    "If each term had a stripe that was 1,000 words long, we would then have 269,339,000 many tuples to shuffle in order to form the inverted indices. This is because we have a vocabulary that has 269,339 terms, each of which has a stripe of length 1,000. So, to construct the inverted index, we would then shuffle $(269339 *1000) = 269339000$ many tuples.\n",
    "\n",
    "\n",
    "> __c)__ \n",
    "\n",
    "The most frequent words for the N-Gram corpus are: {‘the’, ‘of’, ‘to’, ‘in’, ‘a’, ‘and’, ‘that’, ‘is’, ‘be’, & ‘as’}. In general these words are syncategorematic, meaning that they are either articles, connectives, prepositions, or quantifiers. This means that these words do not stand by themselves, but rather help form the syntax/structure of a sentence. Thus, these words do not have meaning in themselves and are not indicative of the context of a given sentence. Also, these words do not have any synonyms or antonyms. So, these will not be useful in synonym detection. \n",
    "\n",
    "> __d)__ \n",
    "\n",
    "The least frequent words for the N-Gram corpus are: {‘schwetzingen’, ‘cras’, ‘parcival’, ‘porti’, ‘scribbler's’, ‘washermen’, ‘viscerating’, ‘mildes’, ‘scholared’, ‘jaworski’}. Each word shares a count of 40 instances. In a vocabulary consisting of 269,339 unique terms, these words are considered to be uncommon. This means that they will have less representation in the overall corpus and that there is less context to understand the given word's meaning in order to parse an appropriate synonym. Consequently, they will then have less accurate similarity scores due to their infrequency. Also, the terms mostly consist of nouns, so they will not necessarily have any synonyms or antonyms. As a result, we should not expect the detected ‘synonyms’ for these words to be reliable."
   ]
  },
  {
   "cell_type": "code",
   "execution_count": 9,
   "metadata": {},
   "outputs": [],
   "source": [
    "# helper function - RUN THIS CELL AS IS\n",
    "def countWords(text_counts):\n",
    "    \"\"\"Mapper 1: tokenize each text and unique words.\"\"\"\n",
    "    text, count, page_count, book_count = text_counts\n",
    "    words = text.lower().split(\" \")\n",
    "    for w in words:\n",
    "         yield (w, int(count))"
   ]
  },
  {
   "cell_type": "code",
   "execution_count": 10,
   "metadata": {
    "application/vnd.databricks.v1+cell": {
     "inputWidgets": {},
     "nuid": "091af7db-444d-4aa7-bbc3-691f728d2840",
     "showTitle": false,
     "title": ""
    }
   },
   "outputs": [],
   "source": [
    "# part a - write your spark job here \n",
    "def EDA1(rdd, n):\n",
    "    total, top_n, bottom_n = None, None, None\n",
    "    ############# YOUR CODE HERE ###############\n",
    "\n",
    "    result = rdd.map(lambda line: line.split('\\t')) \\\n",
    "             .flatMap(countWords) \\\n",
    "             .reduceByKey(lambda x,y : x+y)\n",
    "    \n",
    "    #top_n = A list of the top 10 words & their counts\n",
    "    top_n = result.takeOrdered(n, key=lambda x: -x[1]) \n",
    "    \n",
    "    #bottom_n = A list of the bottom 10 words & their counts\n",
    "    bottom_n = result.takeOrdered(n, key=lambda x: x[1]) \n",
    "    \n",
    "    #total = The number of unique words that appear in the data. (i.e. size of the vocabulary)\n",
    "    output = result.collect()\n",
    "    total = len(output)\n",
    "    \n",
    "    ############# (END) YOUR CODE ##############\n",
    "    return total, top_n, bottom_n"
   ]
  },
  {
   "cell_type": "code",
   "execution_count": 34,
   "metadata": {
    "application/vnd.databricks.v1+cell": {
     "inputWidgets": {},
     "nuid": "4babf25b-06f1-4d63-86d8-a2e853f13e2c",
     "showTitle": false,
     "title": ""
    }
   },
   "outputs": [
    {
     "name": "stdout",
     "output_type": "stream",
     "text": [
      "Wall time: 0.4205644130706787 seconds\n"
     ]
    }
   ],
   "source": [
    "# part a - run the system test (RUN THIS CELL AS IS... use display cell below to see results)\n",
    "import time\n",
    "start = time.time()\n",
    "vocab_size, most_frequent, least_frequent = EDA1(testRDD, 10)\n",
    "print(\"Wall time: {} seconds\".format(time.time() - start))\n"
   ]
  },
  {
   "cell_type": "code",
   "execution_count": 35,
   "metadata": {
    "application/vnd.databricks.v1+cell": {
     "inputWidgets": {},
     "nuid": "615f0416-8170-4d20-9eb1-42c5abfbeb64",
     "showTitle": false,
     "title": ""
    }
   },
   "outputs": [
    {
     "name": "stdout",
     "output_type": "stream",
     "text": [
      "Vocabulary Size: 10\n",
      " ---- Top Words ----|--- Bottom Words ----\n",
      "     was         17 |    foolishness   1\n",
      "      of         17 |           best   4\n",
      "     the         17 |          worst   5\n",
      "      it         16 |         wisdom   5\n",
      "   times         10 |            age   8\n",
      "     age          8 |          times  10\n",
      "   worst          5 |             it  16\n",
      "  wisdom          5 |            was  17\n",
      "    best          4 |             of  17\n",
      "foolishness          1 |            the  17\n"
     ]
    }
   ],
   "source": [
    "# part a - display results (feel free to modify the formatting code if needed)\n",
    "print(\"Vocabulary Size:\", vocab_size)\n",
    "print(\" ---- Top Words ----|--- Bottom Words ----\")\n",
    "for (w1, c1), (w2, c2) in zip(most_frequent, least_frequent):\n",
    "    print(f\"{w1:>8} {c1:>10} |{w2:>15} {c2:>3}\")"
   ]
  },
  {
   "cell_type": "markdown",
   "metadata": {
    "application/vnd.databricks.v1+cell": {
     "inputWidgets": {},
     "nuid": "cf050ce9-3cc6-484c-8036-7d380d4ca0dc",
     "showTitle": false,
     "title": ""
    }
   },
   "source": [
    "Expected output for testRDD:\n",
    "<pre>\n",
    "    Vocabulary Size: 10\n",
    " ---- Top Words ----|--- Bottom Words ----\n",
    "     was         17 |    foolishness   1\n",
    "      of         17 |           best   4\n",
    "     the         17 |          worst   5\n",
    "      it         16 |         wisdom   5\n",
    "   times         10 |            age   8\n",
    "     age          8 |          times  10\n",
    "   worst          5 |             it  16\n",
    "  wisdom          5 |            was  17\n",
    "    best          4 |             of  17\n",
    "foolishness       1 |            the  17  \n",
    "</pre>"
   ]
  },
  {
   "cell_type": "code",
   "execution_count": 29,
   "metadata": {
    "application/vnd.databricks.v1+cell": {
     "inputWidgets": {},
     "nuid": "61d1bbae-7d1d-483e-b23a-a32fef6e2264",
     "showTitle": false,
     "title": ""
    }
   },
   "outputs": [
    {
     "name": "stderr",
     "output_type": "stream",
     "text": [
      "                                                                                \r"
     ]
    },
    {
     "name": "stdout",
     "output_type": "stream",
     "text": [
      "Wall time: 4.513415098190308 seconds\n"
     ]
    }
   ],
   "source": [
    "# part a - run a single file, ie., a small sample (RUN THIS CELL AS IS)\n",
    "start = time.time()\n",
    "vocab_size, most_frequent, least_frequent = EDA1(f1RDD, 10)\n",
    "print(\"Wall time: {} seconds\".format(time.time() - start))"
   ]
  },
  {
   "cell_type": "code",
   "execution_count": 30,
   "metadata": {
    "application/vnd.databricks.v1+cell": {
     "inputWidgets": {},
     "nuid": "79a6aa9a-4c42-483e-b859-9711a8bbff9f",
     "showTitle": false,
     "title": ""
    }
   },
   "outputs": [
    {
     "name": "stdout",
     "output_type": "stream",
     "text": [
      "Vocabulary Size: 36353\n",
      " ---- Top Words ----|--- Bottom Words ----\n",
      "     the   27691943 |    tenaciously  40\n",
      "      of   18590950 |     unthinking  40\n",
      "      to   11601757 |        corisca  40\n",
      "      in    7470912 |          hyder  40\n",
      "       a    6926743 |       craziest  40\n",
      "     and    6150529 |      incognita  40\n",
      "    that    4077421 |      jackson's  40\n",
      "      is    4074864 |     weopomeiok  40\n",
      "      be    3720812 |         midday  40\n",
      "     was    2492074 |        causers  40\n"
     ]
    }
   ],
   "source": [
    "# part a - display results (feel free to modify the formatting code if needed)\n",
    "print(\"Vocabulary Size:\", vocab_size)\n",
    "print(\" ---- Top Words ----|--- Bottom Words ----\")\n",
    "for (w1, c1), (w2, c2) in zip(most_frequent, least_frequent):\n",
    "    print(f\"{w1:>8} {c1:>10} |{w2:>15} {c2:>3}\")"
   ]
  },
  {
   "cell_type": "markdown",
   "metadata": {
    "application/vnd.databricks.v1+cell": {
     "inputWidgets": {},
     "nuid": "7e6bd030-552b-4cbb-aafb-955cc5f2575c",
     "showTitle": false,
     "title": ""
    }
   },
   "source": [
    "Expected output for f1RDD\n",
    "<pre>\n",
    "Vocabulary Size: 36353\n",
    " ---- Top Words ----|--- Bottom Words ----\n",
    "     the   27691943 |    stakeholder  40\n",
    "      of   18590950 |          kenny  40\n",
    "      to   11601757 |         barnes  40\n",
    "      in    7470912 |         arnall  40\n",
    "       a    6926743 |     buonaparte  40\n",
    "     and    6150529 |       puzzling  40\n",
    "    that    4077421 |             hd  40\n",
    "      is    4074864 |        corisca  40\n",
    "      be    3720812 |       cristina  40\n",
    "     was    2492074 |         durban  40\n",
    "</pre>"
   ]
  },
  {
   "cell_type": "code",
   "execution_count": 34,
   "metadata": {
    "application/vnd.databricks.v1+cell": {
     "inputWidgets": {},
     "nuid": "f82284a5-a9a1-49b4-b8fa-057d6ed6f368",
     "showTitle": false,
     "title": ""
    }
   },
   "outputs": [
    {
     "name": "stdout",
     "output_type": "stream",
     "text": [
      "Wall time: 265.7109830379486 seconds\n"
     ]
    }
   ],
   "source": [
    "# part a - run full analysis (RUN THIS CELL AS IS)\n",
    "start = time.time()\n",
    "vocab_size, most_frequent, least_frequent = EDA1(dataRDD, 10)\n",
    "print(\"Wall time: {} seconds\".format(time.time() - start))\n",
    "# Wall time: 369.26355481147766 seconds"
   ]
  },
  {
   "cell_type": "code",
   "execution_count": 35,
   "metadata": {
    "application/vnd.databricks.v1+cell": {
     "inputWidgets": {},
     "nuid": "47c705e3-8578-48ce-82ca-9cf3274ab801",
     "showTitle": false,
     "title": ""
    }
   },
   "outputs": [
    {
     "name": "stdout",
     "output_type": "stream",
     "text": [
      "Vocabulary Size: 269339\n",
      " ---- Top Words ----|--- Bottom Words ----\n",
      "     the 5490815394 |           cras  40\n",
      "      of 3698583299 |      scholared  40\n",
      "      to 2227866570 |   schwetzingen  40\n",
      "      in 1421312776 |    unmurmuring  40\n",
      "       a 1361123022 |          porti  40\n",
      "     and 1149577477 |     foretastes  40\n",
      "    that  802921147 |            rll  40\n",
      "      is  758328796 |       parcival  40\n",
      "      be  688707130 |       jaworski  40\n",
      "      as  492170314 |         mildes  40\n"
     ]
    }
   ],
   "source": [
    "# part a - display results (feel free to modify the formatting code if needed)\n",
    "print(\"Vocabulary Size:\", vocab_size)\n",
    "print(\" ---- Top Words ----|--- Bottom Words ----\")\n",
    "for (w1, c1), (w2, c2) in zip(most_frequent, least_frequent):\n",
    "    print(f\"{w1:>8} {c1:>10} |{w2:>15} {c2:>3}\")"
   ]
  },
  {
   "cell_type": "markdown",
   "metadata": {
    "application/vnd.databricks.v1+cell": {
     "inputWidgets": {},
     "nuid": "b9cd59be-634c-4cad-a6a8-209e0c777905",
     "showTitle": false,
     "title": ""
    }
   },
   "source": [
    "Expected output for dataRDD:\n",
    "(bottom words might vary a little due to ties)\n",
    "<pre>\n",
    "Vocabulary Size: 269339\n",
    " ---- Top Words ----|--- Bottom Words ----\n",
    "     the 5490815394 |   schwetzingen  40\n",
    "      of 3698583299 |           cras  40\n",
    "      to 2227866570 |       parcival  40\n",
    "      in 1421312776 |          porti  40\n",
    "       a 1361123022 |    scribbler's  40\n",
    "     and 1149577477 |      washermen  40\n",
    "    that  802921147 |    viscerating  40\n",
    "      is  758328796 |         mildes  40\n",
    "      be  688707130 |      scholared  40\n",
    "      as  492170314 |       jaworski  40\n",
    "</pre>"
   ]
  },
  {
   "cell_type": "markdown",
   "metadata": {
    "application/vnd.databricks.v1+cell": {
     "inputWidgets": {},
     "nuid": "81a856ad-4475-4912-9de7-fa14d6a73044",
     "showTitle": false,
     "title": ""
    }
   },
   "source": [
    "# Question 6: N-gram EDA part 2 (co-occurrences)\n",
    "\n",
    "The computational complexity of synonym analysis depends not only on the number of words, but also on the number of co-ocurrences each word has. In this question you'll take a closer look at that aspect of our data. As before, please test each job on small \"systems test\" (Dickens ngrams) file and on a single file from the Ngram dataset before running the full analysis.\n",
    "\n",
    "### Q6 Tasks:\n",
    "* __a) code:__ Write a spark job that computes:\n",
    "  * the number of unique neighbors (i.e. 5-gram co-occuring words) for each word in the vocabulary. \n",
    "  \n",
    " <pre>\n",
    "  HINT: consider all words within a five-gram to be co-occuring. In other words, a word in a single 5-gram will always have 4 neighbors\n",
    "  EXAMPLE:\n",
    "    the dog ate cat litter \n",
    "    the cat has clean litter \n",
    "    \n",
    "    Vocabulary:\n",
    "    the, dog, ate, litter, cat, has, clean\n",
    "    \n",
    "    Neighbors:\n",
    "    (the, dog) (the, ate) (the, cat) (the, littler), (dog, ate) (dog, cat) (dog, litter), (ate, cat) (ate, litter), (cat, litter)\n",
    "    (the, cat) (the, has) (the, clean) (the, litter), (cat, has) (cat, clean) (cat, litter), (has, clean) (has, litter) (clean, litter)\n",
    "    \n",
    "    Unique neighbors:\n",
    "    the 6\n",
    "    dog 4\n",
    "    ate 4\n",
    "    litter 6\n",
    "    cat 6\n",
    "    has 4\n",
    "    clean 4\n",
    " </pre>\n",
    "    \n",
    "    \n",
    "  * the top 10 words with the most \"neighbors\"\n",
    "  * the bottom 10 words with least \"neighbors\"\n",
    "  * a random sample of 1% of the words' neighbor counts     \n",
    "  __`NOTE:`__ for the last item, please return only the counts and not the words -- we'll go on to use these in a plotting function that expects a list of integers.\n",
    "\n",
    "\n",
    "* __b) short response:__ Use the provided code to plot a histogram of the sampled list from `a`. Comment on the distribution you observe. How will this distribution affect our synonym detection analysis?\n",
    "\n",
    "* __c) code + short response:__ Write a Spark Job to compare word frequencies to number of neighbors.\n",
    "    * Of the 1000 words with most neighbors, what percent are also in the list of 1000 most frequent words?\n",
    "    * Of the 1000 words with least neighbors, what percent are also in the list of 1000 least frequent words?   \n",
    "[__`NOTE:`__ _technically these lists are short enough to compare in memory on your local machine but please design your Spark job as if we were potentially comparing much larger lists._]"
   ]
  },
  {
   "cell_type": "markdown",
   "metadata": {
    "application/vnd.databricks.v1+cell": {
     "inputWidgets": {},
     "nuid": "5c9910e4-476d-4501-998d-08d7e85444af",
     "showTitle": false,
     "title": ""
    }
   },
   "source": [
    "### Q6 Student Answers:\n",
    "\n",
    "> __b)__ \n",
    "\n",
    "We randomly sampled 1% of the unique neighbor data and then plotted the histogram distribution of these counts. From the standard plots, we can see that the distribution is unimodal and is heavily right skewed, with most values being under 500. There is a major peak around the lower values and a long tail. However, we can take the log transform of the data in order to get a more detailed look at the distribution. So, from the log transformed histogram, we can see that the distribution is still unimodal with a right skew, but it isn’t as extreme as before. There is also a fatter tail that goes into the higher log(unique neighbor count) values. These distributions will affect our synonym detection analysis. This is because words will generally have fewer neighbors and, thus, less context that would help to determine an appropriate synonym. \n",
    "\n",
    "> __c)__ \n",
    "\n",
    "Of the 1000 words with most neighbors, what 87.6% are also in the list of 1000 most frequent words for the f1RDD.\n",
    "\n",
    "Of the 1000 words with least neighbors, what 4.8% are also in the list of 1000 least frequent words for the f1RDD."
   ]
  },
  {
   "cell_type": "code",
   "execution_count": 11,
   "metadata": {},
   "outputs": [],
   "source": [
    "import math"
   ]
  },
  {
   "cell_type": "code",
   "execution_count": 13,
   "metadata": {},
   "outputs": [],
   "source": [
    "# helper function \n",
    "def collectNeighbors(text_counts):\n",
    "    \"\"\"Mapper 1: tokenize each text and unique words.\"\"\"\n",
    "    text, count, page_count, book_count = text_counts\n",
    "    words = text.lower().split(\" \")\n",
    "    for i, w in enumerate(words):\n",
    "        for index in range(i+1,len(words)):\n",
    "            neighbor = words[index]\n",
    "            if w != neighbor: \n",
    "                yield (w, neighbor)\n",
    "                yield (neighbor, w)"
   ]
  },
  {
   "cell_type": "code",
   "execution_count": 14,
   "metadata": {},
   "outputs": [],
   "source": [
    "# helper function \n",
    "def countUniqueNeighbors(inverted_index):\n",
    "    \"\"\"Mapper 3: loop over postings and yield pairs.\"\"\"\n",
    "    word, postings = inverted_index\n",
    "    \n",
    "    neighbors = postings.split(\",\")\n",
    "    unique_neighbors = set(neighbors)\n",
    "    num_unique = len(unique_neighbors)\n",
    "               \n",
    "    yield (word, num_unique)    "
   ]
  },
  {
   "cell_type": "code",
   "execution_count": 15,
   "metadata": {
    "application/vnd.databricks.v1+cell": {
     "inputWidgets": {},
     "nuid": "7965afbc-ba04-4482-91c6-369579a412ed",
     "showTitle": false,
     "title": ""
    }
   },
   "outputs": [],
   "source": [
    "# part a - spark job\n",
    "def EDA2(rdd,n):\n",
    "    top_n, bottom_n, sampled_counts = None, None, None\n",
    "    ############# YOUR CODE HERE ###############\n",
    "\n",
    "    result = rdd.map(lambda line: line.split('\\t')) \\\n",
    "             .flatMap(collectNeighbors) \\\n",
    "             .reduceByKey(lambda x,y : x + \",\" + y)\\\n",
    "             .flatMap(countUniqueNeighbors) \\\n",
    "             .cache()\n",
    "    result\n",
    "    \n",
    "    #top_n = A list of the top 10 words & their counts\n",
    "    top_n = result.takeOrdered(n, key=lambda x: -x[1]) \n",
    "    \n",
    "    #bottom_n = A list of the bottom 10 words & their counts\n",
    "    bottom_n = result.takeOrdered(n, key=lambda x: x[1]) \n",
    "    \n",
    "    \n",
    "    output = result.collect()\n",
    "    num_samples = math.ceil(len(output) * 0.01)\n",
    "    sampled_counts = []\n",
    "    \n",
    "    for i in range(0,num_samples):\n",
    "        index = np.random.choice(len(output), 1)[0]\n",
    "        word, value = output[index]\n",
    "        sampled_counts.append(value)\n",
    "    \n",
    "    ############# (END) YOUR CODE ##############\n",
    "    return top_n, bottom_n, sampled_counts"
   ]
  },
  {
   "cell_type": "code",
   "execution_count": 17,
   "metadata": {
    "application/vnd.databricks.v1+cell": {
     "inputWidgets": {},
     "nuid": "28365223-462e-4232-abd6-cfa2bc38af66",
     "showTitle": false,
     "title": ""
    }
   },
   "outputs": [
    {
     "name": "stderr",
     "output_type": "stream",
     "text": [
      "                                                                                \r"
     ]
    },
    {
     "name": "stdout",
     "output_type": "stream",
     "text": [
      "Wall time: 3.126817226409912 seconds\n"
     ]
    }
   ],
   "source": [
    "# part a - systems test (RUN THIS CELL AS IS)\n",
    "start = time.time()\n",
    "most_nbrs, least_nbrs, sample_counts = EDA2(testRDD, 10)\n",
    "print(\"Wall time: {} seconds\".format(time.time() - start))\n",
    "# Wall time: 2.1621551513671875 seconds"
   ]
  },
  {
   "cell_type": "code",
   "execution_count": 18,
   "metadata": {
    "application/vnd.databricks.v1+cell": {
     "inputWidgets": {},
     "nuid": "d387813d-7682-467e-b501-d3332ca207fb",
     "showTitle": false,
     "title": ""
    }
   },
   "outputs": [
    {
     "name": "stdout",
     "output_type": "stream",
     "text": [
      " --- Most Co-Words ---|--- Least Co-Words ----\n",
      "         was        9 |     foolishness    4\n",
      "          of        9 |            best    5\n",
      "         the        9 |           worst    5\n",
      "          it        8 |          wisdom    5\n",
      "         age        7 |             age    7\n",
      "       times        7 |           times    7\n",
      "        best        5 |              it    8\n",
      "       worst        5 |             was    9\n",
      "      wisdom        5 |              of    9\n",
      " foolishness        4 |             the    9\n"
     ]
    }
   ],
   "source": [
    "# part a - display results (feel free to modify the formatting code if needed)\n",
    "print(\" --- Most Co-Words ---|--- Least Co-Words ----\")\n",
    "for (w1, c1), (w2, c2) in zip(most_nbrs, least_nbrs):\n",
    "    print(f\"{w1:>12} {c1:>8} |{w2:>16} {c2:>4}\")"
   ]
  },
  {
   "cell_type": "markdown",
   "metadata": {
    "application/vnd.databricks.v1+cell": {
     "inputWidgets": {},
     "nuid": "a002829e-8e36-40ec-bde8-1d7d8a39d104",
     "showTitle": false,
     "title": ""
    }
   },
   "source": [
    "Expected output for testRDD:\n",
    "<pre>\n",
    " --- Most Co-Words ---|--- Least Co-Words ----\n",
    "         was        9 |     foolishness    4\n",
    "          of        9 |            best    5\n",
    "         the        9 |           worst    5\n",
    "          it        8 |          wisdom    5\n",
    "         age        7 |             age    7\n",
    "       times        7 |           times    7\n",
    "        best        5 |              it    8\n",
    "       worst        5 |             was    9\n",
    "      wisdom        5 |              of    9\n",
    " foolishness        4 |             the    9\n",
    " </pre>"
   ]
  },
  {
   "cell_type": "code",
   "execution_count": 19,
   "metadata": {
    "application/vnd.databricks.v1+cell": {
     "inputWidgets": {},
     "nuid": "f23d9344-a019-4985-bb5b-f98a7bf03bb6",
     "showTitle": false,
     "title": ""
    }
   },
   "outputs": [
    {
     "name": "stderr",
     "output_type": "stream",
     "text": [
      "                                                                                \r"
     ]
    },
    {
     "name": "stdout",
     "output_type": "stream",
     "text": [
      "Wall time: 9.770285844802856 seconds\n"
     ]
    }
   ],
   "source": [
    "# part a - single file test (RUN THIS CELL AS IS)\n",
    "start = time.time()\n",
    "most_nbrs, least_nbrs, sample_counts = EDA2(f1RDD, 10)\n",
    "print(\"Wall time: {} seconds\".format(time.time() - start))\n",
    "# Wall time: 10.43604040145874 seconds"
   ]
  },
  {
   "cell_type": "code",
   "execution_count": 20,
   "metadata": {
    "application/vnd.databricks.v1+cell": {
     "inputWidgets": {},
     "nuid": "9722b282-a935-48c6-8a10-54a72290f639",
     "showTitle": false,
     "title": ""
    }
   },
   "outputs": [
    {
     "name": "stdout",
     "output_type": "stream",
     "text": [
      " --- Most Co-Words ---|--- Least Co-Words ----\n",
      "         the    25548 |              vo    1\n",
      "          of    22496 |        premiers    2\n",
      "         and    16489 |      noncleaved    2\n",
      "          to    14249 |          pistil    2\n",
      "          in    13891 |            hoot    2\n",
      "           a    13045 |     palpitation    2\n",
      "        that     8011 |   selectiveness    2\n",
      "          is     7947 |        enclaves    2\n",
      "        with     7552 |           trill    2\n",
      "          by     7400 |     paleography    2\n"
     ]
    }
   ],
   "source": [
    "# part a - display results (feel free to modify the formatting code if needed)\n",
    "print(\" --- Most Co-Words ---|--- Least Co-Words ----\")\n",
    "for (w1, c1), (w2, c2) in zip(most_nbrs, least_nbrs):\n",
    "    print(f\"{w1:>12} {c1:>8} |{w2:>16} {c2:>4}\")"
   ]
  },
  {
   "cell_type": "markdown",
   "metadata": {
    "application/vnd.databricks.v1+cell": {
     "inputWidgets": {},
     "nuid": "91305880-710d-4bea-8611-be8482ff1fb6",
     "showTitle": false,
     "title": ""
    }
   },
   "source": [
    "Expected output for f1RDD:\n",
    "<pre>\n",
    " --- Most Co-Words ---|--- Least Co-Words ----\n",
    "         the    25548 |              vo    1\n",
    "          of    22496 |      noncleaved    2\n",
    "         and    16489 |        premiers    2\n",
    "          to    14249 |        enclaves    2\n",
    "          in    13891 |   selectiveness    2\n",
    "           a    13045 |           trill    2\n",
    "        that     8011 |           pizza    2\n",
    "          is     7947 |            hoot    2\n",
    "        with     7552 |     palpitation    2\n",
    "          by     7400 |            twel    2\n",
    "</pre>"
   ]
  },
  {
   "cell_type": "code",
   "execution_count": null,
   "metadata": {
    "application/vnd.databricks.v1+cell": {
     "inputWidgets": {},
     "nuid": "7c1d0769-3bbb-4c2f-886c-a6c286d1552c",
     "showTitle": false,
     "title": ""
    }
   },
   "outputs": [
    {
     "name": "stderr",
     "output_type": "stream",
     "text": [
      "[Stage 16:=========================>                              (29 + 4) / 64]\r"
     ]
    }
   ],
   "source": [
    "# part a - full data (RUN THIS CELL AS IS)\n",
    "start = time.time()\n",
    "most_nbrs, least_nbrs, sample_counts = EDA2(dataRDD, 10)\n",
    "print(\"Wall time: {} seconds\".format(time.time() - start))\n",
    "# Wall time: 1204.2034149169922 seconds"
   ]
  },
  {
   "cell_type": "code",
   "execution_count": 60,
   "metadata": {
    "application/vnd.databricks.v1+cell": {
     "inputWidgets": {},
     "nuid": "dd5932f9-e92a-4001-a11f-7fe9ef1441ad",
     "showTitle": false,
     "title": ""
    }
   },
   "outputs": [
    {
     "name": "stdout",
     "output_type": "stream",
     "text": [
      " --- Most Co-Words ---|--- Least Co-Words ----\n",
      "         the   164982 |          cococo    1\n",
      "          of   155708 |            inin    1\n",
      "         and   132814 |        charuhas    1\n",
      "          in   110615 |         ooooooo    1\n",
      "          to    94358 |           iiiii    1\n",
      "           a    89197 |          iiiiii    1\n",
      "          by    67266 |             cnj    1\n",
      "        with    65127 |            choh    1\n",
      "        that    61174 |             neg    1\n",
      "          as    60652 |      cococococo    1\n"
     ]
    }
   ],
   "source": [
    "# part a - display results (feel free to modify the formatting code if needed)\n",
    "print(\" --- Most Co-Words ---|--- Least Co-Words ----\")\n",
    "for (w1, c1), (w2, c2) in zip(most_nbrs, least_nbrs):\n",
    "    print(f\"{w1:>12} {c1:>8} |{w2:>16} {c2:>4}\")"
   ]
  },
  {
   "cell_type": "markdown",
   "metadata": {
    "application/vnd.databricks.v1+cell": {
     "inputWidgets": {},
     "nuid": "5d6764e4-62a4-4fce-9761-9aa5ee03d30e",
     "showTitle": false,
     "title": ""
    }
   },
   "source": [
    "Expected output for dataRDD: \n",
    "(bottom words might vary a little due to ties)\n",
    "<pre>\n",
    " --- Most Co-Words ---|--- Least Co-Words ----\n",
    "         the   164982 |          cococo    1\n",
    "          of   155708 |            inin    1\n",
    "         and   132814 |        charuhas    1\n",
    "          in   110615 |         ooooooo    1\n",
    "          to    94358 |           iiiii    1\n",
    "           a    89197 |          iiiiii    1\n",
    "          by    67266 |             cnj    1\n",
    "        with    65127 |            choh    1\n",
    "        that    61174 |             neg    1\n",
    "          as    60652 |      cococococo    1\n",
    "</pre>"
   ]
  },
  {
   "cell_type": "markdown",
   "metadata": {
    "application/vnd.databricks.v1+cell": {
     "inputWidgets": {},
     "nuid": "589e0ce5-0d5e-4d34-8948-1f907fb3d316",
     "showTitle": false,
     "title": ""
    }
   },
   "source": [
    "__`NOTE:`__ _before running the plotting code below, make sure that the variable_ `sample_counts` _points to the list generated in_ `part a`."
   ]
  },
  {
   "cell_type": "code",
   "execution_count": 20,
   "metadata": {
    "application/vnd.databricks.v1+cell": {
     "inputWidgets": {},
     "nuid": "41df9fd4-f75a-45f3-86f9-46d207136f18",
     "showTitle": false,
     "title": ""
    }
   },
   "outputs": [
    {
     "name": "stdout",
     "output_type": "stream",
     "text": [
      "NOTE: we'll exclude the 0 words with more than 6000 nbrs in this 364 count sample.\n"
     ]
    },
    {
     "data": {
      "image/png": "[encoded data removed]",
      "text/plain": [
       "<Figure size 1080x360 with 2 Axes>"
      ]
     },
     "metadata": {
      "needs_background": "light"
     },
     "output_type": "display_data"
    }
   ],
   "source": [
    "# part b - plot histogram (RUN THIS CELL AS IS - feel free to modify format)\n",
    "\n",
    "# removing extreme upper tail for a better visual\n",
    "counts = np.array(sample_counts)[np.array(sample_counts) < 6000]\n",
    "t = sum(np.array(sample_counts) > 6000)\n",
    "n = len(counts)\n",
    "print(\"NOTE: we'll exclude the %s words with more than 6000 nbrs in this %s count sample.\" % (t,n))\n",
    "\n",
    "# set up figure\n",
    "fig, (ax1, ax2) = plt.subplots(1,2, figsize = (15,5))\n",
    "\n",
    "# plot regular hist\n",
    "ax1.hist(counts, bins=50)\n",
    "ax1.set_title('Freqency of Number of Co-Words', color='0.1')\n",
    "ax1.set_facecolor('0.9')\n",
    "ax1.tick_params(axis='both', colors='0.1')\n",
    "ax1.grid(True)\n",
    "\n",
    "# plot log scale hist\n",
    "ax2.hist(counts, bins=50)\n",
    "ax2.set_title('(log)Freqency of Number of Co-Words', color='0.1')\n",
    "ax2.set_facecolor('0.9')\n",
    "ax2.tick_params(axis='both', colors='0.1')\n",
    "ax2.grid(True)\n",
    "plt.yscale('log')\n"
   ]
  },
  {
   "cell_type": "code",
   "execution_count": 24,
   "metadata": {
    "application/vnd.databricks.v1+cell": {
     "inputWidgets": {},
     "nuid": "15310f55-9345-4dd1-907b-a719f475e693",
     "showTitle": false,
     "title": ""
    }
   },
   "outputs": [],
   "source": [
    "# part c - spark job\n",
    "def compareRankings(rdd1, rdd2):\n",
    "    percent_overlap = None\n",
    "    ############# YOUR CODE HERE ###############\n",
    "\n",
    "    result = rdd1.keys().intersection(rdd2.keys()).collect()\n",
    "    \n",
    "    shared_words = len(result)\n",
    "    total_words = len(rdd1.collect())\n",
    "    \n",
    "    percent_overlap = (shared_words/total_words) * 100\n",
    "    \n",
    "    ############# (END) YOUR CODE ##############\n",
    "    return percent_overlap"
   ]
  },
  {
   "cell_type": "code",
   "execution_count": 25,
   "metadata": {
    "application/vnd.databricks.v1+cell": {
     "inputWidgets": {},
     "nuid": "daa4ad30-6c4d-4622-8bd6-1a5c6f94287e",
     "showTitle": false,
     "title": ""
    }
   },
   "outputs": [
    {
     "name": "stderr",
     "output_type": "stream",
     "text": [
      "                                                                                \r"
     ]
    },
    {
     "name": "stdout",
     "output_type": "stream",
     "text": [
      "Of the 1000 words with most neighbors, 100.0 percent are also in the list of 1000 most frequent words.\n",
      "Of the 1000 words with least neighbors, 100.0 percent are also in the list of 1000 least frequent words.\n"
     ]
    }
   ],
   "source": [
    "# part c - get lists for comparison (RUN THIS CELL AS IS...)\n",
    "# (... then change 'testRDD' to 'f1RDD'/'dataRDD' when ready)\n",
    "total, topWords, bottomWords = EDA1(testRDD, 1000)\n",
    "topNbrs, bottomNbrs, sample_counts = EDA2(testRDD, 1000)\n",
    "twRDD = sc.parallelize(topWords)\n",
    "bwRDD = sc.parallelize(bottomWords)\n",
    "tnRDD = sc.parallelize(topNbrs)\n",
    "bnRDD = sc.parallelize(bottomNbrs)\n",
    "top_overlap = compareRankings(tnRDD, twRDD)\n",
    "bottom_overlap = compareRankings(bnRDD,bwRDD)\n",
    "print(f\"Of the 1000 words with most neighbors, {top_overlap} percent are also in the list of 1000 most frequent words.\")\n",
    "print(f\"Of the 1000 words with least neighbors, {bottom_overlap} percent are also in the list of 1000 least frequent words.\")"
   ]
  },
  {
   "cell_type": "code",
   "execution_count": 26,
   "metadata": {},
   "outputs": [
    {
     "name": "stderr",
     "output_type": "stream",
     "text": [
      "                                                                                \r"
     ]
    },
    {
     "name": "stdout",
     "output_type": "stream",
     "text": [
      "Of the 1000 words with most neighbors, 87.6 percent are also in the list of 1000 most frequent words.\n",
      "Of the 1000 words with least neighbors, 4.8 percent are also in the list of 1000 least frequent words.\n"
     ]
    }
   ],
   "source": [
    "# part c - get lists for comparison (RUN THIS CELL AS IS...)\n",
    "# (... then change 'testRDD' to 'f1RDD'/'dataRDD' when ready)\n",
    "total, topWords, bottomWords = EDA1(f1RDD, 1000)\n",
    "topNbrs, bottomNbrs, sample_counts = EDA2(f1RDD, 1000)\n",
    "twRDD = sc.parallelize(topWords)\n",
    "bwRDD = sc.parallelize(bottomWords)\n",
    "tnRDD = sc.parallelize(topNbrs)\n",
    "bnRDD = sc.parallelize(bottomNbrs)\n",
    "top_overlap = compareRankings(tnRDD, twRDD)\n",
    "bottom_overlap = compareRankings(bnRDD,bwRDD)\n",
    "print(f\"Of the 1000 words with most neighbors, {top_overlap} percent are also in the list of 1000 most frequent words.\")\n",
    "print(f\"Of the 1000 words with least neighbors, {bottom_overlap} percent are also in the list of 1000 least frequent words.\")"
   ]
  },
  {
   "cell_type": "code",
   "execution_count": null,
   "metadata": {},
   "outputs": [],
   "source": [
    "# part c - get lists for comparison (RUN THIS CELL AS IS...)\n",
    "# (... then change 'testRDD' to 'f1RDD'/'dataRDD' when ready)\n",
    "total, topWords, bottomWords = EDA1(dataRDD, 1000)\n",
    "topNbrs, bottomNbrs, sample_counts = EDA2(dataRDD, 1000)\n",
    "twRDD = sc.parallelize(topWords)\n",
    "bwRDD = sc.parallelize(bottomWords)\n",
    "tnRDD = sc.parallelize(topNbrs)\n",
    "bnRDD = sc.parallelize(bottomNbrs)\n",
    "top_overlap = compareRankings(tnRDD, twRDD)\n",
    "bottom_overlap = compareRankings(bnRDD,bwRDD)\n",
    "print(f\"Of the 1000 words with most neighbors, {top_overlap} percent are also in the list of 1000 most frequent words.\")\n",
    "print(f\"Of the 1000 words with least neighbors, {bottom_overlap} percent are also in the list of 1000 least frequent words.\")"
   ]
  },
  {
   "cell_type": "markdown",
   "metadata": {
    "application/vnd.databricks.v1+cell": {
     "inputWidgets": {},
     "nuid": "8bda2949-b3f0-4446-8010-4f3d53bfd605",
     "showTitle": false,
     "title": ""
    }
   },
   "source": [
    "# Question 7: Basis Vocabulary & Stripes\n",
    "\n",
    "Every word that appears in our data is a potential feature for our synonym detection analysis. However as we've discussed, some are likely to be more useful than others. In this question, you'll choose a judicious subset of these words to form our 'basis vocabulary'. Practically speaking, this means that when we build our stripes, we are only going to keep track of when a term co-occurs with one of these basis words. \n",
    "\n",
    "\n",
    "### Q7 Tasks:\n",
    "* __a) multiple choice:__ Suppose we were deciding between two different basis vocabularies: the 1000 most frequent words or the 1000 least frequent words. How would this choice impact the quality of the synonyms we are able to detect? How does this choice relate to the ideas of 'overfitting' or 'underfitting' a training set?\n",
    "<pre>  \n",
    "  MULTIPLE CHOICE:\n",
    "   A. 1000 most frequent words would overfit, while 1000 least frequent words would underfit\n",
    "   B. 1000 most frequent words would underfit, while 1000 least frequent words would overfit\n",
    "  \n",
    "  BONUS: Explain your answer \n",
    "</pre>\n",
    "* __b) short response:__ If we had a much larger dataset, computing the full ordered list of words would be extremely expensive. If we need to none-the-less get an estimate of word frequency in order to decide on a basis vocabulary, what alternative strategy could we take?\n",
    "\n",
    "* __c) multiple choice:__ Run the provided spark job that does the following:\n",
    "  * tokenizes, removes stopwords and computes a word count on the ngram data\n",
    "  * subsets the top 10,000 words (these are the terms we'll consider as potential synonyms)\n",
    "  * subsets words 9,000-9,999 (this will be our 1,000 word basis vocabulary)    \n",
    "  (to put it another way - of the top 10,000 words, the bottom 1,000 form the basis vocabulary)\n",
    "  * saves the full 10K word list and the 1K basis vocabulary to file for use in `d`.  \n",
    "<pre>\n",
    "  What is another way to describe the Basis Vocabulary in machine learning terms?\n",
    "  A. Stop-words\n",
    "  B. Features\n",
    "  C. Postings\n",
    "  D. 1000-grams\n",
    "</pre>\n",
    "\n",
    "* __d) code:__ Write a spark job that builds co-occurrence stripes for the top 10K words in the ngram data using the basis vocabulary you developed in `part c`. This job/function, unlike others so far, should return an RDD (which we will then use in q8)."
   ]
  },
  {
   "cell_type": "markdown",
   "metadata": {
    "application/vnd.databricks.v1+cell": {
     "inputWidgets": {},
     "nuid": "7b533d39-a950-40cc-b529-05216c6872d8",
     "showTitle": false,
     "title": ""
    }
   },
   "source": [
    "### Q7 Student Answers:\n",
    "\n",
    "> __a)__ \n",
    "\n",
    "The answer is A - 1000 most frequent words would overfit, while 1000 least frequent words would underfit. This is because these vocabulary words would provide different types of context for determining the synonyms. \n",
    "\n",
    "> __a-bonus)__ \n",
    "\n",
    "In general, the least frequent words can have a count of 1, meaning that they are very uncommon in the corpus. As a result, they would be too specific and not be able to provide much context that would be necessary in order to produce appropriate synonyms. This means there is not enough information to determine synonyms and would lead to underfitting the data. Furthermore, in a large corpus, the most common words generally consist of frequent stop words. These are not particularly useful for synonym detection. Also, the non-stop words in the 1000 most frequent are used frequently enough that their context is general, meaning that they are not specific enough to provide valuable information for calculating a synonym. This would lead to overfitting the data. Thus, the 1000 most frequent words would overfit, while 1000 least frequent words would underfit.\n",
    "\n",
    "> __b)__ \n",
    "\n",
    "If we had a much larger dataset and needed to get an estimate of the word frequency in order to decide on a basis vocabulary, we would not want to top or bottom most frequent words. Instead we would want the middle most frequent words. This is because these words will be general enough to be used somewhat frequently throughout the text, but not be so frequent that they don’t provide useful information about the context. So, an alternative strategy we could take to decide on a basis vocabulary would be to calculate the size of the dataset and then use that value to find the “middle” 100 most frequent words.\n",
    "\n",
    "> __c)__ \n",
    "\n",
    "The answer is B - Features."
   ]
  },
  {
   "cell_type": "code",
   "execution_count": 16,
   "metadata": {
    "application/vnd.databricks.v1+cell": {
     "inputWidgets": {},
     "nuid": "b853bc36-399b-4f21-af49-697c2019f6a9",
     "showTitle": false,
     "title": ""
    }
   },
   "outputs": [],
   "source": [
    "# part c - provided stopwords (RUN THIS CELL AS IS)\n",
    "STOPWORDS =  ['i', 'me', 'my', 'myself', 'we', 'our', 'ours', \n",
    "              'ourselves', 'you', 'your', 'yours', 'yourself', \n",
    "              'yourselves', 'he', 'him', 'his', 'himself', 'she', \n",
    "              'her', 'hers', 'herself', 'it', 'its', 'itself', \n",
    "              'they', 'them', 'their', 'theirs', 'themselves', \n",
    "              'what', 'which', 'who', 'whom', 'this', 'that', \n",
    "              'these', 'those', 'am', 'is', 'are', 'was', 'were', \n",
    "              'be', 'been', 'being', 'have', 'has', 'had', 'having', \n",
    "              'do', 'does', 'did', 'doing', 'a', 'an', 'the', 'and', \n",
    "              'but', 'if', 'or', 'because', 'as', 'until', 'while', \n",
    "              'of', 'at', 'by', 'for', 'with', 'about', 'against', \n",
    "              'between', 'into', 'through', 'during', 'before', \n",
    "              'after', 'above', 'below', 'to', 'from', 'up', 'down', \n",
    "              'in', 'out', 'on', 'off', 'over', 'under', 'again', \n",
    "              'further', 'then', 'once', 'here', 'there', 'when', \n",
    "              'where', 'why', 'how', 'all', 'any', 'both', 'each', \n",
    "              'few', 'more', 'most', 'other', 'some', 'such', 'no', \n",
    "              'nor', 'not', 'only', 'own', 'same', 'so', 'than', \n",
    "              'too', 'very', 'should', 'can', 'now', 'will', 'just', \n",
    "              'would', 'could', 'may', 'must', 'one', 'much', \"it's\",\n",
    "              \"can't\", \"won't\", \"don't\", \"shouldn't\", \"hasn't\"]"
   ]
  },
  {
   "cell_type": "code",
   "execution_count": 17,
   "metadata": {
    "application/vnd.databricks.v1+cell": {
     "inputWidgets": {},
     "nuid": "6f3bad8f-3d76-401d-8687-e16db841de68",
     "showTitle": false,
     "title": ""
    }
   },
   "outputs": [],
   "source": [
    "# part c - get the vocabulary and basis (RUN THIS CELL AS IS)\n",
    "# \n",
    "def get_vocab(rdd, n_total, n_basis):\n",
    "    vocab, basis = None, None\n",
    "    ############# YOUR CODE HERE ###############\n",
    "    sw = sc.broadcast(set(STOPWORDS))\n",
    "    top_10k = rdd.map(lambda line: line.split('\\t')[0:2])\\\n",
    "                 .flatMap(lambda x: [(w, int(x[1])) for w in x[0].lower().split() \n",
    "                                     if w not in sw.value])\\\n",
    "                 .reduceByKey(lambda x,y: x+y)\\\n",
    "                 .takeOrdered(n_total, key=lambda x: -x[1])\n",
    "    vocab = [pair[0] for pair in top_10k]\n",
    "    basis = vocab[n_total - n_basis:]\n",
    "    ############# (END) YOUR CODE ##############\n",
    "    return vocab, basis"
   ]
  },
  {
   "cell_type": "code",
   "execution_count": 18,
   "metadata": {
    "application/vnd.databricks.v1+cell": {
     "inputWidgets": {},
     "nuid": "817d0400-d9a5-4f5f-9fc8-106fc2614c75",
     "showTitle": false,
     "title": ""
    }
   },
   "outputs": [
    {
     "name": "stderr",
     "output_type": "stream",
     "text": [
      "                                                                                \r"
     ]
    },
    {
     "name": "stdout",
     "output_type": "stream",
     "text": [
      "Wall time: 218.23653078079224 seconds\n"
     ]
    }
   ],
   "source": [
    "# part c - run your job (RUN THIS CELL AS IS)\n",
    "start = time.time()\n",
    "VOCAB, BASIS = get_vocab(dataRDD, 10000, 1000)\n",
    "print(\"Wall time: {} seconds\".format(time.time() - start))\n",
    "# Wall time: 268.0176115036011 seconds"
   ]
  },
  {
   "cell_type": "code",
   "execution_count": 19,
   "metadata": {
    "application/vnd.databricks.v1+cell": {
     "inputWidgets": {},
     "nuid": "320fa840-3dd9-40ce-9584-4e7861d5b8f2",
     "showTitle": false,
     "title": ""
    }
   },
   "outputs": [],
   "source": [
    "# part c - save to file (RUN THIS CELL AS IS)\n",
    "with open(\"vocabulary.txt\", \"w\") as file:\n",
    "    file.write(str(VOCAB))\n",
    "with open(\"basis.txt\", \"w\") as file:\n",
    "    file.write(str(BASIS))"
   ]
  },
  {
   "cell_type": "code",
   "execution_count": 34,
   "metadata": {},
   "outputs": [],
   "source": [
    "# helper function \n",
    "def buildNeighbors(text_counts, VOCAB, BASIS):\n",
    "    text, count, page_count, book_count = text_counts\n",
    "    words = text.lower().split(\" \")\n",
    "    \n",
    "    for i, w in enumerate(words):\n",
    "        if w in VOCAB.value:\n",
    "            for index in range(i+1,len(words)):\n",
    "                neighbor = words[index]      \n",
    "                \n",
    "                if neighbor in BASIS.value and w != neighbor:\n",
    "                    yield (w, neighbor)\n",
    "                    \n",
    "                if w in BASIS.value and neighbor in VOCAB.value and w != neighbor:\n",
    "                    yield (neighbor, w)\n",
    "                        "
   ]
  },
  {
   "cell_type": "code",
   "execution_count": 31,
   "metadata": {},
   "outputs": [],
   "source": [
    "# helper function \n",
    "def groupNeighbors(neighbor_pairs):\n",
    "    word, neighbors = neighbor_pairs\n",
    "    \n",
    "    neighbors = neighbors.split(\",\")\n",
    "    unique_neighbors = set(neighbors)\n",
    "               \n",
    "    yield (word, unique_neighbors)"
   ]
  },
  {
   "cell_type": "code",
   "execution_count": 32,
   "metadata": {
    "application/vnd.databricks.v1+cell": {
     "inputWidgets": {},
     "nuid": "e26c9657-5646-4835-b065-489c874ad30b",
     "showTitle": false,
     "title": ""
    }
   },
   "outputs": [],
   "source": [
    "# part d - spark job\n",
    "def buildStripes(rdd, vocab, basis):\n",
    "    stripesRDD = None\n",
    "    ############# YOUR CODE HERE ###############\n",
    "    V = sc.broadcast(set(vocab))\n",
    "    B = sc.broadcast(set(basis))\n",
    "    \n",
    "    stripesRDD = rdd.map(lambda line: line.split('\\t')) \\\n",
    "              .flatMap(lambda j: buildNeighbors(j, V, B)).cache() \\\n",
    "              .reduceByKey(lambda x,y : x + \",\" + y) \\\n",
    "              .flatMap(groupNeighbors).cache()\n",
    "    \n",
    "    ############# (END) YOUR CODE ##############\n",
    "    return stripesRDD"
   ]
  },
  {
   "cell_type": "code",
   "execution_count": 35,
   "metadata": {
    "application/vnd.databricks.v1+cell": {
     "inputWidgets": {},
     "nuid": "2a70b273-fb86-4f86-8111-a3480ecf18a7",
     "showTitle": false,
     "title": ""
    }
   },
   "outputs": [
    {
     "name": "stdout",
     "output_type": "stream",
     "text": [
      "[('best', {'times'}), ('worst', {'times'}), ('foolishness', {'age'}), ('age', {'foolishness', 'times', 'wisdom'}), ('wisdom', {'age'}), ('times', {'best', 'age', 'worst'})]\n",
      "Wall time: 0.16620969772338867 seconds\n"
     ]
    },
    {
     "data": {
      "text/plain": [
       "\"\\n[('worst', {'times'}), ('best', {'times'}), ('foolishness', {'age'}), ('age', {'wisdom', 'foolishness', 'times'}), ('wisdom', {'age'}), ('times', {'age', 'best', 'worst'})]\\n\""
      ]
     },
     "execution_count": 35,
     "metadata": {},
     "output_type": "execute_result"
    }
   ],
   "source": [
    "# part d - run your systems test (RUN THIS CELL AS IS)\n",
    "VOCAB, BASIS = get_vocab(testRDD, 10, 10)\n",
    "testStripesRDD = buildStripes(testRDD, VOCAB, BASIS)\n",
    "start = time.time()\n",
    "print(testStripesRDD.collect())\n",
    "print(\"Wall time: {} seconds\".format(time.time() - start))\n",
    "# Wall time: 0.1581110954284668 seconds\n",
    "# Expected results\n",
    "'''\n",
    "[('worst', {'times'}), ('best', {'times'}), ('foolishness', {'age'}), ('age', {'wisdom', 'foolishness', 'times'}), ('wisdom', {'age'}), ('times', {'age', 'best', 'worst'})]\n",
    "'''"
   ]
  },
  {
   "cell_type": "code",
   "execution_count": 36,
   "metadata": {
    "application/vnd.databricks.v1+cell": {
     "inputWidgets": {},
     "nuid": "2d6a2071-70d0-482b-9290-4e91d9f543d9",
     "showTitle": false,
     "title": ""
    }
   },
   "outputs": [
    {
     "name": "stderr",
     "output_type": "stream",
     "text": [
      "[Stage 33:====================================================>   (15 + 1) / 16]\r"
     ]
    },
    {
     "name": "stdout",
     "output_type": "stream",
     "text": [
      "[('zippor', {'balak'}), ('zedong', {'mao'}), ('zeal', {'infallibility'}), ('youth', {'constrained', 'mould'}), ('younger', {'careers'})]\n",
      "Wall time: 1.715839147567749 seconds\n"
     ]
    },
    {
     "name": "stderr",
     "output_type": "stream",
     "text": [
      "                                                                                \r"
     ]
    },
    {
     "data": {
      "text/plain": [
       "\"\\n[('zippor', {'balak'}), ('zedong', {'mao'}), ('zeal', {'infallibility'}), ('youth', {'mould', 'constrained'}), ('younger', {'careers'})]\\n\""
      ]
     },
     "execution_count": 36,
     "metadata": {},
     "output_type": "execute_result"
    }
   ],
   "source": [
    "# part d - run your single file test (RUN THIS CELL AS IS)\n",
    "VOCAB, BASIS = get_vocab(f1RDD, 10000, 1000)\n",
    "f1StripesRDD = buildStripes(f1RDD, VOCAB, BASIS).cache()\n",
    "start = time.time()\n",
    "print(f1StripesRDD.top(5))\n",
    "print(\"Wall time: {} seconds\".format(time.time() - start))\n",
    "# Wall time: 1.55739426612854 seconds\n",
    "# Expected results\n",
    "'''\n",
    "[('zippor', {'balak'}), ('zedong', {'mao'}), ('zeal', {'infallibility'}), ('youth', {'mould', 'constrained'}), ('younger', {'careers'})]\n",
    "'''"
   ]
  },
  {
   "cell_type": "code",
   "execution_count": 37,
   "metadata": {
    "application/vnd.databricks.v1+cell": {
     "inputWidgets": {},
     "nuid": "470096b5-c854-4a3a-b8b7-50e45cd23c72",
     "showTitle": false,
     "title": ""
    }
   },
   "outputs": [
    {
     "name": "stderr",
     "output_type": "stream",
     "text": [
      "[Stage 37:===============================================>        (54 + 4) / 64]\r"
     ]
    },
    {
     "name": "stdout",
     "output_type": "stream",
     "text": [
      "zones\n",
      "['residential', 'environments', 'buffer', 'subdivided', 'localities', 'saturation', 'remotest', 'parks', 'warmer', 'uppermost', 'adhesion', 'gaza']\n",
      "-------\n",
      "zone\n",
      "['cracks', 'flexor', 'inorganic', 'diffuse', 'trigger', 'ie', 'unusually', 'glowing', 'southeastern', 'officially', 'transitional', 'au', 'saturation', 'narrower', 'fibrous', 'americas', 'intervening', 'penetrating', 'guides', 'penis', 'atlas', 'articular', 'contamination', 'defines', 'alaska', 'turbulent', 'buffer', 'illuminated', 'avoidance', 'sandy', 'poorly', 'uppermost', 'assisting', 'accumulate', 'residential', 'masculine', 'excitation', 'originate', 'subdivided', 'tribal', 'auxiliary', 'traversed', 'vomiting', 'cartilage', 'persia', 'parked']\n",
      "-------\n",
      "zinc\n",
      "['radioactive', 'ammonium', 'hydroxide', 'dietary', 'diamond', 'leukemia', 'burns', 'coating', 'pancreas', 'metallic', 'dysfunction', 'insoluble', 'phosphorus', 'weighing', 'dipped', 'transcription', 'wasting', \"alzheimer's\"]\n",
      "-------\n",
      "Wall time: 154.5355155467987 seconds\n"
     ]
    },
    {
     "name": "stderr",
     "output_type": "stream",
     "text": [
      "                                                                                \r"
     ]
    },
    {
     "data": {
      "text/plain": [
       "'\\nzones\\n[\\'remotest\\', \\'adhesion\\', \\'residential\\', \\'subdivided\\', \\'environments\\', \\'gaza\\', \\'saturation\\', \\'localities\\', \\'uppermost\\', \\'warmer\\', \\'buffer\\', \\'parks\\']\\n-------\\nzone\\n[\\'tribal\\', \\'narrower\\', \\'fibrous\\', \\'saturation\\', \\'originate\\', \\'auxiliary\\', \\'ie\\', \\'buffer\\', \\'transitional\\', \\'turbulent\\', \\'vomiting\\', \\'americas\\', \\'articular\\', \\'poorly\\', \\'intervening\\', \\'officially\\', \\'accumulate\\', \\'assisting\\', \\'flexor\\', \\'traversed\\', \\'unusually\\', \\'uppermost\\', \\'cartilage\\', \\'inorganic\\', \\'illuminated\\', \\'glowing\\', \\'contamination\\', \\'trigger\\', \\'masculine\\', \\'defines\\', \\'avoidance\\', \\'residential\\', \\'southeastern\\', \\'penis\\', \\'cracks\\', \\'atlas\\', \\'excitation\\', \\'persia\\', \\'diffuse\\', \\'subdivided\\', \\'alaska\\', \\'guides\\', \\'au\\', \\'sandy\\', \\'penetrating\\', \\'parked\\']\\n-------\\nzinc\\n[\\'ammonium\\', \\'coating\\', \\'pancreas\\', \\'insoluble\\', \"alzheimer\\'s\", \\'diamond\\', \\'radioactive\\', \\'metallic\\', \\'weighing\\', \\'dysfunction\\', \\'wasting\\', \\'phosphorus\\', \\'transcription\\', \\'dipped\\', \\'hydroxide\\', \\'burns\\', \\'leukemia\\', \\'dietary\\']\\n-------\\n'"
      ]
     },
     "execution_count": 37,
     "metadata": {},
     "output_type": "execute_result"
    }
   ],
   "source": [
    "# part d - run the full analysis and take a look at a few stripes (RUN THIS CELL AS IS)\n",
    "VOCAB = ast.literal_eval(open(\"vocabulary.txt\", \"r\").read())\n",
    "BASIS = ast.literal_eval(open(\"basis.txt\", \"r\").read())\n",
    "stripesRDD = buildStripes(dataRDD, VOCAB, BASIS).cache()\n",
    "\n",
    "start = time.time()\n",
    "for wrd, stripe in stripesRDD.top(3):\n",
    "    print(wrd)\n",
    "    print(list(stripe))\n",
    "    print('-------')\n",
    "print(\"Wall time: {} seconds\".format(time.time() - start))\n",
    "# Wall time: 214.13801431655884 seconds\n",
    "# Expected results:\n",
    "'''\n",
    "zones\n",
    "['remotest', 'adhesion', 'residential', 'subdivided', 'environments', 'gaza', 'saturation', 'localities', 'uppermost', 'warmer', 'buffer', 'parks']\n",
    "-------\n",
    "zone\n",
    "['tribal', 'narrower', 'fibrous', 'saturation', 'originate', 'auxiliary', 'ie', 'buffer', 'transitional', 'turbulent', 'vomiting', 'americas', 'articular', 'poorly', 'intervening', 'officially', 'accumulate', 'assisting', 'flexor', 'traversed', 'unusually', 'uppermost', 'cartilage', 'inorganic', 'illuminated', 'glowing', 'contamination', 'trigger', 'masculine', 'defines', 'avoidance', 'residential', 'southeastern', 'penis', 'cracks', 'atlas', 'excitation', 'persia', 'diffuse', 'subdivided', 'alaska', 'guides', 'au', 'sandy', 'penetrating', 'parked']\n",
    "-------\n",
    "zinc\n",
    "['ammonium', 'coating', 'pancreas', 'insoluble', \"alzheimer's\", 'diamond', 'radioactive', 'metallic', 'weighing', 'dysfunction', 'wasting', 'phosphorus', 'transcription', 'dipped', 'hydroxide', 'burns', 'leukemia', 'dietary']\n",
    "-------\n",
    "'''"
   ]
  },
  {
   "cell_type": "code",
   "execution_count": 38,
   "metadata": {
    "application/vnd.databricks.v1+cell": {
     "inputWidgets": {},
     "nuid": "4c83537a-cc0c-4629-9aa1-eaefeb9bfa46",
     "showTitle": false,
     "title": ""
    }
   },
   "outputs": [
    {
     "name": "stderr",
     "output_type": "stream",
     "text": [
      "                                                                                \r"
     ]
    }
   ],
   "source": [
    "# part d - save your full stripes to file for ease of retrival later... (OPTIONAL)\n",
    "stripesRDD.saveAsTextFile(PWD + '/stripes')"
   ]
  },
  {
   "cell_type": "markdown",
   "metadata": {
    "application/vnd.databricks.v1+cell": {
     "inputWidgets": {},
     "nuid": "755130f1-1af3-472e-bd74-3435b7e2939f",
     "showTitle": false,
     "title": ""
    }
   },
   "source": [
    "# Question 8: Synonym Detection\n",
    "\n",
    "We're now ready to perform the main synonym detection analysis. In the tasks below you will compute cosine, jaccard, dice and overlap similarity measurements for each pair of words in our vocabulary and then sort your results to find the most similar pairs of words in this dataset. __`IMPORTANT:`__ When you get to the sorting step please __sort on cosine similarity__ only, so that we can ensure consistent results from student to student. \n",
    "\n",
    "Remember to test each step of your work with the small files before running your code on the full dataset. This is a computationally intense task: well designed code can be the difference between a 20min job and a 2hr job. __`NOTE:`__ _as you are designing your code you may want to review questions 3 and 4 where we modeled some of the key pieces of this analysis._\n",
    "\n",
    "### Q8 Tasks:\n",
    "* __a) short response:__ In question 7 you wrote a function that would create word stripes for each `term` in our vocabulary. These word stripes are essentially an 'embedded representation' of the `term`'s meaning. What is the 'feature space' for this representation? (i.e. what are the features of our 1-hot encoded vectors?). What is the maximum length of a stripe?\n",
    "\n",
    "* __b) short response:__ Remember that we are going to treat these stripes as 'documents' and perform similarity analysis on them. The first step is to emit postings which then get collected to form an 'inverted index.' How many rows will there be in our inverted index? Explain.\n",
    "\n",
    "* __c) short response:__ In the demo from question 2, we were able to compute the cosine similarity directly from the stripes (we did this using their vector form, but could have used the list instead). So why do we need the inverted index?\n",
    "\n",
    "* __d) code:__ Write a spark job that does the following:\n",
    "  * loops over the stripes from Q7 and emits postings for the `term` _(key:term, value:posting)_   \n",
    "  * aggregates the postings to create an inverted index _(key:term, value:list of postings)_\n",
    "  * loops over all pairs of `term`s that appear in the same postings list and emits co-occurrence counts\n",
    "  * aggregates co-occurrences _(key:word pair, value:count + other payload)_\n",
    "  * uses the counts (along with the accompanying information) to compute the cosine, jacard, dice and overlap similarity metrics for each pair of words in the vocabulary \n",
    "  * retrieve the top 20 and bottom 20 most/least similar pairs of words\n",
    "  * also return the cached sorted RDD for use in the next question  \n",
    "  __`NOTE 1`:__ _Don't forget to include the stripe length when you are creating the postings & co-occurrence pairs. A composite key is the way to go here._  \n",
    "  __`NOTE 2`:__ _Please make sure that your final results are sorted according to cosine similarity otherwise your results may not match the expected result & you will be marked wrong._\n",
    "  \n",
    "* __e) code:__ Comment on the quality of the \"synonyms\" your analysis comes up with. Do you notice anything odd about these pairs of words? Discuss at least one idea for how you might go about improving on the analysis."
   ]
  },
  {
   "cell_type": "markdown",
   "metadata": {
    "application/vnd.databricks.v1+cell": {
     "inputWidgets": {},
     "nuid": "c04f1c10-c494-46fa-9c84-7eefb4036894",
     "showTitle": false,
     "title": ""
    }
   },
   "source": [
    "### Q8 Student Answers:\n",
    "\n",
    "> __a)__\n",
    "\n",
    "The word stripes are able to \"represent\" a term's meaning. The feature space for this representation is a vector of representative words that considered to be neighbors to the given term. So, the features of our 1-hot encoded vectors are the words that make up the basis vocabulary. the maximum length of a stripe is 1000. This is because stripes are made up of terms from the basis vocabulary, which was a 1000 word subset from the middle of the word frequency corpus. \n",
    "\n",
    "> __b)__\n",
    "\n",
    "There will be 1000 rows in our inverted index. This is because each stripe was formed from the basis vocabulary, which was made up of 1000 unique terms. So, a stripe can only potentially consist of the 1000 words in that subset. As a result, the inverted index will have a row for each of those 1000 basis vocabulary terms, with a basis term - [vocab term] structure.\n",
    "\n",
    "\n",
    "> __c)__ \n",
    "\n",
    "An inverted index is an index data structure storing a mapping from content, such as words or numbers, to its locations in a document or a set of documents. The purpose of an inverted index is to allow fast full-text searches. So, we need the inverted index in order to quickly interate through the terms and compute the cosine similarity from the postings. In general, we are able to leverage the basis term - [vocab term] structure of the inverted index to optimize our similarity calculations.\n",
    "\n",
    "\n",
    "> __e)__\n",
    "\n",
    "From our results, we can see that the quality of the \"synonym\" analysis is not very good. Even though they produce good similarity metric scores, most of the pairs are not necessarily synonyms at all. In general, the pairs seem to be made up of adjatives and nouns, such as \"great - time\". So, in order to improve the analysis, I would try to compare word pairs in the vocabulary that are not necessarily neighbors but have similar neighbors in their stripes. This would mean that the two words are used in similar contexts in the text. Thus, they would be more likely to be synonyms."
   ]
  },
  {
   "cell_type": "code",
   "execution_count": 39,
   "metadata": {
    "application/vnd.databricks.v1+cell": {
     "inputWidgets": {},
     "nuid": "b56bac93-522f-4c29-8895-3b4844720edb",
     "showTitle": false,
     "title": ""
    }
   },
   "outputs": [],
   "source": [
    "# helper function for pretty printing (RUN THIS CELL AS IS)\n",
    "def displayOutput(lines):\n",
    "    template = \"{:25}|{:6}, {:7}, {:7}, {:5}\"\n",
    "    print(template.format(\"Pair\", \"Cosine\", \"Jaccard\", \"Overlap\", \"Dice\"))\n",
    "    for pair, scores in lines:\n",
    "        scores = [round(s,4) for s in scores]\n",
    "        print(template.format(pair, *scores))"
   ]
  },
  {
   "cell_type": "code",
   "execution_count": 58,
   "metadata": {},
   "outputs": [],
   "source": [
    "from collections import Counter"
   ]
  },
  {
   "cell_type": "markdown",
   "metadata": {
    "application/vnd.databricks.v1+cell": {
     "inputWidgets": {},
     "nuid": "97a29461-b203-49cb-8bc1-16127644446c",
     "showTitle": false,
     "title": ""
    }
   },
   "source": [
    "__`TIP:`__ Feel free to define helper functions within the main function to help you organize your code. Readability is important! Eg:\n",
    "```\n",
    "def similarityAnlysis(stripesRDD):\n",
    "    \"\"\"main docstring\"\"\"\n",
    "    \n",
    "    simScoresRDD, top_n, bottom_n = None, None, None\n",
    "    \n",
    "    ############ YOUR CODE HERE ###########\n",
    "    def helper1():\n",
    "        \"\"\"helper docstring\"\"\"\n",
    "        return x\n",
    "        \n",
    "    def helper2():\n",
    "        \"\"\"helper docstring\"\"\"\n",
    "        return x\n",
    "        \n",
    "    # main spark job starts here\n",
    "    \n",
    "        ...etc\n",
    "    ############ (END) YOUR CODE ###########\n",
    "    return simScoresRDD, top_n, bottom_n\n",
    "```"
   ]
  },
  {
   "cell_type": "code",
   "execution_count": 69,
   "metadata": {
    "application/vnd.databricks.v1+cell": {
     "inputWidgets": {},
     "nuid": "c654dc13-824b-4905-920f-d11443f3d074",
     "showTitle": false,
     "title": ""
    }
   },
   "outputs": [],
   "source": [
    "# part d - write your spark job in the space provided\n",
    "def similarityAnalysis(stripesRDD, n):\n",
    "    \"\"\"\n",
    "    This function defines a Spark DAG to compute cosine, jaccard, \n",
    "    overlap and dice scores for each pair of words in the stripes\n",
    "    provided. \n",
    "    \n",
    "    Output: an RDD, a list of top n, a list of bottom n\n",
    "    \"\"\"\n",
    "    simScoresRDD, top_n, bottom_n = None, None, None\n",
    "    \n",
    "    ############### YOUR CODE HERE ################\n",
    "    \n",
    "    #loops over the stripes from Q7 and emits postings for the term (key:term, value:posting)\n",
    "    def helper1(stripes):\n",
    "        term, stripe = stripes\n",
    "        \n",
    "        # Don't forget to include the stripe length when you are creating the postings & co-occurrence pairs. \n",
    "        # A composite key is the way to go here.\n",
    "        for word in stripe:\n",
    "            yield (word, [(term, len(stripe))])\n",
    "            \n",
    "    #loops over all pairs of terms that appear in the same postings list and emits co-occurrence counts        \n",
    "    def helper2(inverted_index):\n",
    "        word, postings = inverted_index\n",
    "        #postings = posting_list.split(\",\")\n",
    "\n",
    "        for subset in itertools.combinations(sorted(postings), 2):\n",
    "            yield (str(subset), 1)\n",
    "          \n",
    "    #uses the counts (along with the accompanying information) to compute the cosine, jacard, dice and \n",
    "    #overlap similarity metrics for each pair of words in the vocabulary\n",
    "    def helper3(line):        \n",
    "        #output = \"Pair\", \"Cosine\", \"Jaccard\", \"Overlap\", \"Dice\"\n",
    "        (doc1, n1), (doc2, n2) = ast.literal_eval(line[0])\n",
    "        total = int(line[1])\n",
    "        \n",
    "        #cosine similarity\n",
    "        cosine = total /(np.sqrt(n1) * np.sqrt(n2))\n",
    "        #cosine = total / (n1*n2)\n",
    "        \n",
    "        #jaccard output\n",
    "        jaccard = total / float(int(n1) + int(n2) - total)\n",
    "        \n",
    "        if n1 <= n2:\n",
    "            min_size = n1\n",
    "        else:\n",
    "            min_size = n2\n",
    "        \n",
    "        #overlap output\n",
    "        overlap = total / min_size\n",
    "        \n",
    "        #dice output\n",
    "        dice = (2*total)/(n1+n2)\n",
    "              \n",
    "        yield (doc1+\" - \"+doc2, (cosine, jaccard, overlap, dice))\n",
    "        \n",
    "        \n",
    "    # Please make sure that your final results are sorted according to cosine similarity otherwise your \n",
    "    # results may not match the expected result & you will be marked wrong.\n",
    "    result = stripesRDD.map(lambda line: [line[0], line[1]]) \\\n",
    "                       .flatMap(helper1).cache() \\\n",
    "                       .reduceByKey(lambda x,y : x + y) \\\n",
    "                       .flatMap(helper2).cache() \\\n",
    "                       .reduceByKey(lambda x,y : x + y) \\\n",
    "                       .flatMap(helper3).cache()\n",
    "\n",
    "    #retrieve the top 20 and bottom 20 most/least similar pairs of words\n",
    "    top_n = result.takeOrdered(n, key=lambda x: -x[1][0]) \n",
    "    bottom_n = result.takeOrdered(n, key=lambda x: x[1][0]) \n",
    "\n",
    "    ############### (END) YOUR CODE ##############\n",
    "    return result, top_n, bottom_n"
   ]
  },
  {
   "cell_type": "code",
   "execution_count": 70,
   "metadata": {
    "application/vnd.databricks.v1+cell": {
     "inputWidgets": {},
     "nuid": "d0eb2822-463a-462a-b71f-f5f84b340b45",
     "showTitle": false,
     "title": ""
    }
   },
   "outputs": [
    {
     "name": "stdout",
     "output_type": "stream",
     "text": [
      "Wall time: 0.3489077091217041 seconds\n"
     ]
    }
   ],
   "source": [
    "# part d - run the system test (RUN THIS CELL AS IS... use display cell below to see results)\n",
    "start = time.time()\n",
    "testResult, top_n, bottom_n = similarityAnalysis(testStripesRDD, 10)\n",
    "print(\"Wall time: {} seconds\".format(time.time() - start))\n",
    "# Wall time: 1.4768586158752441 seconds"
   ]
  },
  {
   "cell_type": "code",
   "execution_count": 71,
   "metadata": {},
   "outputs": [
    {
     "name": "stdout",
     "output_type": "stream",
     "text": [
      "Pair                     |Cosine, Jaccard, Overlap, Dice \n",
      "best - worst             |   1.0,     1.0,     1.0,   1.0\n",
      "foolishness - wisdom     |   1.0,     1.0,     1.0,   1.0\n",
      "times - wisdom           |0.5774,  0.3333,     1.0,   0.5\n",
      "age - best               |0.5774,  0.3333,     1.0,   0.5\n",
      "age - worst              |0.5774,  0.3333,     1.0,   0.5\n",
      "foolishness - times      |0.5774,  0.3333,     1.0,   0.5\n"
     ]
    }
   ],
   "source": [
    "displayOutput(top_n)"
   ]
  },
  {
   "cell_type": "code",
   "execution_count": 72,
   "metadata": {
    "application/vnd.databricks.v1+cell": {
     "inputWidgets": {},
     "nuid": "89790631-03c5-4fad-a582-ae8102ef6f9b",
     "showTitle": false,
     "title": ""
    }
   },
   "outputs": [
    {
     "name": "stderr",
     "output_type": "stream",
     "text": [
      "                                                                                \r"
     ]
    },
    {
     "name": "stdout",
     "output_type": "stream",
     "text": [
      "Wall time: 2.066472053527832 seconds\n"
     ]
    }
   ],
   "source": [
    "# part d - run the system test (RUN THIS CELL AS IS... use display cell below to see results)\n",
    "start = time.time()\n",
    "f1Result, top_n, bottom_n = similarityAnalysis(f1StripesRDD, 10)\n",
    "print(\"Wall time: {} seconds\".format(time.time() - start))\n",
    "# Wall time: 1.9845571517944336 seconds"
   ]
  },
  {
   "cell_type": "code",
   "execution_count": 73,
   "metadata": {
    "application/vnd.databricks.v1+cell": {
     "inputWidgets": {},
     "nuid": "a770823e-2656-4db3-acf3-cdfc5901de42",
     "showTitle": false,
     "title": ""
    }
   },
   "outputs": [
    {
     "name": "stdout",
     "output_type": "stream",
     "text": [
      "Pair                     |Cosine, Jaccard, Overlap, Dice \n",
      "implementation - priorities|   1.0,     1.0,     1.0,   1.0\n",
      "holes - stand            |   1.0,     1.0,     1.0,   1.0\n",
      "bread - cult             |   1.0,     1.0,     1.0,   1.0\n",
      "cult - except            |   1.0,     1.0,     1.0,   1.0\n",
      "patriotic - splendour    |   1.0,     1.0,     1.0,   1.0\n",
      "represents - respiratory |   1.0,     1.0,     1.0,   1.0\n",
      "bill - qualities         |   1.0,     1.0,     1.0,   1.0\n",
      "qualities - specifically |   1.0,     1.0,     1.0,   1.0\n",
      "converted - substance    |   1.0,     1.0,     1.0,   1.0\n",
      "material - showing       |   1.0,     1.0,     1.0,   1.0\n"
     ]
    }
   ],
   "source": [
    "displayOutput(top_n)"
   ]
  },
  {
   "cell_type": "code",
   "execution_count": 74,
   "metadata": {
    "application/vnd.databricks.v1+cell": {
     "inputWidgets": {},
     "nuid": "d7c73eab-154b-49db-9e52-83c6c6a8a8ae",
     "showTitle": false,
     "title": ""
    }
   },
   "outputs": [
    {
     "name": "stdout",
     "output_type": "stream",
     "text": [
      "Pair                     |Cosine, Jaccard, Overlap, Dice \n",
      "part - time              |0.0294,  0.0149,  0.0303, 0.0294\n",
      "time - two               |0.0309,  0.0156,  0.0333, 0.0308\n",
      "time - upon              |0.0314,  0.0159,  0.0345, 0.0312\n",
      "made - time              |0.0325,  0.0164,   0.037, 0.0323\n",
      "first - time             |0.0338,  0.0169,    0.04, 0.0333\n",
      "made - two               |0.0351,  0.0179,   0.037, 0.0351\n",
      "new - time               |0.0352,  0.0175,  0.0435, 0.0345\n",
      "part - us                |0.0355,  0.0179,  0.0417, 0.0351\n",
      "made - upon              |0.0357,  0.0182,   0.037, 0.0357\n",
      "two - use                |0.0358,  0.0182,  0.0385, 0.0357\n"
     ]
    }
   ],
   "source": [
    "displayOutput(bottom_n)"
   ]
  },
  {
   "cell_type": "code",
   "execution_count": 75,
   "metadata": {
    "application/vnd.databricks.v1+cell": {
     "inputWidgets": {},
     "nuid": "98d0be65-e606-44ab-ac0b-2df0cd9dce3b",
     "showTitle": false,
     "title": ""
    }
   },
   "outputs": [
    {
     "name": "stderr",
     "output_type": "stream",
     "text": [
      "21/10/01 20:31:07 WARN MemoryStore: Not enough space to cache rdd_267_15 in memory! (computed 22.7 MiB so far)\n",
      "21/10/01 20:31:07 WARN BlockManager: Block rdd_267_15 could not be removed as it was not found on disk or in memory\n",
      "21/10/01 20:31:07 WARN BlockManager: Putting block rdd_267_15 failed\n",
      "21/10/01 20:31:19 WARN MemoryStore: Not enough space to cache rdd_267_16 in memory! (computed 19.1 MiB so far)\n",
      "21/10/01 20:31:19 WARN BlockManager: Block rdd_267_16 could not be removed as it was not found on disk or in memory\n",
      "21/10/01 20:31:19 WARN BlockManager: Putting block rdd_267_16 failed\n",
      "21/10/01 20:31:32 WARN MemoryStore: Not enough space to cache rdd_267_17 in memory! (computed 24.7 MiB so far)\n",
      "21/10/01 20:31:32 WARN BlockManager: Block rdd_267_17 could not be removed as it was not found on disk or in memory\n",
      "21/10/01 20:31:32 WARN BlockManager: Putting block rdd_267_17 failed\n",
      "21/10/01 20:31:46 WARN MemoryStore: Not enough space to cache rdd_267_19 in memory! (computed 1409.8 KiB so far)\n",
      "21/10/01 20:31:46 WARN BlockManager: Block rdd_267_19 could not be removed as it was not found on disk or in memory\n",
      "21/10/01 20:31:46 WARN BlockManager: Putting block rdd_267_19 failed\n",
      "21/10/01 20:31:58 WARN MemoryStore: Not enough space to cache rdd_267_20 in memory! (computed 1337.5 KiB so far)\n",
      "21/10/01 20:31:58 WARN BlockManager: Block rdd_267_20 could not be removed as it was not found on disk or in memory\n",
      "21/10/01 20:31:58 WARN BlockManager: Putting block rdd_267_20 failed\n",
      "21/10/01 20:32:08 WARN MemoryStore: Not enough space to cache rdd_267_21 in memory! (computed 1305.7 KiB so far)\n",
      "21/10/01 20:32:08 WARN BlockManager: Block rdd_267_21 could not be removed as it was not found on disk or in memory\n",
      "21/10/01 20:32:08 WARN BlockManager: Putting block rdd_267_21 failed\n",
      "21/10/01 20:32:13 WARN MemoryStore: Not enough space to cache rdd_267_22 in memory! (computed 1416.2 KiB so far)\n",
      "21/10/01 20:32:13 WARN BlockManager: Block rdd_267_22 could not be removed as it was not found on disk or in memory\n",
      "21/10/01 20:32:13 WARN BlockManager: Putting block rdd_267_22 failed\n",
      "21/10/01 20:32:23 WARN MemoryStore: Failed to reserve initial memory threshold of 1024.0 KiB for computing block rdd_267_24 in memory.\n",
      "21/10/01 20:32:23 WARN MemoryStore: Not enough space to cache rdd_267_24 in memory! (computed 0.0 B so far)\n",
      "21/10/01 20:32:23 WARN BlockManager: Block rdd_267_24 could not be removed as it was not found on disk or in memory\n",
      "21/10/01 20:32:23 WARN BlockManager: Putting block rdd_267_24 failed\n",
      "21/10/01 20:32:24 WARN MemoryStore: Not enough space to cache rdd_267_23 in memory! (computed 2008.5 KiB so far)\n",
      "21/10/01 20:32:24 WARN BlockManager: Block rdd_267_23 could not be removed as it was not found on disk or in memory\n",
      "21/10/01 20:32:24 WARN BlockManager: Putting block rdd_267_23 failed\n",
      "21/10/01 20:32:36 WARN MemoryStore: Not enough space to cache rdd_267_25 in memory! (computed 1938.7 KiB so far)\n",
      "21/10/01 20:32:36 WARN BlockManager: Block rdd_267_25 could not be removed as it was not found on disk or in memory\n",
      "21/10/01 20:32:36 WARN BlockManager: Putting block rdd_267_25 failed\n",
      "21/10/01 20:32:37 WARN MemoryStore: Not enough space to cache rdd_267_26 in memory! (computed 1968.0 KiB so far)\n",
      "21/10/01 20:32:37 WARN BlockManager: Block rdd_267_26 could not be removed as it was not found on disk or in memory\n",
      "21/10/01 20:32:37 WARN BlockManager: Putting block rdd_267_26 failed\n",
      "21/10/01 20:32:47 WARN MemoryStore: Not enough space to cache rdd_267_27 in memory! (computed 1334.2 KiB so far)\n",
      "21/10/01 20:32:47 WARN BlockManager: Block rdd_267_27 could not be removed as it was not found on disk or in memory\n",
      "21/10/01 20:32:47 WARN BlockManager: Putting block rdd_267_27 failed\n",
      "21/10/01 20:32:58 WARN MemoryStore: Not enough space to cache rdd_267_28 in memory! (computed 1930.3 KiB so far)\n",
      "21/10/01 20:32:58 WARN BlockManager: Block rdd_267_28 could not be removed as it was not found on disk or in memory\n",
      "21/10/01 20:32:58 WARN BlockManager: Putting block rdd_267_28 failed\n",
      "21/10/01 20:33:00 WARN MemoryStore: Not enough space to cache rdd_267_29 in memory! (computed 1355.0 KiB so far)\n",
      "21/10/01 20:33:00 WARN BlockManager: Block rdd_267_29 could not be removed as it was not found on disk or in memory\n",
      "21/10/01 20:33:00 WARN BlockManager: Putting block rdd_267_29 failed\n",
      "21/10/01 20:33:08 WARN MemoryStore: Not enough space to cache rdd_267_30 in memory! (computed 1396.3 KiB so far)\n",
      "21/10/01 20:33:08 WARN BlockManager: Block rdd_267_30 could not be removed as it was not found on disk or in memory\n",
      "21/10/01 20:33:08 WARN BlockManager: Putting block rdd_267_30 failed\n",
      "21/10/01 20:33:17 WARN MemoryStore: Not enough space to cache rdd_267_31 in memory! (computed 1907.1 KiB so far)\n",
      "21/10/01 20:33:17 WARN BlockManager: Block rdd_267_31 could not be removed as it was not found on disk or in memory\n",
      "21/10/01 20:33:17 WARN BlockManager: Putting block rdd_267_31 failed\n",
      "21/10/01 20:33:19 WARN MemoryStore: Failed to reserve initial memory threshold of 1024.0 KiB for computing block rdd_267_33 in memory.\n",
      "21/10/01 20:33:19 WARN MemoryStore: Not enough space to cache rdd_267_33 in memory! (computed 0.0 B so far)\n",
      "21/10/01 20:33:19 WARN BlockManager: Block rdd_267_33 could not be removed as it was not found on disk or in memory\n",
      "21/10/01 20:33:19 WARN BlockManager: Putting block rdd_267_33 failed\n",
      "21/10/01 20:33:19 WARN MemoryStore: Not enough space to cache rdd_267_32 in memory! (computed 1977.9 KiB so far)\n",
      "21/10/01 20:33:19 WARN BlockManager: Block rdd_267_32 could not be removed as it was not found on disk or in memory\n",
      "21/10/01 20:33:19 WARN BlockManager: Putting block rdd_267_32 failed\n",
      "21/10/01 20:33:26 WARN MemoryStore: Not enough space to cache rdd_267_34 in memory! (computed 1889.5 KiB so far)\n",
      "21/10/01 20:33:26 WARN BlockManager: Block rdd_267_34 could not be removed as it was not found on disk or in memory\n",
      "21/10/01 20:33:26 WARN BlockManager: Putting block rdd_267_34 failed\n",
      "21/10/01 20:33:35 WARN MemoryStore: Not enough space to cache rdd_267_35 in memory! (computed 1944.9 KiB so far)\n",
      "21/10/01 20:33:35 WARN BlockManager: Block rdd_267_35 could not be removed as it was not found on disk or in memory\n",
      "21/10/01 20:33:35 WARN BlockManager: Putting block rdd_267_35 failed\n",
      "21/10/01 20:33:38 WARN MemoryStore: Failed to reserve initial memory threshold of 1024.0 KiB for computing block rdd_267_37 in memory.\n",
      "21/10/01 20:33:38 WARN MemoryStore: Not enough space to cache rdd_267_37 in memory! (computed 0.0 B so far)\n",
      "21/10/01 20:33:38 WARN BlockManager: Block rdd_267_37 could not be removed as it was not found on disk or in memory\n",
      "21/10/01 20:33:38 WARN BlockManager: Putting block rdd_267_37 failed\n",
      "21/10/01 20:33:38 WARN MemoryStore: Not enough space to cache rdd_267_36 in memory! (computed 1932.3 KiB so far)\n",
      "21/10/01 20:33:39 WARN BlockManager: Block rdd_267_36 could not be removed as it was not found on disk or in memory\n",
      "21/10/01 20:33:39 WARN BlockManager: Putting block rdd_267_36 failed\n",
      "21/10/01 20:33:48 WARN MemoryStore: Not enough space to cache rdd_267_38 in memory! (computed 1945.4 KiB so far)\n",
      "21/10/01 20:33:48 WARN BlockManager: Block rdd_267_38 could not be removed as it was not found on disk or in memory\n",
      "21/10/01 20:33:48 WARN BlockManager: Putting block rdd_267_38 failed\n",
      "21/10/01 20:33:52 WARN MemoryStore: Failed to reserve initial memory threshold of 1024.0 KiB for computing block rdd_267_40 in memory.\n",
      "21/10/01 20:33:52 WARN MemoryStore: Not enough space to cache rdd_267_40 in memory! (computed 0.0 B so far)\n",
      "21/10/01 20:33:52 WARN BlockManager: Block rdd_267_40 could not be removed as it was not found on disk or in memory\n",
      "21/10/01 20:33:52 WARN BlockManager: Putting block rdd_267_40 failed\n",
      "21/10/01 20:33:52 WARN MemoryStore: Not enough space to cache rdd_267_39 in memory! (computed 1958.9 KiB so far)\n",
      "21/10/01 20:33:52 WARN BlockManager: Block rdd_267_39 could not be removed as it was not found on disk or in memory\n",
      "21/10/01 20:33:52 WARN BlockManager: Putting block rdd_267_39 failed\n",
      "21/10/01 20:34:04 WARN MemoryStore: Not enough space to cache rdd_267_41 in memory! (computed 1844.3 KiB so far)\n",
      "21/10/01 20:34:04 WARN BlockManager: Block rdd_267_41 could not be removed as it was not found on disk or in memory\n",
      "21/10/01 20:34:04 WARN BlockManager: Putting block rdd_267_41 failed\n",
      "21/10/01 20:34:09 WARN MemoryStore: Not enough space to cache rdd_267_42 in memory! (computed 1927.8 KiB so far)\n",
      "21/10/01 20:34:09 WARN BlockManager: Block rdd_267_42 could not be removed as it was not found on disk or in memory\n",
      "21/10/01 20:34:09 WARN BlockManager: Putting block rdd_267_42 failed\n",
      "21/10/01 20:34:15 WARN MemoryStore: Not enough space to cache rdd_267_43 in memory! (computed 1311.4 KiB so far)\n",
      "21/10/01 20:34:15 WARN BlockManager: Block rdd_267_43 could not be removed as it was not found on disk or in memory\n",
      "21/10/01 20:34:15 WARN BlockManager: Putting block rdd_267_43 failed\n",
      "21/10/01 20:34:18 WARN MemoryStore: Not enough space to cache rdd_267_44 in memory! (computed 1855.9 KiB so far)\n",
      "21/10/01 20:34:18 WARN BlockManager: Block rdd_267_44 could not be removed as it was not found on disk or in memory\n",
      "21/10/01 20:34:18 WARN BlockManager: Putting block rdd_267_44 failed\n",
      "21/10/01 20:34:32 WARN MemoryStore: Not enough space to cache rdd_267_45 in memory! (computed 1928.7 KiB so far)\n",
      "21/10/01 20:34:32 WARN BlockManager: Block rdd_267_45 could not be removed as it was not found on disk or in memory\n",
      "21/10/01 20:34:32 WARN BlockManager: Putting block rdd_267_45 failed\n",
      "21/10/01 20:34:35 WARN MemoryStore: Not enough space to cache rdd_267_46 in memory! (computed 1833.4 KiB so far)\n",
      "21/10/01 20:34:35 WARN BlockManager: Block rdd_267_46 could not be removed as it was not found on disk or in memory\n",
      "21/10/01 20:34:35 WARN BlockManager: Putting block rdd_267_46 failed\n",
      "21/10/01 20:34:43 WARN MemoryStore: Not enough space to cache rdd_267_47 in memory! (computed 1307.7 KiB so far)\n",
      "21/10/01 20:34:43 WARN BlockManager: Block rdd_267_47 could not be removed as it was not found on disk or in memory\n",
      "21/10/01 20:34:43 WARN BlockManager: Putting block rdd_267_47 failed\n",
      "21/10/01 20:34:50 WARN MemoryStore: Failed to reserve initial memory threshold of 1024.0 KiB for computing block rdd_267_49 in memory.\n",
      "21/10/01 20:34:50 WARN MemoryStore: Not enough space to cache rdd_267_49 in memory! (computed 0.0 B so far)\n",
      "21/10/01 20:34:50 WARN BlockManager: Block rdd_267_49 could not be removed as it was not found on disk or in memory\n",
      "21/10/01 20:34:50 WARN BlockManager: Putting block rdd_267_49 failed\n",
      "21/10/01 20:34:51 WARN MemoryStore: Not enough space to cache rdd_267_48 in memory! (computed 1932.3 KiB so far)\n",
      "21/10/01 20:34:51 WARN BlockManager: Block rdd_267_48 could not be removed as it was not found on disk or in memory\n",
      "21/10/01 20:34:51 WARN BlockManager: Putting block rdd_267_48 failed\n",
      "21/10/01 20:34:57 WARN MemoryStore: Not enough space to cache rdd_267_50 in memory! (computed 1366.7 KiB so far)\n",
      "21/10/01 20:34:57 WARN BlockManager: Block rdd_267_50 could not be removed as it was not found on disk or in memory\n",
      "21/10/01 20:34:57 WARN BlockManager: Putting block rdd_267_50 failed\n",
      "21/10/01 20:35:05 WARN MemoryStore: Not enough space to cache rdd_267_51 in memory! (computed 1301.3 KiB so far)\n",
      "21/10/01 20:35:05 WARN BlockManager: Block rdd_267_51 could not be removed as it was not found on disk or in memory\n",
      "21/10/01 20:35:05 WARN BlockManager: Putting block rdd_267_51 failed\n",
      "21/10/01 20:35:09 WARN MemoryStore: Not enough space to cache rdd_267_52 in memory! (computed 1931.9 KiB so far)\n",
      "21/10/01 20:35:09 WARN BlockManager: Block rdd_267_52 could not be removed as it was not found on disk or in memory\n",
      "21/10/01 20:35:09 WARN BlockManager: Putting block rdd_267_52 failed\n",
      "21/10/01 20:35:10 WARN MemoryStore: Not enough space to cache rdd_267_53 in memory! (computed 1924.0 KiB so far)\n",
      "21/10/01 20:35:10 WARN BlockManager: Block rdd_267_53 could not be removed as it was not found on disk or in memory\n",
      "21/10/01 20:35:10 WARN BlockManager: Putting block rdd_267_53 failed\n",
      "21/10/01 20:35:25 WARN MemoryStore: Not enough space to cache rdd_267_54 in memory! (computed 1314.7 KiB so far)\n",
      "21/10/01 20:35:25 WARN BlockManager: Block rdd_267_54 could not be removed as it was not found on disk or in memory\n",
      "21/10/01 20:35:25 WARN BlockManager: Putting block rdd_267_54 failed\n",
      "21/10/01 20:35:27 WARN MemoryStore: Not enough space to cache rdd_267_55 in memory! (computed 1308.1 KiB so far)\n",
      "21/10/01 20:35:27 WARN BlockManager: Block rdd_267_55 could not be removed as it was not found on disk or in memory\n",
      "21/10/01 20:35:27 WARN BlockManager: Putting block rdd_267_55 failed\n",
      "21/10/01 20:35:32 WARN MemoryStore: Not enough space to cache rdd_267_56 in memory! (computed 1929.2 KiB so far)\n",
      "21/10/01 20:35:32 WARN BlockManager: Block rdd_267_56 could not be removed as it was not found on disk or in memory\n",
      "21/10/01 20:35:32 WARN BlockManager: Putting block rdd_267_56 failed\n",
      "21/10/01 20:35:42 WARN MemoryStore: Not enough space to cache rdd_267_57 in memory! (computed 1914.9 KiB so far)\n",
      "21/10/01 20:35:42 WARN BlockManager: Block rdd_267_57 could not be removed as it was not found on disk or in memory\n",
      "21/10/01 20:35:42 WARN BlockManager: Putting block rdd_267_57 failed\n",
      "21/10/01 20:35:47 WARN MemoryStore: Not enough space to cache rdd_267_58 in memory! (computed 1306.2 KiB so far)\n",
      "21/10/01 20:35:47 WARN BlockManager: Block rdd_267_58 could not be removed as it was not found on disk or in memory\n",
      "21/10/01 20:35:47 WARN BlockManager: Putting block rdd_267_58 failed\n",
      "21/10/01 20:35:55 WARN MemoryStore: Not enough space to cache rdd_267_59 in memory! (computed 1342.3 KiB so far)\n",
      "21/10/01 20:35:55 WARN BlockManager: Block rdd_267_59 could not be removed as it was not found on disk or in memory\n",
      "21/10/01 20:35:55 WARN BlockManager: Putting block rdd_267_59 failed\n",
      "21/10/01 20:36:01 WARN MemoryStore: Not enough space to cache rdd_267_60 in memory! (computed 1955.2 KiB so far)\n",
      "21/10/01 20:36:01 WARN BlockManager: Block rdd_267_60 could not be removed as it was not found on disk or in memory\n",
      "21/10/01 20:36:01 WARN BlockManager: Putting block rdd_267_60 failed\n",
      "21/10/01 20:36:07 WARN MemoryStore: Not enough space to cache rdd_267_61 in memory! (computed 1886.4 KiB so far)\n",
      "21/10/01 20:36:07 WARN BlockManager: Block rdd_267_61 could not be removed as it was not found on disk or in memory\n",
      "21/10/01 20:36:07 WARN BlockManager: Putting block rdd_267_61 failed\n",
      "21/10/01 20:36:12 WARN MemoryStore: Not enough space to cache rdd_267_62 in memory! (computed 1899.6 KiB so far)\n",
      "21/10/01 20:36:12 WARN BlockManager: Block rdd_267_62 could not be removed as it was not found on disk or in memory\n",
      "21/10/01 20:36:12 WARN BlockManager: Putting block rdd_267_62 failed\n",
      "21/10/01 20:36:18 WARN MemoryStore: Not enough space to cache rdd_267_63 in memory! (computed 1913.3 KiB so far)\n",
      "21/10/01 20:36:18 WARN BlockManager: Block rdd_267_63 could not be removed as it was not found on disk or in memory\n",
      "21/10/01 20:36:18 WARN BlockManager: Putting block rdd_267_63 failed\n",
      "21/10/01 20:39:42 WARN MemoryStore: Failed to reserve initial memory threshold of 1024.0 KiB for computing block rdd_272_31 in memory.\n",
      "21/10/01 20:39:47 WARN MemoryStore: Not enough space to cache rdd_272_31 in memory! (computed 0.0 B so far)\n",
      "21/10/01 20:39:47 WARN BlockManager: Block rdd_272_31 could not be removed as it was not found on disk or in memory\n",
      "21/10/01 20:39:47 WARN BlockManager: Putting block rdd_272_31 failed\n",
      "21/10/01 20:39:48 WARN MemoryStore: Not enough space to cache rdd_272_30 in memory! (computed 1571.5 KiB so far)\n",
      "21/10/01 20:39:48 WARN BlockManager: Block rdd_272_30 could not be removed as it was not found on disk or in memory\n",
      "21/10/01 20:39:48 WARN BlockManager: Putting block rdd_272_30 failed\n",
      "21/10/01 20:39:49 WARN MemoryStore: Not enough space to cache rdd_272_29 in memory! (computed 1570.0 KiB so far)\n",
      "21/10/01 20:39:49 WARN BlockManager: Block rdd_272_29 could not be removed as it was not found on disk or in memory\n",
      "21/10/01 20:39:49 WARN BlockManager: Putting block rdd_272_29 failed\n",
      "21/10/01 20:39:50 WARN MemoryStore: Not enough space to cache rdd_272_28 in memory! (computed 2.7 MiB so far)\n",
      "21/10/01 20:39:50 WARN BlockManager: Block rdd_272_28 could not be removed as it was not found on disk or in memory\n",
      "21/10/01 20:39:50 WARN BlockManager: Putting block rdd_272_28 failed\n",
      "21/10/01 20:40:08 WARN MemoryStore: Failed to reserve initial memory threshold of 1024.0 KiB for computing block rdd_272_35 in memory.\n",
      "21/10/01 20:40:13 WARN MemoryStore: Not enough space to cache rdd_272_35 in memory! (computed 0.0 B so far)\n",
      "21/10/01 20:40:13 WARN BlockManager: Block rdd_272_35 could not be removed as it was not found on disk or in memory\n",
      "21/10/01 20:40:13 WARN BlockManager: Putting block rdd_272_35 failed\n",
      "21/10/01 20:40:15 WARN MemoryStore: Not enough space to cache rdd_272_33 in memory! (computed 1570.1 KiB so far)\n",
      "21/10/01 20:40:15 WARN BlockManager: Block rdd_272_33 could not be removed as it was not found on disk or in memory\n",
      "21/10/01 20:40:15 WARN BlockManager: Putting block rdd_272_33 failed\n",
      "21/10/01 20:40:15 WARN MemoryStore: Not enough space to cache rdd_272_34 in memory! (computed 1570.2 KiB so far)\n",
      "21/10/01 20:40:15 WARN BlockManager: Block rdd_272_34 could not be removed as it was not found on disk or in memory\n",
      "21/10/01 20:40:15 WARN BlockManager: Putting block rdd_272_34 failed\n",
      "21/10/01 20:40:16 WARN MemoryStore: Not enough space to cache rdd_272_32 in memory! (computed 2.7 MiB so far)\n",
      "21/10/01 20:40:16 WARN BlockManager: Block rdd_272_32 could not be removed as it was not found on disk or in memory\n",
      "21/10/01 20:40:16 WARN BlockManager: Putting block rdd_272_32 failed\n",
      "21/10/01 20:40:35 WARN MemoryStore: Failed to reserve initial memory threshold of 1024.0 KiB for computing block rdd_272_39 in memory.\n",
      "21/10/01 20:40:39 WARN MemoryStore: Not enough space to cache rdd_272_39 in memory! (computed 0.0 B so far)\n",
      "21/10/01 20:40:39 WARN BlockManager: Block rdd_272_39 could not be removed as it was not found on disk or in memory\n",
      "21/10/01 20:40:39 WARN BlockManager: Putting block rdd_272_39 failed\n",
      "21/10/01 20:40:41 WARN MemoryStore: Not enough space to cache rdd_272_36 in memory! (computed 1570.0 KiB so far)\n",
      "21/10/01 20:40:41 WARN BlockManager: Block rdd_272_36 could not be removed as it was not found on disk or in memory\n",
      "21/10/01 20:40:41 WARN BlockManager: Putting block rdd_272_36 failed\n",
      "21/10/01 20:40:42 WARN MemoryStore: Not enough space to cache rdd_272_38 in memory! (computed 1568.5 KiB so far)\n",
      "21/10/01 20:40:42 WARN BlockManager: Block rdd_272_38 could not be removed as it was not found on disk or in memory\n",
      "21/10/01 20:40:42 WARN BlockManager: Putting block rdd_272_38 failed\n",
      "21/10/01 20:40:42 WARN MemoryStore: Not enough space to cache rdd_272_37 in memory! (computed 2.7 MiB so far)\n",
      "21/10/01 20:40:42 WARN BlockManager: Block rdd_272_37 could not be removed as it was not found on disk or in memory\n",
      "21/10/01 20:40:42 WARN BlockManager: Putting block rdd_272_37 failed\n",
      "21/10/01 20:41:01 WARN MemoryStore: Failed to reserve initial memory threshold of 1024.0 KiB for computing block rdd_272_43 in memory.\n",
      "21/10/01 20:41:06 WARN MemoryStore: Not enough space to cache rdd_272_43 in memory! (computed 0.0 B so far)\n",
      "21/10/01 20:41:06 WARN BlockManager: Block rdd_272_43 could not be removed as it was not found on disk or in memory\n",
      "21/10/01 20:41:06 WARN BlockManager: Putting block rdd_272_43 failed\n",
      "21/10/01 20:41:07 WARN MemoryStore: Not enough space to cache rdd_272_40 in memory! (computed 1573.2 KiB so far)\n",
      "21/10/01 20:41:07 WARN BlockManager: Block rdd_272_40 could not be removed as it was not found on disk or in memory\n",
      "21/10/01 20:41:07 WARN BlockManager: Putting block rdd_272_40 failed\n",
      "21/10/01 20:41:07 WARN MemoryStore: Not enough space to cache rdd_272_41 in memory! (computed 1569.0 KiB so far)\n",
      "21/10/01 20:41:07 WARN BlockManager: Block rdd_272_41 could not be removed as it was not found on disk or in memory\n",
      "21/10/01 20:41:07 WARN BlockManager: Putting block rdd_272_41 failed\n",
      "21/10/01 20:41:09 WARN MemoryStore: Not enough space to cache rdd_272_42 in memory! (computed 2.7 MiB so far)\n",
      "21/10/01 20:41:09 WARN BlockManager: Block rdd_272_42 could not be removed as it was not found on disk or in memory\n",
      "21/10/01 20:41:09 WARN BlockManager: Putting block rdd_272_42 failed\n",
      "21/10/01 20:41:27 WARN MemoryStore: Failed to reserve initial memory threshold of 1024.0 KiB for computing block rdd_272_47 in memory.\n",
      "21/10/01 20:41:32 WARN MemoryStore: Not enough space to cache rdd_272_47 in memory! (computed 0.0 B so far)\n",
      "21/10/01 20:41:32 WARN BlockManager: Block rdd_272_47 could not be removed as it was not found on disk or in memory\n",
      "21/10/01 20:41:32 WARN BlockManager: Putting block rdd_272_47 failed\n",
      "21/10/01 20:41:33 WARN MemoryStore: Not enough space to cache rdd_272_44 in memory! (computed 1569.5 KiB so far)\n",
      "21/10/01 20:41:33 WARN BlockManager: Block rdd_272_44 could not be removed as it was not found on disk or in memory\n",
      "21/10/01 20:41:33 WARN BlockManager: Putting block rdd_272_44 failed\n",
      "21/10/01 20:41:33 WARN MemoryStore: Not enough space to cache rdd_272_45 in memory! (computed 1572.1 KiB so far)\n",
      "21/10/01 20:41:33 WARN BlockManager: Block rdd_272_45 could not be removed as it was not found on disk or in memory\n",
      "21/10/01 20:41:33 WARN BlockManager: Putting block rdd_272_45 failed\n",
      "21/10/01 20:41:35 WARN MemoryStore: Not enough space to cache rdd_272_46 in memory! (computed 2.7 MiB so far)\n",
      "21/10/01 20:41:35 WARN BlockManager: Block rdd_272_46 could not be removed as it was not found on disk or in memory\n",
      "21/10/01 20:41:35 WARN BlockManager: Putting block rdd_272_46 failed\n",
      "21/10/01 20:41:53 WARN MemoryStore: Failed to reserve initial memory threshold of 1024.0 KiB for computing block rdd_272_51 in memory.\n",
      "21/10/01 20:41:58 WARN MemoryStore: Not enough space to cache rdd_272_51 in memory! (computed 0.0 B so far)\n",
      "21/10/01 20:41:58 WARN BlockManager: Block rdd_272_51 could not be removed as it was not found on disk or in memory\n",
      "21/10/01 20:41:58 WARN BlockManager: Putting block rdd_272_51 failed\n",
      "21/10/01 20:41:59 WARN MemoryStore: Not enough space to cache rdd_272_48 in memory! (computed 1572.5 KiB so far)\n",
      "21/10/01 20:41:59 WARN BlockManager: Block rdd_272_48 could not be removed as it was not found on disk or in memory\n",
      "21/10/01 20:41:59 WARN BlockManager: Putting block rdd_272_48 failed\n",
      "21/10/01 20:42:00 WARN MemoryStore: Not enough space to cache rdd_272_50 in memory! (computed 1572.9 KiB so far)\n",
      "21/10/01 20:42:00 WARN BlockManager: Block rdd_272_50 could not be removed as it was not found on disk or in memory\n",
      "21/10/01 20:42:00 WARN BlockManager: Putting block rdd_272_50 failed\n",
      "21/10/01 20:42:01 WARN MemoryStore: Not enough space to cache rdd_272_49 in memory! (computed 2.7 MiB so far)\n",
      "21/10/01 20:42:01 WARN BlockManager: Block rdd_272_49 could not be removed as it was not found on disk or in memory\n",
      "21/10/01 20:42:01 WARN BlockManager: Putting block rdd_272_49 failed\n",
      "21/10/01 20:42:19 WARN MemoryStore: Failed to reserve initial memory threshold of 1024.0 KiB for computing block rdd_272_55 in memory.\n",
      "21/10/01 20:42:24 WARN MemoryStore: Not enough space to cache rdd_272_55 in memory! (computed 0.0 B so far)\n",
      "21/10/01 20:42:24 WARN BlockManager: Block rdd_272_55 could not be removed as it was not found on disk or in memory\n",
      "21/10/01 20:42:24 WARN BlockManager: Putting block rdd_272_55 failed\n",
      "21/10/01 20:42:25 WARN MemoryStore: Not enough space to cache rdd_272_52 in memory! (computed 1569.7 KiB so far)\n",
      "21/10/01 20:42:25 WARN BlockManager: Block rdd_272_52 could not be removed as it was not found on disk or in memory\n",
      "21/10/01 20:42:25 WARN BlockManager: Putting block rdd_272_52 failed\n",
      "21/10/01 20:42:26 WARN MemoryStore: Not enough space to cache rdd_272_54 in memory! (computed 1571.5 KiB so far)\n",
      "21/10/01 20:42:26 WARN BlockManager: Block rdd_272_54 could not be removed as it was not found on disk or in memory\n",
      "21/10/01 20:42:26 WARN BlockManager: Putting block rdd_272_54 failed\n",
      "21/10/01 20:42:27 WARN MemoryStore: Not enough space to cache rdd_272_53 in memory! (computed 2.7 MiB so far)\n",
      "21/10/01 20:42:27 WARN BlockManager: Block rdd_272_53 could not be removed as it was not found on disk or in memory\n",
      "21/10/01 20:42:27 WARN BlockManager: Putting block rdd_272_53 failed\n",
      "21/10/01 20:42:45 WARN MemoryStore: Failed to reserve initial memory threshold of 1024.0 KiB for computing block rdd_272_59 in memory.\n",
      "21/10/01 20:42:50 WARN MemoryStore: Not enough space to cache rdd_272_59 in memory! (computed 0.0 B so far)\n",
      "21/10/01 20:42:50 WARN BlockManager: Block rdd_272_59 could not be removed as it was not found on disk or in memory\n",
      "21/10/01 20:42:50 WARN BlockManager: Putting block rdd_272_59 failed\n",
      "21/10/01 20:42:51 WARN MemoryStore: Not enough space to cache rdd_272_56 in memory! (computed 1571.7 KiB so far)\n",
      "21/10/01 20:42:51 WARN BlockManager: Block rdd_272_56 could not be removed as it was not found on disk or in memory\n",
      "21/10/01 20:42:51 WARN BlockManager: Putting block rdd_272_56 failed\n",
      "21/10/01 20:42:52 WARN MemoryStore: Not enough space to cache rdd_272_58 in memory! (computed 1571.3 KiB so far)\n",
      "21/10/01 20:42:52 WARN BlockManager: Block rdd_272_58 could not be removed as it was not found on disk or in memory\n",
      "21/10/01 20:42:52 WARN BlockManager: Putting block rdd_272_58 failed\n",
      "21/10/01 20:42:53 WARN MemoryStore: Not enough space to cache rdd_272_57 in memory! (computed 2.7 MiB so far)\n",
      "21/10/01 20:42:53 WARN BlockManager: Block rdd_272_57 could not be removed as it was not found on disk or in memory\n",
      "21/10/01 20:42:53 WARN BlockManager: Putting block rdd_272_57 failed\n",
      "21/10/01 20:43:12 WARN MemoryStore: Failed to reserve initial memory threshold of 1024.0 KiB for computing block rdd_272_63 in memory.\n",
      "21/10/01 20:43:16 WARN MemoryStore: Not enough space to cache rdd_272_63 in memory! (computed 0.0 B so far)\n",
      "21/10/01 20:43:16 WARN BlockManager: Block rdd_272_63 could not be removed as it was not found on disk or in memory\n",
      "21/10/01 20:43:16 WARN BlockManager: Putting block rdd_272_63 failed\n",
      "21/10/01 20:43:18 WARN MemoryStore: Not enough space to cache rdd_272_60 in memory! (computed 1571.1 KiB so far)\n",
      "21/10/01 20:43:18 WARN BlockManager: Block rdd_272_60 could not be removed as it was not found on disk or in memory\n",
      "21/10/01 20:43:18 WARN BlockManager: Putting block rdd_272_60 failed\n",
      "21/10/01 20:43:18 WARN MemoryStore: Not enough space to cache rdd_272_61 in memory! (computed 1569.1 KiB so far)\n",
      "21/10/01 20:43:18 WARN BlockManager: Block rdd_272_61 could not be removed as it was not found on disk or in memory\n",
      "21/10/01 20:43:18 WARN BlockManager: Putting block rdd_272_61 failed\n",
      "21/10/01 20:43:20 WARN MemoryStore: Not enough space to cache rdd_272_62 in memory! (computed 2.7 MiB so far)\n",
      "21/10/01 20:43:20 WARN BlockManager: Block rdd_272_62 could not be removed as it was not found on disk or in memory\n",
      "21/10/01 20:43:20 WARN BlockManager: Putting block rdd_272_62 failed\n",
      "21/10/01 20:43:42 WARN MemoryStore: Failed to reserve initial memory threshold of 1024.0 KiB for computing block rdd_272_31 in memory.\n",
      "21/10/01 20:43:47 WARN MemoryStore: Not enough space to cache rdd_272_31 in memory! (computed 0.0 B so far)\n",
      "21/10/01 20:43:47 WARN BlockManager: Block rdd_272_31 could not be removed as it was not found on disk or in memory\n",
      "21/10/01 20:43:47 WARN BlockManager: Putting block rdd_272_31 failed\n",
      "21/10/01 20:43:49 WARN MemoryStore: Not enough space to cache rdd_272_28 in memory! (computed 1570.0 KiB so far)\n",
      "21/10/01 20:43:49 WARN BlockManager: Block rdd_272_28 could not be removed as it was not found on disk or in memory\n",
      "21/10/01 20:43:49 WARN BlockManager: Putting block rdd_272_28 failed\n",
      "21/10/01 20:43:49 WARN MemoryStore: Not enough space to cache rdd_272_29 in memory! (computed 1570.0 KiB so far)\n",
      "21/10/01 20:43:49 WARN BlockManager: Block rdd_272_29 could not be removed as it was not found on disk or in memory\n",
      "21/10/01 20:43:49 WARN BlockManager: Putting block rdd_272_29 failed\n",
      "21/10/01 20:43:51 WARN MemoryStore: Not enough space to cache rdd_272_30 in memory! (computed 2.7 MiB so far)\n",
      "21/10/01 20:43:51 WARN BlockManager: Block rdd_272_30 could not be removed as it was not found on disk or in memory\n",
      "21/10/01 20:43:51 WARN BlockManager: Putting block rdd_272_30 failed\n",
      "21/10/01 20:44:09 WARN MemoryStore: Failed to reserve initial memory threshold of 1024.0 KiB for computing block rdd_272_35 in memory.\n",
      "21/10/01 20:44:14 WARN MemoryStore: Not enough space to cache rdd_272_35 in memory! (computed 0.0 B so far)\n",
      "21/10/01 20:44:14 WARN BlockManager: Block rdd_272_35 could not be removed as it was not found on disk or in memory\n",
      "21/10/01 20:44:14 WARN BlockManager: Putting block rdd_272_35 failed\n",
      "21/10/01 20:44:15 WARN MemoryStore: Not enough space to cache rdd_272_32 in memory! (computed 1571.4 KiB so far)\n",
      "21/10/01 20:44:15 WARN BlockManager: Block rdd_272_32 could not be removed as it was not found on disk or in memory\n",
      "21/10/01 20:44:15 WARN BlockManager: Putting block rdd_272_32 failed\n",
      "21/10/01 20:44:15 WARN MemoryStore: Not enough space to cache rdd_272_33 in memory! (computed 1570.1 KiB so far)\n",
      "21/10/01 20:44:15 WARN BlockManager: Block rdd_272_33 could not be removed as it was not found on disk or in memory\n",
      "21/10/01 20:44:15 WARN BlockManager: Putting block rdd_272_33 failed\n",
      "21/10/01 20:44:17 WARN MemoryStore: Not enough space to cache rdd_272_34 in memory! (computed 2.7 MiB so far)\n",
      "21/10/01 20:44:17 WARN BlockManager: Block rdd_272_34 could not be removed as it was not found on disk or in memory\n",
      "21/10/01 20:44:17 WARN BlockManager: Putting block rdd_272_34 failed\n",
      "21/10/01 20:44:35 WARN MemoryStore: Failed to reserve initial memory threshold of 1024.0 KiB for computing block rdd_272_39 in memory.\n",
      "21/10/01 20:44:40 WARN MemoryStore: Not enough space to cache rdd_272_36 in memory! (computed 1570.0 KiB so far)\n",
      "21/10/01 20:44:40 WARN BlockManager: Block rdd_272_36 could not be removed as it was not found on disk or in memory\n",
      "21/10/01 20:44:40 WARN BlockManager: Putting block rdd_272_36 failed\n",
      "21/10/01 20:44:40 WARN MemoryStore: Not enough space to cache rdd_272_39 in memory! (computed 0.0 B so far)\n",
      "21/10/01 20:44:40 WARN BlockManager: Block rdd_272_39 could not be removed as it was not found on disk or in memory\n",
      "21/10/01 20:44:40 WARN BlockManager: Putting block rdd_272_39 failed\n",
      "21/10/01 20:44:42 WARN MemoryStore: Not enough space to cache rdd_272_38 in memory! (computed 1568.5 KiB so far)\n",
      "21/10/01 20:44:42 WARN BlockManager: Block rdd_272_38 could not be removed as it was not found on disk or in memory\n",
      "21/10/01 20:44:42 WARN BlockManager: Putting block rdd_272_38 failed\n",
      "21/10/01 20:44:42 WARN MemoryStore: Not enough space to cache rdd_272_37 in memory! (computed 2.7 MiB so far)\n",
      "21/10/01 20:44:42 WARN BlockManager: Block rdd_272_37 could not be removed as it was not found on disk or in memory\n",
      "21/10/01 20:44:42 WARN BlockManager: Putting block rdd_272_37 failed\n",
      "21/10/01 20:45:01 WARN MemoryStore: Failed to reserve initial memory threshold of 1024.0 KiB for computing block rdd_272_43 in memory.\n",
      "21/10/01 20:45:06 WARN MemoryStore: Not enough space to cache rdd_272_41 in memory! (computed 1569.0 KiB so far)\n",
      "21/10/01 20:45:06 WARN BlockManager: Block rdd_272_41 could not be removed as it was not found on disk or in memory\n",
      "21/10/01 20:45:06 WARN BlockManager: Putting block rdd_272_41 failed\n",
      "21/10/01 20:45:06 WARN MemoryStore: Not enough space to cache rdd_272_43 in memory! (computed 0.0 B so far)\n",
      "21/10/01 20:45:06 WARN BlockManager: Block rdd_272_43 could not be removed as it was not found on disk or in memory\n",
      "21/10/01 20:45:06 WARN BlockManager: Putting block rdd_272_43 failed\n",
      "21/10/01 20:45:08 WARN MemoryStore: Not enough space to cache rdd_272_42 in memory! (computed 1568.5 KiB so far)\n",
      "21/10/01 20:45:08 WARN BlockManager: Block rdd_272_42 could not be removed as it was not found on disk or in memory\n",
      "21/10/01 20:45:08 WARN BlockManager: Putting block rdd_272_42 failed\n",
      "21/10/01 20:45:08 WARN MemoryStore: Not enough space to cache rdd_272_40 in memory! (computed 2.8 MiB so far)\n",
      "21/10/01 20:45:08 WARN BlockManager: Block rdd_272_40 could not be removed as it was not found on disk or in memory\n",
      "21/10/01 20:45:08 WARN BlockManager: Putting block rdd_272_40 failed\n",
      "21/10/01 20:45:27 WARN MemoryStore: Failed to reserve initial memory threshold of 1024.0 KiB for computing block rdd_272_47 in memory.\n",
      "21/10/01 20:45:32 WARN MemoryStore: Not enough space to cache rdd_272_44 in memory! (computed 1569.5 KiB so far)\n",
      "21/10/01 20:45:32 WARN BlockManager: Block rdd_272_44 could not be removed as it was not found on disk or in memory\n",
      "21/10/01 20:45:32 WARN BlockManager: Putting block rdd_272_44 failed\n",
      "21/10/01 20:45:32 WARN MemoryStore: Not enough space to cache rdd_272_47 in memory! (computed 0.0 B so far)\n",
      "21/10/01 20:45:32 WARN BlockManager: Block rdd_272_47 could not be removed as it was not found on disk or in memory\n",
      "21/10/01 20:45:32 WARN BlockManager: Putting block rdd_272_47 failed\n",
      "21/10/01 20:45:34 WARN MemoryStore: Not enough space to cache rdd_272_46 in memory! (computed 1572.5 KiB so far)\n",
      "21/10/01 20:45:34 WARN BlockManager: Block rdd_272_46 could not be removed as it was not found on disk or in memory\n",
      "21/10/01 20:45:34 WARN BlockManager: Putting block rdd_272_46 failed\n",
      "21/10/01 20:45:34 WARN MemoryStore: Not enough space to cache rdd_272_45 in memory! (computed 2.7 MiB so far)\n",
      "21/10/01 20:45:34 WARN BlockManager: Block rdd_272_45 could not be removed as it was not found on disk or in memory\n",
      "21/10/01 20:45:34 WARN BlockManager: Putting block rdd_272_45 failed\n",
      "21/10/01 20:45:53 WARN MemoryStore: Failed to reserve initial memory threshold of 1024.0 KiB for computing block rdd_272_51 in memory.\n",
      "21/10/01 20:45:58 WARN MemoryStore: Not enough space to cache rdd_272_48 in memory! (computed 1572.5 KiB so far)\n",
      "21/10/01 20:45:58 WARN BlockManager: Block rdd_272_48 could not be removed as it was not found on disk or in memory\n",
      "21/10/01 20:45:58 WARN BlockManager: Putting block rdd_272_48 failed\n",
      "21/10/01 20:45:58 WARN MemoryStore: Not enough space to cache rdd_272_51 in memory! (computed 0.0 B so far)\n",
      "21/10/01 20:45:58 WARN BlockManager: Block rdd_272_51 could not be removed as it was not found on disk or in memory\n",
      "21/10/01 20:45:58 WARN BlockManager: Putting block rdd_272_51 failed\n",
      "21/10/01 20:46:00 WARN MemoryStore: Not enough space to cache rdd_272_50 in memory! (computed 1572.9 KiB so far)\n",
      "21/10/01 20:46:00 WARN BlockManager: Block rdd_272_50 could not be removed as it was not found on disk or in memory\n",
      "21/10/01 20:46:00 WARN BlockManager: Putting block rdd_272_50 failed\n",
      "21/10/01 20:46:00 WARN MemoryStore: Not enough space to cache rdd_272_49 in memory! (computed 2.7 MiB so far)\n",
      "21/10/01 20:46:00 WARN BlockManager: Block rdd_272_49 could not be removed as it was not found on disk or in memory\n",
      "21/10/01 20:46:00 WARN BlockManager: Putting block rdd_272_49 failed\n",
      "21/10/01 20:46:20 WARN MemoryStore: Failed to reserve initial memory threshold of 1024.0 KiB for computing block rdd_272_55 in memory.\n",
      "21/10/01 20:46:24 WARN MemoryStore: Not enough space to cache rdd_272_53 in memory! (computed 1569.2 KiB so far)\n",
      "21/10/01 20:46:24 WARN BlockManager: Block rdd_272_53 could not be removed as it was not found on disk or in memory\n",
      "21/10/01 20:46:24 WARN BlockManager: Putting block rdd_272_53 failed\n",
      "21/10/01 20:46:25 WARN MemoryStore: Not enough space to cache rdd_272_55 in memory! (computed 0.0 B so far)\n",
      "21/10/01 20:46:25 WARN BlockManager: Block rdd_272_55 could not be removed as it was not found on disk or in memory\n",
      "21/10/01 20:46:25 WARN BlockManager: Putting block rdd_272_55 failed\n",
      "21/10/01 20:46:26 WARN MemoryStore: Not enough space to cache rdd_272_52 in memory! (computed 2.7 MiB so far)\n",
      "21/10/01 20:46:26 WARN BlockManager: Block rdd_272_52 could not be removed as it was not found on disk or in memory\n",
      "21/10/01 20:46:26 WARN BlockManager: Putting block rdd_272_52 failed\n",
      "21/10/01 20:46:28 WARN MemoryStore: Not enough space to cache rdd_272_54 in memory! (computed 2.7 MiB so far)\n",
      "21/10/01 20:46:28 WARN BlockManager: Block rdd_272_54 could not be removed as it was not found on disk or in memory\n",
      "21/10/01 20:46:28 WARN BlockManager: Putting block rdd_272_54 failed\n",
      "21/10/01 20:46:46 WARN MemoryStore: Failed to reserve initial memory threshold of 1024.0 KiB for computing block rdd_272_59 in memory.\n",
      "21/10/01 20:46:49 WARN MemoryStore: Not enough space to cache rdd_272_56 in memory! (computed 1571.7 KiB so far)\n",
      "21/10/01 20:46:49 WARN BlockManager: Block rdd_272_56 could not be removed as it was not found on disk or in memory\n",
      "21/10/01 20:46:49 WARN BlockManager: Putting block rdd_272_56 failed\n",
      "21/10/01 20:46:52 WARN MemoryStore: Not enough space to cache rdd_272_57 in memory! (computed 2.7 MiB so far)\n",
      "21/10/01 20:46:52 WARN BlockManager: Block rdd_272_57 could not be removed as it was not found on disk or in memory\n",
      "21/10/01 20:46:52 WARN BlockManager: Putting block rdd_272_57 failed\n",
      "21/10/01 20:46:52 WARN MemoryStore: Not enough space to cache rdd_272_59 in memory! (computed 0.0 B so far)\n",
      "21/10/01 20:46:52 WARN BlockManager: Block rdd_272_59 could not be removed as it was not found on disk or in memory\n",
      "21/10/01 20:46:52 WARN BlockManager: Putting block rdd_272_59 failed\n",
      "21/10/01 20:46:53 WARN MemoryStore: Not enough space to cache rdd_272_58 in memory! (computed 2.7 MiB so far)\n",
      "21/10/01 20:46:53 WARN BlockManager: Block rdd_272_58 could not be removed as it was not found on disk or in memory\n",
      "21/10/01 20:46:53 WARN BlockManager: Putting block rdd_272_58 failed\n",
      "21/10/01 20:47:13 WARN MemoryStore: Failed to reserve initial memory threshold of 1024.0 KiB for computing block rdd_272_63 in memory.\n",
      "21/10/01 20:47:15 WARN MemoryStore: Not enough space to cache rdd_272_60 in memory! (computed 1571.1 KiB so far)\n",
      "21/10/01 20:47:15 WARN BlockManager: Block rdd_272_60 could not be removed as it was not found on disk or in memory\n",
      "21/10/01 20:47:15 WARN BlockManager: Putting block rdd_272_60 failed\n",
      "21/10/01 20:47:18 WARN MemoryStore: Not enough space to cache rdd_272_61 in memory! (computed 2.7 MiB so far)\n",
      "21/10/01 20:47:18 WARN BlockManager: Block rdd_272_61 could not be removed as it was not found on disk or in memory\n",
      "21/10/01 20:47:18 WARN BlockManager: Putting block rdd_272_61 failed\n",
      "21/10/01 20:47:18 WARN MemoryStore: Not enough space to cache rdd_272_63 in memory! (computed 0.0 B so far)\n",
      "21/10/01 20:47:18 WARN BlockManager: Block rdd_272_63 could not be removed as it was not found on disk or in memory\n",
      "21/10/01 20:47:18 WARN BlockManager: Putting block rdd_272_63 failed\n",
      "21/10/01 20:47:19 WARN MemoryStore: Not enough space to cache rdd_272_62 in memory! (computed 2.7 MiB so far)\n",
      "21/10/01 20:47:19 WARN BlockManager: Block rdd_272_62 could not be removed as it was not found on disk or in memory\n",
      "21/10/01 20:47:19 WARN BlockManager: Putting block rdd_272_62 failed\n",
      "[Stage 148:======================================================>(63 + 1) / 64]\r"
     ]
    },
    {
     "name": "stdout",
     "output_type": "stream",
     "text": [
      "Wall time: 1072.743616104126 seconds\n"
     ]
    },
    {
     "name": "stderr",
     "output_type": "stream",
     "text": [
      "                                                                                \r"
     ]
    }
   ],
   "source": [
    "# part d - run the system test (RUN THIS CELL AS IS... use display cell below to see results)\n",
    "start = time.time()\n",
    "result, top_n, bottom_n = similarityAnalysis(stripesRDD, 20)\n",
    "print(\"Wall time: {} seconds\".format(time.time() - start))\n",
    "# Wall time: 1851.9786894321442 seconds"
   ]
  },
  {
   "cell_type": "code",
   "execution_count": 76,
   "metadata": {
    "application/vnd.databricks.v1+cell": {
     "inputWidgets": {},
     "nuid": "1e276d49-96f1-4f6a-8858-00d804989777",
     "showTitle": false,
     "title": ""
    }
   },
   "outputs": [
    {
     "name": "stdout",
     "output_type": "stream",
     "text": [
      "Pair                     |Cosine, Jaccard, Overlap, Dice \n",
      "first - time             |  0.89,  0.8012,  0.9149, 0.8897\n",
      "time - well              |0.8895,   0.801,   0.892, 0.8895\n",
      "great - time             | 0.875,  0.7757,   0.925, 0.8737\n",
      "part - well              | 0.874,  0.7755,  0.9018, 0.8735\n",
      "first - well             |0.8717,  0.7722,  0.8936, 0.8715\n",
      "part - time              |0.8715,  0.7715,  0.9018, 0.871\n",
      "time - upon              |0.8668,   0.763,  0.9152, 0.8656\n",
      "made - time              | 0.866,  0.7619,  0.9109, 0.8649\n",
      "made - well              |0.8601,  0.7531,  0.9022, 0.8592\n",
      "time - way               |0.8587,  0.7487,  0.9259, 0.8563\n",
      "great - well             |0.8526,  0.7412,  0.8988, 0.8514\n",
      "time - two               |0.8517,  0.7389,  0.9094, 0.8498\n",
      "first - great            |0.8497,  0.7381,  0.8738, 0.8493\n",
      "first - part             |0.8471,  0.7348,  0.8527, 0.8471\n",
      "great - upon             |0.8464,  0.7338,  0.8475, 0.8464\n",
      "upon - well              |0.8444,   0.729,   0.889, 0.8433\n",
      "new - time               |0.8426,   0.724,  0.9133, 0.8399\n",
      "first - two              |0.8411,  0.7249,  0.8737, 0.8405\n",
      "way - well               |0.8357,  0.7146,  0.8986, 0.8335\n",
      "time - us                |0.8357,  0.7105,  0.9318, 0.8308\n"
     ]
    }
   ],
   "source": [
    "displayOutput(top_n)"
   ]
  },
  {
   "cell_type": "code",
   "execution_count": 77,
   "metadata": {
    "application/vnd.databricks.v1+cell": {
     "inputWidgets": {},
     "nuid": "c0d9efbd-b518-4bda-98a2-5bb5f1117f2b",
     "showTitle": false,
     "title": ""
    }
   },
   "outputs": [
    {
     "name": "stdout",
     "output_type": "stream",
     "text": [
      "Pair                     |Cosine, Jaccard, Overlap, Dice \n",
      "region - write           |0.0067,  0.0032,  0.0085, 0.0065\n",
      "relation - snow          |0.0067,  0.0026,  0.0141, 0.0052\n",
      "cardiac - took           |0.0074,  0.0023,  0.0217, 0.0045\n",
      "ever - tumor             |0.0076,   0.002,  0.0263, 0.004\n",
      "came - tumor             |0.0076,   0.002,  0.0263, 0.004\n",
      "let - therapy            |0.0076,   0.003,  0.0161, 0.0059\n",
      "related - stay           |0.0078,  0.0036,  0.0116, 0.0072\n",
      "factors - hear           |0.0078,  0.0039,  0.0094, 0.0077\n",
      "implications - round     |0.0078,  0.0033,  0.0145, 0.0066\n",
      "came - proteins          |0.0079,   0.002,  0.0286, 0.0041\n",
      "population - window      |0.0079,  0.0039,    0.01, 0.0077\n",
      "love - proportional      | 0.008,  0.0029,  0.0185, 0.0058\n",
      "got - multiple           | 0.008,  0.0034,  0.0149, 0.0067\n",
      "changes - fort           |0.0081,  0.0032,  0.0161, 0.0065\n",
      "layer - wife             |0.0081,  0.0038,  0.0119, 0.0075\n",
      "five - sympathy          |0.0081,  0.0034,  0.0149, 0.0068\n",
      "arrival - essential      |0.0081,   0.004,  0.0093, 0.008\n",
      "desert - function        |0.0081,  0.0031,  0.0175, 0.0062\n",
      "fundamental - stood      |0.0081,  0.0038,  0.0115, 0.0077\n",
      "patients - plain         |0.0081,   0.004,  0.0103, 0.0079\n"
     ]
    }
   ],
   "source": [
    "displayOutput(bottom_n)"
   ]
  },
  {
   "cell_type": "markdown",
   "metadata": {
    "application/vnd.databricks.v1+cell": {
     "inputWidgets": {},
     "nuid": "09c78c64-6d5e-4ae0-b098-b7ac7d02830a",
     "showTitle": false,
     "title": ""
    }
   },
   "source": [
    "__Expected output f1RDD:__  \n",
    "<table>\n",
    "<th>MOST SIMILAR:</th>\n",
    "<th>LEAST SIMILAR:</th>\n",
    "<tr><td><pre>\n",
    "Pair                     |Cosine, Jaccard, Overlap, Dice \n",
    "commentary - lady        |   1.0,     1.0,     1.0,   1.0\n",
    "commentary - toes        |   1.0,     1.0,     1.0,   1.0\n",
    "commentary - reply       |   1.0,     1.0,     1.0,   1.0\n",
    "curious - tone           |   1.0,     1.0,     1.0,   1.0\n",
    "curious - lady           |   1.0,     1.0,     1.0,   1.0\n",
    "curious - owe            |   1.0,     1.0,     1.0,   1.0\n",
    "lady - tone              |   1.0,     1.0,     1.0,   1.0\n",
    "reply - tone             |   1.0,     1.0,     1.0,   1.0\n",
    "lady - toes              |   1.0,     1.0,     1.0,   1.0\n",
    "lady - reply             |   1.0,     1.0,     1.0,   1.0\n",
    "</pre></td>\n",
    "<td><pre>\n",
    "\n",
    "Pair                     |Cosine, Jaccard, Overlap, Dice \n",
    "part - time              |0.0294,  0.0149,  0.0303, 0.0294\n",
    "time - upon              |0.0314,  0.0159,  0.0345, 0.0312\n",
    "time - two               |0.0314,  0.0159,  0.0345, 0.0312\n",
    "made - time              |0.0325,  0.0164,   0.037, 0.0323\n",
    "first - time             |0.0338,  0.0169,    0.04, 0.0333\n",
    "new - time               |0.0352,  0.0175,  0.0435, 0.0345\n",
    "part - us                |0.0355,  0.0179,  0.0417, 0.0351\n",
    "little - part            |0.0355,  0.0179,  0.0417, 0.0351\n",
    "made - two               |0.0357,  0.0182,   0.037, 0.0357\n",
    "made - upon              |0.0357,  0.0182,   0.037, 0.0357\n",
    "</pre></td></tr>\n",
    "</table>\n",
    "\n",
    "__Expected output dataRDD:__  \n",
    "<table>\n",
    "<th>Most Similar</th>\n",
    "<th>Least Similar</th>\n",
    "<tr><td><pre>\n",
    "Pair                     |Cosine, Jaccard, Overlap, Dice \n",
    "first - time             |  0.89,  0.8012,  0.9149, 0.8897\n",
    "time - well              |0.8895,   0.801,   0.892, 0.8895\n",
    "great - time             | 0.875,  0.7757,   0.925, 0.8737\n",
    "part - well              | 0.874,  0.7755,  0.9018, 0.8735\n",
    "first - well             |0.8717,  0.7722,  0.8936, 0.8715\n",
    "part - time              |0.8715,  0.7715,  0.9018, 0.871\n",
    "time - upon              |0.8668,   0.763,  0.9152, 0.8656\n",
    "made - time              | 0.866,  0.7619,  0.9109, 0.8649\n",
    "made - well              |0.8601,  0.7531,  0.9022, 0.8592\n",
    "time - way               |0.8587,  0.7487,  0.9259, 0.8563\n",
    "great - well             |0.8526,  0.7412,  0.8988, 0.8514\n",
    "time - two               |0.8517,  0.7389,  0.9094, 0.8498\n",
    "first - great            |0.8497,  0.7381,  0.8738, 0.8493\n",
    "first - part             |0.8471,  0.7348,  0.8527, 0.8471\n",
    "great - upon             |0.8464,  0.7338,  0.8475, 0.8464\n",
    "upon - well              |0.8444,   0.729,   0.889, 0.8433\n",
    "new - time               |0.8426,   0.724,  0.9133, 0.8399\n",
    "first - two              |0.8411,  0.7249,  0.8737, 0.8405\n",
    "way - well               |0.8357,  0.7146,  0.8986, 0.8335\n",
    "time - us                |0.8357,  0.7105,  0.9318, 0.8308\n",
    "\n",
    "</pre></td>\n",
    "<td><pre>\n",
    "Pair                     |Cosine, Jaccard, Overlap, Dice \n",
    "region - write           |0.0067,  0.0032,  0.0085, 0.0065\n",
    "relation - snow          |0.0067,  0.0026,  0.0141, 0.0052\n",
    "cardiac - took           |0.0074,  0.0023,  0.0217, 0.0045\n",
    "ever - tumor             |0.0076,   0.002,  0.0263, 0.004\n",
    "came - tumor             |0.0076,   0.002,  0.0263, 0.004\n",
    "let - therapy            |0.0076,   0.003,  0.0161, 0.0059\n",
    "related - stay           |0.0078,  0.0036,  0.0116, 0.0072\n",
    "factors - hear           |0.0078,  0.0039,  0.0094, 0.0077\n",
    "implications - round     |0.0078,  0.0033,  0.0145, 0.0066\n",
    "came - proteins          |0.0079,   0.002,  0.0286, 0.0041\n",
    "population - window      |0.0079,  0.0039,    0.01, 0.0077\n",
    "love - proportional      | 0.008,  0.0029,  0.0185, 0.0058\n",
    "got - multiple           | 0.008,  0.0034,  0.0149, 0.0067\n",
    "changes - fort           |0.0081,  0.0032,  0.0161, 0.0065\n",
    "layer - wife             |0.0081,  0.0038,  0.0119, 0.0075\n",
    "five - sympathy          |0.0081,  0.0034,  0.0149, 0.0068\n",
    "arrival - essential      |0.0081,   0.004,  0.0093, 0.008\n",
    "desert - function        |0.0081,  0.0031,  0.0175, 0.0062\n",
    "fundamental - stood      |0.0081,  0.0038,  0.0115, 0.0077\n",
    "patients - plain         |0.0081,   0.004,  0.0103, 0.0079\n",
    "</pre></td></tr>\n",
    "</table>"
   ]
  },
  {
   "cell_type": "markdown",
   "metadata": {
    "application/vnd.databricks.v1+cell": {
     "inputWidgets": {},
     "nuid": "63c40693-e756-4efd-985a-7db35c58af83",
     "showTitle": false,
     "title": ""
    }
   },
   "source": [
    "### Congratulations, you have completed HW3! Please refer to the readme for submission instructions.\n",
    "\n",
    "If you would like to provide feedback regarding this homework, please use the survey at: https://docs.google.com/forms/d/e/1FAIpQLSce9feiQeSkdP43A0ZYui1tMGIBfLfzb0rmgToQeZD9bXXX8Q/viewform"
   ]
  },
  {
   "cell_type": "code",
   "execution_count": null,
   "metadata": {
    "application/vnd.databricks.v1+cell": {
     "inputWidgets": {},
     "nuid": "0f095b6f-0866-4e3e-91ec-7ae65e5fa9d0",
     "showTitle": false,
     "title": ""
    }
   },
   "outputs": [],
   "source": []
  }
 ],
 "metadata": {
  "application/vnd.databricks.v1+notebook": {
   "dashboards": [],
   "language": "python",
   "notebookName": "hw3_Workbook_revF20",
   "notebookOrigID": 2162291293013809,
   "widgets": {}
  },
  "kernelspec": {
   "display_name": "Python 3 (ipykernel)",
   "language": "python",
   "name": "python3"
  },
  "language_info": {
   "codemirror_mode": {
    "name": "ipython",
    "version": 3
   },
   "file_extension": ".py",
   "mimetype": "text/x-python",
   "name": "python",
   "nbconvert_exporter": "python",
   "pygments_lexer": "ipython3",
   "version": "3.9.6"
  }
 },
 "nbformat": 4,
 "nbformat_minor": 4
}
